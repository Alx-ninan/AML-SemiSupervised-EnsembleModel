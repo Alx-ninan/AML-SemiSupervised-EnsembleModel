{
  "cells": [
    {
      "cell_type": "code",
      "execution_count": null,
      "metadata": {
        "id": "kshQJKkVFQlB"
      },
      "outputs": [],
      "source": [
        "import pandas as pd\n",
        "import numpy as np\n",
        "import matplotlib.pyplot as plt\n",
        "import seaborn as sns\n",
        "\n",
        "from scipy.stats import chi2_contingency"
      ]
    },
    {
      "cell_type": "code",
      "execution_count": null,
      "metadata": {
        "id": "73c8-0qxFQlD"
      },
      "outputs": [],
      "source": [
        "li_data = pd.read_csv('LI-Small_Trans.csv')"
      ]
    },
    {
      "cell_type": "code",
      "execution_count": null,
      "metadata": {
        "id": "SMHqZ5IDFQlE",
        "outputId": "3c1767f5-d58e-419d-909e-06983a86ff83"
      },
      "outputs": [
        {
          "data": {
            "text/html": [
              "<div>\n",
              "<style scoped>\n",
              "    .dataframe tbody tr th:only-of-type {\n",
              "        vertical-align: middle;\n",
              "    }\n",
              "\n",
              "    .dataframe tbody tr th {\n",
              "        vertical-align: top;\n",
              "    }\n",
              "\n",
              "    .dataframe thead th {\n",
              "        text-align: right;\n",
              "    }\n",
              "</style>\n",
              "<table border=\"1\" class=\"dataframe\">\n",
              "  <thead>\n",
              "    <tr style=\"text-align: right;\">\n",
              "      <th></th>\n",
              "      <th>Timestamp</th>\n",
              "      <th>From Bank</th>\n",
              "      <th>Account</th>\n",
              "      <th>To Bank</th>\n",
              "      <th>Account.1</th>\n",
              "      <th>Amount Received</th>\n",
              "      <th>Receiving Currency</th>\n",
              "      <th>Amount Paid</th>\n",
              "      <th>Payment Currency</th>\n",
              "      <th>Payment Format</th>\n",
              "      <th>Is Laundering</th>\n",
              "    </tr>\n",
              "  </thead>\n",
              "  <tbody>\n",
              "    <tr>\n",
              "      <th>0</th>\n",
              "      <td>2022/09/01 00:08</td>\n",
              "      <td>11</td>\n",
              "      <td>8000ECA90</td>\n",
              "      <td>11</td>\n",
              "      <td>8000ECA90</td>\n",
              "      <td>3195403.00</td>\n",
              "      <td>US Dollar</td>\n",
              "      <td>3195403.00</td>\n",
              "      <td>US Dollar</td>\n",
              "      <td>Reinvestment</td>\n",
              "      <td>0</td>\n",
              "    </tr>\n",
              "    <tr>\n",
              "      <th>1</th>\n",
              "      <td>2022/09/01 00:21</td>\n",
              "      <td>3402</td>\n",
              "      <td>80021DAD0</td>\n",
              "      <td>3402</td>\n",
              "      <td>80021DAD0</td>\n",
              "      <td>1858.96</td>\n",
              "      <td>US Dollar</td>\n",
              "      <td>1858.96</td>\n",
              "      <td>US Dollar</td>\n",
              "      <td>Reinvestment</td>\n",
              "      <td>0</td>\n",
              "    </tr>\n",
              "    <tr>\n",
              "      <th>2</th>\n",
              "      <td>2022/09/01 00:00</td>\n",
              "      <td>11</td>\n",
              "      <td>8000ECA90</td>\n",
              "      <td>1120</td>\n",
              "      <td>8006AA910</td>\n",
              "      <td>592571.00</td>\n",
              "      <td>US Dollar</td>\n",
              "      <td>592571.00</td>\n",
              "      <td>US Dollar</td>\n",
              "      <td>Cheque</td>\n",
              "      <td>0</td>\n",
              "    </tr>\n",
              "    <tr>\n",
              "      <th>3</th>\n",
              "      <td>2022/09/01 00:16</td>\n",
              "      <td>3814</td>\n",
              "      <td>8006AD080</td>\n",
              "      <td>3814</td>\n",
              "      <td>8006AD080</td>\n",
              "      <td>12.32</td>\n",
              "      <td>US Dollar</td>\n",
              "      <td>12.32</td>\n",
              "      <td>US Dollar</td>\n",
              "      <td>Reinvestment</td>\n",
              "      <td>0</td>\n",
              "    </tr>\n",
              "    <tr>\n",
              "      <th>4</th>\n",
              "      <td>2022/09/01 00:00</td>\n",
              "      <td>20</td>\n",
              "      <td>8006AD530</td>\n",
              "      <td>20</td>\n",
              "      <td>8006AD530</td>\n",
              "      <td>2941.56</td>\n",
              "      <td>US Dollar</td>\n",
              "      <td>2941.56</td>\n",
              "      <td>US Dollar</td>\n",
              "      <td>Reinvestment</td>\n",
              "      <td>0</td>\n",
              "    </tr>\n",
              "  </tbody>\n",
              "</table>\n",
              "</div>"
            ],
            "text/plain": [
              "          Timestamp  From Bank    Account  To Bank  Account.1  \\\n",
              "0  2022/09/01 00:08         11  8000ECA90       11  8000ECA90   \n",
              "1  2022/09/01 00:21       3402  80021DAD0     3402  80021DAD0   \n",
              "2  2022/09/01 00:00         11  8000ECA90     1120  8006AA910   \n",
              "3  2022/09/01 00:16       3814  8006AD080     3814  8006AD080   \n",
              "4  2022/09/01 00:00         20  8006AD530       20  8006AD530   \n",
              "\n",
              "   Amount Received Receiving Currency  Amount Paid Payment Currency  \\\n",
              "0       3195403.00          US Dollar   3195403.00        US Dollar   \n",
              "1          1858.96          US Dollar      1858.96        US Dollar   \n",
              "2        592571.00          US Dollar    592571.00        US Dollar   \n",
              "3            12.32          US Dollar        12.32        US Dollar   \n",
              "4          2941.56          US Dollar      2941.56        US Dollar   \n",
              "\n",
              "  Payment Format  Is Laundering  \n",
              "0   Reinvestment              0  \n",
              "1   Reinvestment              0  \n",
              "2         Cheque              0  \n",
              "3   Reinvestment              0  \n",
              "4   Reinvestment              0  "
            ]
          },
          "execution_count": 3,
          "metadata": {},
          "output_type": "execute_result"
        }
      ],
      "source": [
        "li_data.head()"
      ]
    },
    {
      "cell_type": "code",
      "execution_count": null,
      "metadata": {
        "id": "b0BTWkXIFQlE",
        "outputId": "b7a7a5ef-6164-4144-fa59-e8691f194b73"
      },
      "outputs": [
        {
          "data": {
            "text/plain": [
              "(6924049, 11)"
            ]
          },
          "execution_count": 4,
          "metadata": {},
          "output_type": "execute_result"
        }
      ],
      "source": [
        "li_data.shape"
      ]
    },
    {
      "cell_type": "code",
      "execution_count": null,
      "metadata": {
        "id": "AUR3EF8aFQlE",
        "outputId": "cba8d7e4-d6c7-4fae-b0be-4ae7883ad4ea"
      },
      "outputs": [
        {
          "data": {
            "text/plain": [
              "Timestamp             6924049\n",
              "From Bank             6924049\n",
              "Account               6924049\n",
              "To Bank               6924049\n",
              "Account.1             6924049\n",
              "Amount Received       6924049\n",
              "Receiving Currency    6924049\n",
              "Amount Paid           6924049\n",
              "Payment Currency      6924049\n",
              "Payment Format        6924049\n",
              "Is Laundering         6924049\n",
              "dtype: int64"
            ]
          },
          "execution_count": 5,
          "metadata": {},
          "output_type": "execute_result"
        }
      ],
      "source": [
        "li_data.notnull().sum()"
      ]
    },
    {
      "cell_type": "code",
      "execution_count": null,
      "metadata": {
        "id": "OaVQbiggFQlF",
        "outputId": "5c60b781-7c85-4f0d-fd12-38b1c08105fb"
      },
      "outputs": [
        {
          "data": {
            "text/plain": [
              "Timestamp             0\n",
              "From Bank             0\n",
              "Account               0\n",
              "To Bank               0\n",
              "Account.1             0\n",
              "Amount Received       0\n",
              "Receiving Currency    0\n",
              "Amount Paid           0\n",
              "Payment Currency      0\n",
              "Payment Format        0\n",
              "Is Laundering         0\n",
              "dtype: int64"
            ]
          },
          "execution_count": 6,
          "metadata": {},
          "output_type": "execute_result"
        }
      ],
      "source": [
        "li_data.isnull().sum()"
      ]
    },
    {
      "cell_type": "code",
      "execution_count": null,
      "metadata": {
        "id": "8CMr5iF7FQlF",
        "outputId": "ee0150a0-7245-4822-ac4e-c9bdd62bf289"
      },
      "outputs": [
        {
          "data": {
            "text/plain": [
              "Index(['Timestamp', 'From Bank', 'Account', 'To Bank', 'Account.1',\n",
              "       'Amount Received', 'Receiving Currency', 'Amount Paid',\n",
              "       'Payment Currency', 'Payment Format', 'Is Laundering'],\n",
              "      dtype='object')"
            ]
          },
          "execution_count": 7,
          "metadata": {},
          "output_type": "execute_result"
        }
      ],
      "source": [
        "li_data.keys()"
      ]
    },
    {
      "cell_type": "code",
      "execution_count": null,
      "metadata": {
        "id": "i0ur7uhXFQlF",
        "outputId": "c605dfe0-7153-456b-bbb9-b352cd07bdde"
      },
      "outputs": [
        {
          "data": {
            "text/plain": [
              "Timestamp              object\n",
              "From Bank               int64\n",
              "Account                object\n",
              "To Bank                 int64\n",
              "Account.1              object\n",
              "Amount Received       float64\n",
              "Receiving Currency     object\n",
              "Amount Paid           float64\n",
              "Payment Currency       object\n",
              "Payment Format         object\n",
              "Is Laundering           int64\n",
              "dtype: object"
            ]
          },
          "execution_count": 8,
          "metadata": {},
          "output_type": "execute_result"
        }
      ],
      "source": [
        "li_data.dtypes"
      ]
    },
    {
      "cell_type": "code",
      "execution_count": null,
      "metadata": {
        "id": "NNjRV2xkFQlF",
        "outputId": "2736248e-b76a-4e9c-cd08-b9ab57b75984"
      },
      "outputs": [
        {
          "data": {
            "text/plain": [
              "count              6924049\n",
              "unique               14533\n",
              "top       2022/09/01 00:22\n",
              "freq                 15221\n",
              "Name: Timestamp, dtype: object"
            ]
          },
          "execution_count": 9,
          "metadata": {},
          "output_type": "execute_result"
        }
      ],
      "source": [
        "li_data['Timestamp'].describe()"
      ]
    },
    {
      "cell_type": "code",
      "execution_count": null,
      "metadata": {
        "id": "vINHXlTlFQlG",
        "outputId": "a7201ed9-787c-4880-ecfe-104196573862"
      },
      "outputs": [
        {
          "data": {
            "text/plain": [
              "2022/09/01 00:22    15221\n",
              "2022/09/01 00:20    15070\n",
              "2022/09/01 00:01    15062\n",
              "2022/09/01 00:21    15061\n",
              "2022/09/01 00:14    15049\n",
              "                    ...  \n",
              "2022/09/13 16:54        1\n",
              "2022/09/13 01:45        1\n",
              "2022/09/11 14:17        1\n",
              "2022/09/11 11:31        1\n",
              "2022/09/14 10:53        1\n",
              "Name: Timestamp, Length: 14533, dtype: int64"
            ]
          },
          "execution_count": 10,
          "metadata": {},
          "output_type": "execute_result"
        }
      ],
      "source": [
        "li_data['Timestamp'].value_counts()"
      ]
    },
    {
      "cell_type": "code",
      "execution_count": null,
      "metadata": {
        "id": "inNI7aIRFQlG"
      },
      "outputs": [],
      "source": [
        "# Convert the 'Timestamp' column to datetime format\n",
        "li_data['Timestamp'] = pd.to_datetime(li_data['Timestamp'], format='%Y/%m/%d %H:%M:%S')"
      ]
    },
    {
      "cell_type": "code",
      "execution_count": null,
      "metadata": {
        "id": "9kta_U1PFQlG"
      },
      "outputs": [],
      "source": [
        "# Extract the date and time (including seconds) into separate columns\n",
        "li_data['Date'] = li_data['Timestamp'].dt.date\n",
        "li_data['Time'] = li_data['Timestamp'].dt.time"
      ]
    },
    {
      "cell_type": "code",
      "execution_count": null,
      "metadata": {
        "id": "L5A7RQxMFQlG",
        "outputId": "31725376-97e4-45df-9da7-3352ae0cde64"
      },
      "outputs": [
        {
          "data": {
            "text/html": [
              "<div>\n",
              "<style scoped>\n",
              "    .dataframe tbody tr th:only-of-type {\n",
              "        vertical-align: middle;\n",
              "    }\n",
              "\n",
              "    .dataframe tbody tr th {\n",
              "        vertical-align: top;\n",
              "    }\n",
              "\n",
              "    .dataframe thead th {\n",
              "        text-align: right;\n",
              "    }\n",
              "</style>\n",
              "<table border=\"1\" class=\"dataframe\">\n",
              "  <thead>\n",
              "    <tr style=\"text-align: right;\">\n",
              "      <th></th>\n",
              "      <th>Timestamp</th>\n",
              "      <th>From Bank</th>\n",
              "      <th>Account</th>\n",
              "      <th>To Bank</th>\n",
              "      <th>Account.1</th>\n",
              "      <th>Amount Received</th>\n",
              "      <th>Receiving Currency</th>\n",
              "      <th>Amount Paid</th>\n",
              "      <th>Payment Currency</th>\n",
              "      <th>Payment Format</th>\n",
              "      <th>Is Laundering</th>\n",
              "      <th>Date</th>\n",
              "      <th>Time</th>\n",
              "    </tr>\n",
              "  </thead>\n",
              "  <tbody>\n",
              "    <tr>\n",
              "      <th>0</th>\n",
              "      <td>2022-09-01 00:08:00</td>\n",
              "      <td>11</td>\n",
              "      <td>8000ECA90</td>\n",
              "      <td>11</td>\n",
              "      <td>8000ECA90</td>\n",
              "      <td>3195403.00</td>\n",
              "      <td>US Dollar</td>\n",
              "      <td>3195403.00</td>\n",
              "      <td>US Dollar</td>\n",
              "      <td>Reinvestment</td>\n",
              "      <td>0</td>\n",
              "      <td>2022-09-01</td>\n",
              "      <td>00:08:00</td>\n",
              "    </tr>\n",
              "    <tr>\n",
              "      <th>1</th>\n",
              "      <td>2022-09-01 00:21:00</td>\n",
              "      <td>3402</td>\n",
              "      <td>80021DAD0</td>\n",
              "      <td>3402</td>\n",
              "      <td>80021DAD0</td>\n",
              "      <td>1858.96</td>\n",
              "      <td>US Dollar</td>\n",
              "      <td>1858.96</td>\n",
              "      <td>US Dollar</td>\n",
              "      <td>Reinvestment</td>\n",
              "      <td>0</td>\n",
              "      <td>2022-09-01</td>\n",
              "      <td>00:21:00</td>\n",
              "    </tr>\n",
              "    <tr>\n",
              "      <th>2</th>\n",
              "      <td>2022-09-01 00:00:00</td>\n",
              "      <td>11</td>\n",
              "      <td>8000ECA90</td>\n",
              "      <td>1120</td>\n",
              "      <td>8006AA910</td>\n",
              "      <td>592571.00</td>\n",
              "      <td>US Dollar</td>\n",
              "      <td>592571.00</td>\n",
              "      <td>US Dollar</td>\n",
              "      <td>Cheque</td>\n",
              "      <td>0</td>\n",
              "      <td>2022-09-01</td>\n",
              "      <td>00:00:00</td>\n",
              "    </tr>\n",
              "    <tr>\n",
              "      <th>3</th>\n",
              "      <td>2022-09-01 00:16:00</td>\n",
              "      <td>3814</td>\n",
              "      <td>8006AD080</td>\n",
              "      <td>3814</td>\n",
              "      <td>8006AD080</td>\n",
              "      <td>12.32</td>\n",
              "      <td>US Dollar</td>\n",
              "      <td>12.32</td>\n",
              "      <td>US Dollar</td>\n",
              "      <td>Reinvestment</td>\n",
              "      <td>0</td>\n",
              "      <td>2022-09-01</td>\n",
              "      <td>00:16:00</td>\n",
              "    </tr>\n",
              "    <tr>\n",
              "      <th>4</th>\n",
              "      <td>2022-09-01 00:00:00</td>\n",
              "      <td>20</td>\n",
              "      <td>8006AD530</td>\n",
              "      <td>20</td>\n",
              "      <td>8006AD530</td>\n",
              "      <td>2941.56</td>\n",
              "      <td>US Dollar</td>\n",
              "      <td>2941.56</td>\n",
              "      <td>US Dollar</td>\n",
              "      <td>Reinvestment</td>\n",
              "      <td>0</td>\n",
              "      <td>2022-09-01</td>\n",
              "      <td>00:00:00</td>\n",
              "    </tr>\n",
              "  </tbody>\n",
              "</table>\n",
              "</div>"
            ],
            "text/plain": [
              "            Timestamp  From Bank    Account  To Bank  Account.1  \\\n",
              "0 2022-09-01 00:08:00         11  8000ECA90       11  8000ECA90   \n",
              "1 2022-09-01 00:21:00       3402  80021DAD0     3402  80021DAD0   \n",
              "2 2022-09-01 00:00:00         11  8000ECA90     1120  8006AA910   \n",
              "3 2022-09-01 00:16:00       3814  8006AD080     3814  8006AD080   \n",
              "4 2022-09-01 00:00:00         20  8006AD530       20  8006AD530   \n",
              "\n",
              "   Amount Received Receiving Currency  Amount Paid Payment Currency  \\\n",
              "0       3195403.00          US Dollar   3195403.00        US Dollar   \n",
              "1          1858.96          US Dollar      1858.96        US Dollar   \n",
              "2        592571.00          US Dollar    592571.00        US Dollar   \n",
              "3            12.32          US Dollar        12.32        US Dollar   \n",
              "4          2941.56          US Dollar      2941.56        US Dollar   \n",
              "\n",
              "  Payment Format  Is Laundering        Date      Time  \n",
              "0   Reinvestment              0  2022-09-01  00:08:00  \n",
              "1   Reinvestment              0  2022-09-01  00:21:00  \n",
              "2         Cheque              0  2022-09-01  00:00:00  \n",
              "3   Reinvestment              0  2022-09-01  00:16:00  \n",
              "4   Reinvestment              0  2022-09-01  00:00:00  "
            ]
          },
          "execution_count": 32,
          "metadata": {},
          "output_type": "execute_result"
        }
      ],
      "source": [
        "li_data.head()"
      ]
    },
    {
      "cell_type": "code",
      "execution_count": null,
      "metadata": {
        "id": "RfYo-dqeFQlG"
      },
      "outputs": [],
      "source": [
        "# Converting From Bank and To Bank to string\n",
        "\n",
        "bank_columns = ['From Bank', 'To Bank']\n",
        "\n",
        "for bank in bank_columns:\n",
        "    li_data[bank] = li_data[bank].astype(str)"
      ]
    },
    {
      "cell_type": "code",
      "execution_count": null,
      "metadata": {
        "id": "u2vXXJGKFQlG",
        "outputId": "3f04ae7c-ffd2-45fc-c056-c33feb4d88fe"
      },
      "outputs": [
        {
          "data": {
            "text/plain": [
              "Timestamp             datetime64[ns]\n",
              "From Bank                     object\n",
              "Account                       object\n",
              "To Bank                       object\n",
              "Account.1                     object\n",
              "Amount Received              float64\n",
              "Receiving Currency            object\n",
              "Amount Paid                  float64\n",
              "Payment Currency              object\n",
              "Payment Format                object\n",
              "Is Laundering                  int64\n",
              "Date                          object\n",
              "Time                          object\n",
              "dtype: object"
            ]
          },
          "execution_count": 16,
          "metadata": {},
          "output_type": "execute_result"
        }
      ],
      "source": [
        "li_data.dtypes"
      ]
    },
    {
      "cell_type": "code",
      "execution_count": null,
      "metadata": {
        "id": "tVhoD-4FFQlG",
        "outputId": "f6a7ed52-4fc3-4a04-f1cc-af2e86b82099"
      },
      "outputs": [
        {
          "data": {
            "text/plain": [
              "count    6.924049e+06\n",
              "mean     5.148722e-04\n",
              "std      2.268495e-02\n",
              "min      0.000000e+00\n",
              "25%      0.000000e+00\n",
              "50%      0.000000e+00\n",
              "75%      0.000000e+00\n",
              "max      1.000000e+00\n",
              "Name: Is Laundering, dtype: float64"
            ]
          },
          "execution_count": 18,
          "metadata": {},
          "output_type": "execute_result"
        }
      ],
      "source": [
        "li_data['Is Laundering'].describe()"
      ]
    },
    {
      "cell_type": "code",
      "execution_count": null,
      "metadata": {
        "id": "lb4IF6PYFQlG",
        "outputId": "48c92c45-72e6-4122-8799-6a364303cf6d"
      },
      "outputs": [
        {
          "data": {
            "text/plain": [
              "0    6920484\n",
              "1       3565\n",
              "Name: Is Laundering, dtype: int64"
            ]
          },
          "execution_count": 19,
          "metadata": {},
          "output_type": "execute_result"
        }
      ],
      "source": [
        "li_data['Is Laundering'].value_counts()"
      ]
    },
    {
      "cell_type": "code",
      "execution_count": null,
      "metadata": {
        "id": "ptTLtAEiFQlH"
      },
      "outputs": [],
      "source": [
        "#  Convert 'Date' to a numerical format\n",
        "li_data['Date'] = pd.to_datetime(li_data['Date'])\n",
        "li_data['Date'] = li_data['Date'].map(pd.Timestamp.timestamp).astype(int)"
      ]
    },
    {
      "cell_type": "code",
      "execution_count": null,
      "metadata": {
        "id": "dwYERZomFQlH"
      },
      "outputs": [],
      "source": [
        "# If 'Time' is in a datetime format or string, convert to seconds since start of the day\n",
        "li_data['Time'] = pd.to_datetime(li_data['Time'], format='%H:%M:%S').dt.time.apply(lambda x: x.hour * 3600 + x.minute * 60 + x.second)"
      ]
    },
    {
      "cell_type": "code",
      "execution_count": null,
      "metadata": {
        "id": "TfKzOd7zFQlH",
        "outputId": "48b948df-9c25-4414-feec-1511219f1cdb"
      },
      "outputs": [
        {
          "data": {
            "text/plain": [
              "Timestamp             datetime64[ns]\n",
              "From Bank                     object\n",
              "Account                       object\n",
              "To Bank                       object\n",
              "Account.1                     object\n",
              "Amount Received              float64\n",
              "Receiving Currency            object\n",
              "Amount Paid                  float64\n",
              "Payment Currency              object\n",
              "Payment Format                object\n",
              "Is Laundering                  int64\n",
              "Date                           int64\n",
              "Time                           int64\n",
              "dtype: object"
            ]
          },
          "execution_count": 36,
          "metadata": {},
          "output_type": "execute_result"
        }
      ],
      "source": [
        "li_data.dtypes"
      ]
    },
    {
      "cell_type": "code",
      "execution_count": null,
      "metadata": {
        "id": "6ErHLqFYFQlH",
        "outputId": "6bd6e79e-0b90-4f33-e408-ceb62d8c5b10"
      },
      "outputs": [
        {
          "data": {
            "text/html": [
              "<div>\n",
              "<style scoped>\n",
              "    .dataframe tbody tr th:only-of-type {\n",
              "        vertical-align: middle;\n",
              "    }\n",
              "\n",
              "    .dataframe tbody tr th {\n",
              "        vertical-align: top;\n",
              "    }\n",
              "\n",
              "    .dataframe thead th {\n",
              "        text-align: right;\n",
              "    }\n",
              "</style>\n",
              "<table border=\"1\" class=\"dataframe\">\n",
              "  <thead>\n",
              "    <tr style=\"text-align: right;\">\n",
              "      <th></th>\n",
              "      <th>Timestamp</th>\n",
              "      <th>From Bank</th>\n",
              "      <th>Account</th>\n",
              "      <th>To Bank</th>\n",
              "      <th>Account.1</th>\n",
              "      <th>Amount Received</th>\n",
              "      <th>Receiving Currency</th>\n",
              "      <th>Amount Paid</th>\n",
              "      <th>Payment Currency</th>\n",
              "      <th>Payment Format</th>\n",
              "      <th>Is Laundering</th>\n",
              "      <th>Date</th>\n",
              "      <th>Time</th>\n",
              "    </tr>\n",
              "  </thead>\n",
              "  <tbody>\n",
              "    <tr>\n",
              "      <th>0</th>\n",
              "      <td>2022-09-01 00:08:00</td>\n",
              "      <td>11</td>\n",
              "      <td>8000ECA90</td>\n",
              "      <td>11</td>\n",
              "      <td>8000ECA90</td>\n",
              "      <td>3195403.00</td>\n",
              "      <td>US Dollar</td>\n",
              "      <td>3195403.00</td>\n",
              "      <td>US Dollar</td>\n",
              "      <td>Reinvestment</td>\n",
              "      <td>0</td>\n",
              "      <td>1661990400</td>\n",
              "      <td>480</td>\n",
              "    </tr>\n",
              "    <tr>\n",
              "      <th>1</th>\n",
              "      <td>2022-09-01 00:21:00</td>\n",
              "      <td>3402</td>\n",
              "      <td>80021DAD0</td>\n",
              "      <td>3402</td>\n",
              "      <td>80021DAD0</td>\n",
              "      <td>1858.96</td>\n",
              "      <td>US Dollar</td>\n",
              "      <td>1858.96</td>\n",
              "      <td>US Dollar</td>\n",
              "      <td>Reinvestment</td>\n",
              "      <td>0</td>\n",
              "      <td>1661990400</td>\n",
              "      <td>1260</td>\n",
              "    </tr>\n",
              "    <tr>\n",
              "      <th>2</th>\n",
              "      <td>2022-09-01 00:00:00</td>\n",
              "      <td>11</td>\n",
              "      <td>8000ECA90</td>\n",
              "      <td>1120</td>\n",
              "      <td>8006AA910</td>\n",
              "      <td>592571.00</td>\n",
              "      <td>US Dollar</td>\n",
              "      <td>592571.00</td>\n",
              "      <td>US Dollar</td>\n",
              "      <td>Cheque</td>\n",
              "      <td>0</td>\n",
              "      <td>1661990400</td>\n",
              "      <td>0</td>\n",
              "    </tr>\n",
              "    <tr>\n",
              "      <th>3</th>\n",
              "      <td>2022-09-01 00:16:00</td>\n",
              "      <td>3814</td>\n",
              "      <td>8006AD080</td>\n",
              "      <td>3814</td>\n",
              "      <td>8006AD080</td>\n",
              "      <td>12.32</td>\n",
              "      <td>US Dollar</td>\n",
              "      <td>12.32</td>\n",
              "      <td>US Dollar</td>\n",
              "      <td>Reinvestment</td>\n",
              "      <td>0</td>\n",
              "      <td>1661990400</td>\n",
              "      <td>960</td>\n",
              "    </tr>\n",
              "    <tr>\n",
              "      <th>4</th>\n",
              "      <td>2022-09-01 00:00:00</td>\n",
              "      <td>20</td>\n",
              "      <td>8006AD530</td>\n",
              "      <td>20</td>\n",
              "      <td>8006AD530</td>\n",
              "      <td>2941.56</td>\n",
              "      <td>US Dollar</td>\n",
              "      <td>2941.56</td>\n",
              "      <td>US Dollar</td>\n",
              "      <td>Reinvestment</td>\n",
              "      <td>0</td>\n",
              "      <td>1661990400</td>\n",
              "      <td>0</td>\n",
              "    </tr>\n",
              "  </tbody>\n",
              "</table>\n",
              "</div>"
            ],
            "text/plain": [
              "            Timestamp From Bank    Account To Bank  Account.1  \\\n",
              "0 2022-09-01 00:08:00        11  8000ECA90      11  8000ECA90   \n",
              "1 2022-09-01 00:21:00      3402  80021DAD0    3402  80021DAD0   \n",
              "2 2022-09-01 00:00:00        11  8000ECA90    1120  8006AA910   \n",
              "3 2022-09-01 00:16:00      3814  8006AD080    3814  8006AD080   \n",
              "4 2022-09-01 00:00:00        20  8006AD530      20  8006AD530   \n",
              "\n",
              "   Amount Received Receiving Currency  Amount Paid Payment Currency  \\\n",
              "0       3195403.00          US Dollar   3195403.00        US Dollar   \n",
              "1          1858.96          US Dollar      1858.96        US Dollar   \n",
              "2        592571.00          US Dollar    592571.00        US Dollar   \n",
              "3            12.32          US Dollar        12.32        US Dollar   \n",
              "4          2941.56          US Dollar      2941.56        US Dollar   \n",
              "\n",
              "  Payment Format  Is Laundering        Date  Time  \n",
              "0   Reinvestment              0  1661990400   480  \n",
              "1   Reinvestment              0  1661990400  1260  \n",
              "2         Cheque              0  1661990400     0  \n",
              "3   Reinvestment              0  1661990400   960  \n",
              "4   Reinvestment              0  1661990400     0  "
            ]
          },
          "execution_count": 37,
          "metadata": {},
          "output_type": "execute_result"
        }
      ],
      "source": [
        "li_data.head()"
      ]
    },
    {
      "cell_type": "code",
      "execution_count": null,
      "metadata": {
        "id": "pXEATdoAFQlH",
        "outputId": "85ef2789-7aae-4d2d-f95b-7469401caf70"
      },
      "outputs": [
        {
          "data": {
            "text/plain": [
              "count    6.924049e+06\n",
              "mean     1.662322e+09\n",
              "std      2.656369e+05\n",
              "min      1.661990e+09\n",
              "25%      1.662077e+09\n",
              "50%      1.662336e+09\n",
              "75%      1.662595e+09\n",
              "max      1.663373e+09\n",
              "Name: Date, dtype: float64"
            ]
          },
          "execution_count": 38,
          "metadata": {},
          "output_type": "execute_result"
        }
      ],
      "source": [
        "li_data['Date'].describe()"
      ]
    },
    {
      "cell_type": "code",
      "execution_count": null,
      "metadata": {
        "id": "Hbek90C3FQlH",
        "outputId": "ffffe92c-2390-438e-aaa2-9db3d3d63b0f"
      },
      "outputs": [
        {
          "data": {
            "text/html": [
              "<div>\n",
              "<style scoped>\n",
              "    .dataframe tbody tr th:only-of-type {\n",
              "        vertical-align: middle;\n",
              "    }\n",
              "\n",
              "    .dataframe tbody tr th {\n",
              "        vertical-align: top;\n",
              "    }\n",
              "\n",
              "    .dataframe thead th {\n",
              "        text-align: right;\n",
              "    }\n",
              "</style>\n",
              "<table border=\"1\" class=\"dataframe\">\n",
              "  <thead>\n",
              "    <tr style=\"text-align: right;\">\n",
              "      <th></th>\n",
              "      <th>Time</th>\n",
              "      <th>Date</th>\n",
              "      <th>From Bank</th>\n",
              "      <th>Account</th>\n",
              "      <th>To Bank</th>\n",
              "      <th>Account.1</th>\n",
              "      <th>Amount Received</th>\n",
              "      <th>Receiving Currency</th>\n",
              "      <th>Amount Paid</th>\n",
              "      <th>Payment Currency</th>\n",
              "      <th>Payment Format</th>\n",
              "      <th>Is Laundering</th>\n",
              "    </tr>\n",
              "  </thead>\n",
              "  <tbody>\n",
              "    <tr>\n",
              "      <th>0</th>\n",
              "      <td>480</td>\n",
              "      <td>1661990400</td>\n",
              "      <td>11</td>\n",
              "      <td>8000ECA90</td>\n",
              "      <td>11</td>\n",
              "      <td>8000ECA90</td>\n",
              "      <td>3195403.00</td>\n",
              "      <td>US Dollar</td>\n",
              "      <td>3195403.00</td>\n",
              "      <td>US Dollar</td>\n",
              "      <td>Reinvestment</td>\n",
              "      <td>0</td>\n",
              "    </tr>\n",
              "    <tr>\n",
              "      <th>1</th>\n",
              "      <td>1260</td>\n",
              "      <td>1661990400</td>\n",
              "      <td>3402</td>\n",
              "      <td>80021DAD0</td>\n",
              "      <td>3402</td>\n",
              "      <td>80021DAD0</td>\n",
              "      <td>1858.96</td>\n",
              "      <td>US Dollar</td>\n",
              "      <td>1858.96</td>\n",
              "      <td>US Dollar</td>\n",
              "      <td>Reinvestment</td>\n",
              "      <td>0</td>\n",
              "    </tr>\n",
              "    <tr>\n",
              "      <th>2</th>\n",
              "      <td>0</td>\n",
              "      <td>1661990400</td>\n",
              "      <td>11</td>\n",
              "      <td>8000ECA90</td>\n",
              "      <td>1120</td>\n",
              "      <td>8006AA910</td>\n",
              "      <td>592571.00</td>\n",
              "      <td>US Dollar</td>\n",
              "      <td>592571.00</td>\n",
              "      <td>US Dollar</td>\n",
              "      <td>Cheque</td>\n",
              "      <td>0</td>\n",
              "    </tr>\n",
              "    <tr>\n",
              "      <th>3</th>\n",
              "      <td>960</td>\n",
              "      <td>1661990400</td>\n",
              "      <td>3814</td>\n",
              "      <td>8006AD080</td>\n",
              "      <td>3814</td>\n",
              "      <td>8006AD080</td>\n",
              "      <td>12.32</td>\n",
              "      <td>US Dollar</td>\n",
              "      <td>12.32</td>\n",
              "      <td>US Dollar</td>\n",
              "      <td>Reinvestment</td>\n",
              "      <td>0</td>\n",
              "    </tr>\n",
              "    <tr>\n",
              "      <th>4</th>\n",
              "      <td>0</td>\n",
              "      <td>1661990400</td>\n",
              "      <td>20</td>\n",
              "      <td>8006AD530</td>\n",
              "      <td>20</td>\n",
              "      <td>8006AD530</td>\n",
              "      <td>2941.56</td>\n",
              "      <td>US Dollar</td>\n",
              "      <td>2941.56</td>\n",
              "      <td>US Dollar</td>\n",
              "      <td>Reinvestment</td>\n",
              "      <td>0</td>\n",
              "    </tr>\n",
              "  </tbody>\n",
              "</table>\n",
              "</div>"
            ],
            "text/plain": [
              "   Time        Date From Bank    Account To Bank  Account.1  Amount Received  \\\n",
              "0   480  1661990400        11  8000ECA90      11  8000ECA90       3195403.00   \n",
              "1  1260  1661990400      3402  80021DAD0    3402  80021DAD0          1858.96   \n",
              "2     0  1661990400        11  8000ECA90    1120  8006AA910        592571.00   \n",
              "3   960  1661990400      3814  8006AD080    3814  8006AD080            12.32   \n",
              "4     0  1661990400        20  8006AD530      20  8006AD530          2941.56   \n",
              "\n",
              "  Receiving Currency  Amount Paid Payment Currency Payment Format  \\\n",
              "0          US Dollar   3195403.00        US Dollar   Reinvestment   \n",
              "1          US Dollar      1858.96        US Dollar   Reinvestment   \n",
              "2          US Dollar    592571.00        US Dollar         Cheque   \n",
              "3          US Dollar        12.32        US Dollar   Reinvestment   \n",
              "4          US Dollar      2941.56        US Dollar   Reinvestment   \n",
              "\n",
              "   Is Laundering  \n",
              "0              0  \n",
              "1              0  \n",
              "2              0  \n",
              "3              0  \n",
              "4              0  "
            ]
          },
          "execution_count": 39,
          "metadata": {},
          "output_type": "execute_result"
        }
      ],
      "source": [
        "selected_columns = ['Time','Date','From Bank', 'Account', 'To Bank', 'Account.1',\n",
        "       'Amount Received', 'Receiving Currency', 'Amount Paid',\n",
        "       'Payment Currency', 'Payment Format', 'Is Laundering']\n",
        "\n",
        "li_data[selected_columns].head()"
      ]
    },
    {
      "cell_type": "code",
      "execution_count": null,
      "metadata": {
        "id": "16kEb8k-FQlH",
        "outputId": "90ce4cf4-94ec-4ee0-9f71-b1e67ea0e7ec"
      },
      "outputs": [
        {
          "name": "stdout",
          "output_type": "stream",
          "text": [
            "<class 'pandas.core.frame.DataFrame'>\n",
            "RangeIndex: 6924049 entries, 0 to 6924048\n",
            "Data columns (total 12 columns):\n",
            " #   Column              Dtype  \n",
            "---  ------              -----  \n",
            " 0   Time                int64  \n",
            " 1   Date                int64  \n",
            " 2   From Bank           object \n",
            " 3   Account             object \n",
            " 4   To Bank             object \n",
            " 5   Account.1           object \n",
            " 6   Amount Received     float64\n",
            " 7   Receiving Currency  object \n",
            " 8   Amount Paid         float64\n",
            " 9   Payment Currency    object \n",
            " 10  Payment Format      object \n",
            " 11  Is Laundering       int64  \n",
            "dtypes: float64(2), int64(3), object(7)\n",
            "memory usage: 633.9+ MB\n"
          ]
        }
      ],
      "source": [
        "li_data[selected_columns].info()"
      ]
    },
    {
      "cell_type": "code",
      "execution_count": null,
      "metadata": {
        "id": "J-nYghiQFQlH"
      },
      "outputs": [],
      "source": [
        "# Converting Categorical Data into numercial data\n",
        "from sklearn.preprocessing import LabelEncoder\n",
        "\n",
        "LE = LabelEncoder()\n",
        "\n",
        "columns_to_encode = ['From Bank','Account', 'To Bank', 'Account.1', 'Receiving Currency', 'Payment Currency','Payment Format']\n",
        "\n",
        "for column in columns_to_encode:\n",
        "    li_data[column] = LE.fit_transform(li_data[column])"
      ]
    },
    {
      "cell_type": "code",
      "execution_count": null,
      "metadata": {
        "id": "qoos2B4fFQlH",
        "outputId": "9f26ec8a-ae8a-4f11-c32e-8cc2015c68d2"
      },
      "outputs": [
        {
          "data": {
            "text/html": [
              "<div>\n",
              "<style scoped>\n",
              "    .dataframe tbody tr th:only-of-type {\n",
              "        vertical-align: middle;\n",
              "    }\n",
              "\n",
              "    .dataframe tbody tr th {\n",
              "        vertical-align: top;\n",
              "    }\n",
              "\n",
              "    .dataframe thead th {\n",
              "        text-align: right;\n",
              "    }\n",
              "</style>\n",
              "<table border=\"1\" class=\"dataframe\">\n",
              "  <thead>\n",
              "    <tr style=\"text-align: right;\">\n",
              "      <th></th>\n",
              "      <th>Time</th>\n",
              "      <th>Date</th>\n",
              "      <th>From Bank</th>\n",
              "      <th>Account</th>\n",
              "      <th>To Bank</th>\n",
              "      <th>Account.1</th>\n",
              "      <th>Amount Received</th>\n",
              "      <th>Receiving Currency</th>\n",
              "      <th>Amount Paid</th>\n",
              "      <th>Payment Currency</th>\n",
              "      <th>Payment Format</th>\n",
              "      <th>Is Laundering</th>\n",
              "    </tr>\n",
              "  </thead>\n",
              "  <tbody>\n",
              "    <tr>\n",
              "      <th>0</th>\n",
              "      <td>480</td>\n",
              "      <td>1661990400</td>\n",
              "      <td>12</td>\n",
              "      <td>950</td>\n",
              "      <td>12</td>\n",
              "      <td>900</td>\n",
              "      <td>3195403.00</td>\n",
              "      <td>12</td>\n",
              "      <td>3195403.00</td>\n",
              "      <td>12</td>\n",
              "      <td>5</td>\n",
              "      <td>0</td>\n",
              "    </tr>\n",
              "    <tr>\n",
              "      <th>1</th>\n",
              "      <td>1260</td>\n",
              "      <td>1661990400</td>\n",
              "      <td>19417</td>\n",
              "      <td>2772</td>\n",
              "      <td>10968</td>\n",
              "      <td>2446</td>\n",
              "      <td>1858.96</td>\n",
              "      <td>12</td>\n",
              "      <td>1858.96</td>\n",
              "      <td>12</td>\n",
              "      <td>5</td>\n",
              "      <td>0</td>\n",
              "    </tr>\n",
              "    <tr>\n",
              "      <th>2</th>\n",
              "      <td>0</td>\n",
              "      <td>1661990400</td>\n",
              "      <td>12</td>\n",
              "      <td>950</td>\n",
              "      <td>36</td>\n",
              "      <td>8407</td>\n",
              "      <td>592571.00</td>\n",
              "      <td>12</td>\n",
              "      <td>592571.00</td>\n",
              "      <td>12</td>\n",
              "      <td>3</td>\n",
              "      <td>0</td>\n",
              "    </tr>\n",
              "    <tr>\n",
              "      <th>3</th>\n",
              "      <td>960</td>\n",
              "      <td>1661990400</td>\n",
              "      <td>40281</td>\n",
              "      <td>9998</td>\n",
              "      <td>20531</td>\n",
              "      <td>8419</td>\n",
              "      <td>12.32</td>\n",
              "      <td>12</td>\n",
              "      <td>12.32</td>\n",
              "      <td>12</td>\n",
              "      <td>5</td>\n",
              "      <td>0</td>\n",
              "    </tr>\n",
              "    <tr>\n",
              "      <th>4</th>\n",
              "      <td>0</td>\n",
              "      <td>1661990400</td>\n",
              "      <td>901</td>\n",
              "      <td>10001</td>\n",
              "      <td>901</td>\n",
              "      <td>8422</td>\n",
              "      <td>2941.56</td>\n",
              "      <td>12</td>\n",
              "      <td>2941.56</td>\n",
              "      <td>12</td>\n",
              "      <td>5</td>\n",
              "      <td>0</td>\n",
              "    </tr>\n",
              "  </tbody>\n",
              "</table>\n",
              "</div>"
            ],
            "text/plain": [
              "   Time        Date  From Bank  Account  To Bank  Account.1  Amount Received  \\\n",
              "0   480  1661990400         12      950       12        900       3195403.00   \n",
              "1  1260  1661990400      19417     2772    10968       2446          1858.96   \n",
              "2     0  1661990400         12      950       36       8407        592571.00   \n",
              "3   960  1661990400      40281     9998    20531       8419            12.32   \n",
              "4     0  1661990400        901    10001      901       8422          2941.56   \n",
              "\n",
              "   Receiving Currency  Amount Paid  Payment Currency  Payment Format  \\\n",
              "0                  12   3195403.00                12               5   \n",
              "1                  12      1858.96                12               5   \n",
              "2                  12    592571.00                12               3   \n",
              "3                  12        12.32                12               5   \n",
              "4                  12      2941.56                12               5   \n",
              "\n",
              "   Is Laundering  \n",
              "0              0  \n",
              "1              0  \n",
              "2              0  \n",
              "3              0  \n",
              "4              0  "
            ]
          },
          "execution_count": 43,
          "metadata": {},
          "output_type": "execute_result"
        }
      ],
      "source": [
        "df_t = li_data[selected_columns]\n",
        "df_t.head()"
      ]
    },
    {
      "cell_type": "code",
      "execution_count": null,
      "metadata": {
        "id": "hO_eVjx0FQlH",
        "outputId": "d37305b3-d427-473b-eab8-35e9dd1574ee"
      },
      "outputs": [
        {
          "name": "stderr",
          "output_type": "stream",
          "text": [
            "/home/anaconda3/lib/python3.6/site-packages/ipykernel_launcher.py:15: SettingWithCopyWarning: \n",
            "A value is trying to be set on a copy of a slice from a DataFrame.\n",
            "Try using .loc[row_indexer,col_indexer] = value instead\n",
            "\n",
            "See the caveats in the documentation: https://pandas.pydata.org/pandas-docs/stable/user_guide/indexing.html#returning-a-view-versus-a-copy\n",
            "  from ipykernel import kernelapp as app\n",
            "/home/anaconda3/lib/python3.6/site-packages/ipykernel_launcher.py:18: SettingWithCopyWarning: \n",
            "A value is trying to be set on a copy of a slice from a DataFrame.\n",
            "Try using .loc[row_indexer,col_indexer] = value instead\n",
            "\n",
            "See the caveats in the documentation: https://pandas.pydata.org/pandas-docs/stable/user_guide/indexing.html#returning-a-view-versus-a-copy\n",
            "/home/anaconda3/lib/python3.6/site-packages/ipykernel_launcher.py:15: SettingWithCopyWarning: \n",
            "A value is trying to be set on a copy of a slice from a DataFrame.\n",
            "Try using .loc[row_indexer,col_indexer] = value instead\n",
            "\n",
            "See the caveats in the documentation: https://pandas.pydata.org/pandas-docs/stable/user_guide/indexing.html#returning-a-view-versus-a-copy\n",
            "  from ipykernel import kernelapp as app\n",
            "/home/anaconda3/lib/python3.6/site-packages/ipykernel_launcher.py:18: SettingWithCopyWarning: \n",
            "A value is trying to be set on a copy of a slice from a DataFrame.\n",
            "Try using .loc[row_indexer,col_indexer] = value instead\n",
            "\n",
            "See the caveats in the documentation: https://pandas.pydata.org/pandas-docs/stable/user_guide/indexing.html#returning-a-view-versus-a-copy\n",
            "/home/anaconda3/lib/python3.6/site-packages/ipykernel_launcher.py:15: SettingWithCopyWarning: \n",
            "A value is trying to be set on a copy of a slice from a DataFrame.\n",
            "Try using .loc[row_indexer,col_indexer] = value instead\n",
            "\n",
            "See the caveats in the documentation: https://pandas.pydata.org/pandas-docs/stable/user_guide/indexing.html#returning-a-view-versus-a-copy\n",
            "  from ipykernel import kernelapp as app\n",
            "/home/anaconda3/lib/python3.6/site-packages/ipykernel_launcher.py:18: SettingWithCopyWarning: \n",
            "A value is trying to be set on a copy of a slice from a DataFrame.\n",
            "Try using .loc[row_indexer,col_indexer] = value instead\n",
            "\n",
            "See the caveats in the documentation: https://pandas.pydata.org/pandas-docs/stable/user_guide/indexing.html#returning-a-view-versus-a-copy\n",
            "/home/anaconda3/lib/python3.6/site-packages/ipykernel_launcher.py:15: SettingWithCopyWarning: \n",
            "A value is trying to be set on a copy of a slice from a DataFrame.\n",
            "Try using .loc[row_indexer,col_indexer] = value instead\n",
            "\n",
            "See the caveats in the documentation: https://pandas.pydata.org/pandas-docs/stable/user_guide/indexing.html#returning-a-view-versus-a-copy\n",
            "  from ipykernel import kernelapp as app\n",
            "/home/anaconda3/lib/python3.6/site-packages/ipykernel_launcher.py:18: SettingWithCopyWarning: \n",
            "A value is trying to be set on a copy of a slice from a DataFrame.\n",
            "Try using .loc[row_indexer,col_indexer] = value instead\n",
            "\n",
            "See the caveats in the documentation: https://pandas.pydata.org/pandas-docs/stable/user_guide/indexing.html#returning-a-view-versus-a-copy\n",
            "/home/anaconda3/lib/python3.6/site-packages/ipykernel_launcher.py:15: SettingWithCopyWarning: \n",
            "A value is trying to be set on a copy of a slice from a DataFrame.\n",
            "Try using .loc[row_indexer,col_indexer] = value instead\n",
            "\n",
            "See the caveats in the documentation: https://pandas.pydata.org/pandas-docs/stable/user_guide/indexing.html#returning-a-view-versus-a-copy\n",
            "  from ipykernel import kernelapp as app\n",
            "/home/anaconda3/lib/python3.6/site-packages/ipykernel_launcher.py:18: SettingWithCopyWarning: \n",
            "A value is trying to be set on a copy of a slice from a DataFrame.\n",
            "Try using .loc[row_indexer,col_indexer] = value instead\n",
            "\n",
            "See the caveats in the documentation: https://pandas.pydata.org/pandas-docs/stable/user_guide/indexing.html#returning-a-view-versus-a-copy\n",
            "/home/anaconda3/lib/python3.6/site-packages/ipykernel_launcher.py:15: SettingWithCopyWarning: \n",
            "A value is trying to be set on a copy of a slice from a DataFrame.\n",
            "Try using .loc[row_indexer,col_indexer] = value instead\n",
            "\n",
            "See the caveats in the documentation: https://pandas.pydata.org/pandas-docs/stable/user_guide/indexing.html#returning-a-view-versus-a-copy\n",
            "  from ipykernel import kernelapp as app\n",
            "/home/anaconda3/lib/python3.6/site-packages/ipykernel_launcher.py:18: SettingWithCopyWarning: \n",
            "A value is trying to be set on a copy of a slice from a DataFrame.\n",
            "Try using .loc[row_indexer,col_indexer] = value instead\n",
            "\n",
            "See the caveats in the documentation: https://pandas.pydata.org/pandas-docs/stable/user_guide/indexing.html#returning-a-view-versus-a-copy\n",
            "/home/anaconda3/lib/python3.6/site-packages/ipykernel_launcher.py:15: SettingWithCopyWarning: \n",
            "A value is trying to be set on a copy of a slice from a DataFrame.\n",
            "Try using .loc[row_indexer,col_indexer] = value instead\n",
            "\n",
            "See the caveats in the documentation: https://pandas.pydata.org/pandas-docs/stable/user_guide/indexing.html#returning-a-view-versus-a-copy\n",
            "  from ipykernel import kernelapp as app\n",
            "/home/anaconda3/lib/python3.6/site-packages/ipykernel_launcher.py:18: SettingWithCopyWarning: \n",
            "A value is trying to be set on a copy of a slice from a DataFrame.\n",
            "Try using .loc[row_indexer,col_indexer] = value instead\n",
            "\n",
            "See the caveats in the documentation: https://pandas.pydata.org/pandas-docs/stable/user_guide/indexing.html#returning-a-view-versus-a-copy\n",
            "/home/anaconda3/lib/python3.6/site-packages/ipykernel_launcher.py:15: SettingWithCopyWarning: \n",
            "A value is trying to be set on a copy of a slice from a DataFrame.\n",
            "Try using .loc[row_indexer,col_indexer] = value instead\n",
            "\n",
            "See the caveats in the documentation: https://pandas.pydata.org/pandas-docs/stable/user_guide/indexing.html#returning-a-view-versus-a-copy\n",
            "  from ipykernel import kernelapp as app\n",
            "/home/anaconda3/lib/python3.6/site-packages/ipykernel_launcher.py:18: SettingWithCopyWarning: \n",
            "A value is trying to be set on a copy of a slice from a DataFrame.\n",
            "Try using .loc[row_indexer,col_indexer] = value instead\n",
            "\n",
            "See the caveats in the documentation: https://pandas.pydata.org/pandas-docs/stable/user_guide/indexing.html#returning-a-view-versus-a-copy\n",
            "/home/anaconda3/lib/python3.6/site-packages/ipykernel_launcher.py:15: SettingWithCopyWarning: \n",
            "A value is trying to be set on a copy of a slice from a DataFrame.\n",
            "Try using .loc[row_indexer,col_indexer] = value instead\n",
            "\n",
            "See the caveats in the documentation: https://pandas.pydata.org/pandas-docs/stable/user_guide/indexing.html#returning-a-view-versus-a-copy\n",
            "  from ipykernel import kernelapp as app\n",
            "/home/anaconda3/lib/python3.6/site-packages/ipykernel_launcher.py:18: SettingWithCopyWarning: \n",
            "A value is trying to be set on a copy of a slice from a DataFrame.\n",
            "Try using .loc[row_indexer,col_indexer] = value instead\n",
            "\n",
            "See the caveats in the documentation: https://pandas.pydata.org/pandas-docs/stable/user_guide/indexing.html#returning-a-view-versus-a-copy\n",
            "/home/anaconda3/lib/python3.6/site-packages/ipykernel_launcher.py:15: SettingWithCopyWarning: \n",
            "A value is trying to be set on a copy of a slice from a DataFrame.\n",
            "Try using .loc[row_indexer,col_indexer] = value instead\n",
            "\n",
            "See the caveats in the documentation: https://pandas.pydata.org/pandas-docs/stable/user_guide/indexing.html#returning-a-view-versus-a-copy\n",
            "  from ipykernel import kernelapp as app\n",
            "/home/anaconda3/lib/python3.6/site-packages/ipykernel_launcher.py:18: SettingWithCopyWarning: \n",
            "A value is trying to be set on a copy of a slice from a DataFrame.\n",
            "Try using .loc[row_indexer,col_indexer] = value instead\n",
            "\n",
            "See the caveats in the documentation: https://pandas.pydata.org/pandas-docs/stable/user_guide/indexing.html#returning-a-view-versus-a-copy\n",
            "/home/anaconda3/lib/python3.6/site-packages/ipykernel_launcher.py:15: SettingWithCopyWarning: \n",
            "A value is trying to be set on a copy of a slice from a DataFrame.\n",
            "Try using .loc[row_indexer,col_indexer] = value instead\n",
            "\n",
            "See the caveats in the documentation: https://pandas.pydata.org/pandas-docs/stable/user_guide/indexing.html#returning-a-view-versus-a-copy\n",
            "  from ipykernel import kernelapp as app\n",
            "/home/anaconda3/lib/python3.6/site-packages/ipykernel_launcher.py:18: SettingWithCopyWarning: \n",
            "A value is trying to be set on a copy of a slice from a DataFrame.\n",
            "Try using .loc[row_indexer,col_indexer] = value instead\n",
            "\n",
            "See the caveats in the documentation: https://pandas.pydata.org/pandas-docs/stable/user_guide/indexing.html#returning-a-view-versus-a-copy\n"
          ]
        },
        {
          "data": {
            "text/html": [
              "<div>\n",
              "<style scoped>\n",
              "    .dataframe tbody tr th:only-of-type {\n",
              "        vertical-align: middle;\n",
              "    }\n",
              "\n",
              "    .dataframe tbody tr th {\n",
              "        vertical-align: top;\n",
              "    }\n",
              "\n",
              "    .dataframe thead th {\n",
              "        text-align: right;\n",
              "    }\n",
              "</style>\n",
              "<table border=\"1\" class=\"dataframe\">\n",
              "  <thead>\n",
              "    <tr style=\"text-align: right;\">\n",
              "      <th></th>\n",
              "      <th>Time</th>\n",
              "      <th>Date</th>\n",
              "      <th>From Bank</th>\n",
              "      <th>Account</th>\n",
              "      <th>To Bank</th>\n",
              "      <th>Account.1</th>\n",
              "      <th>Amount Received</th>\n",
              "      <th>Receiving Currency</th>\n",
              "      <th>Amount Paid</th>\n",
              "      <th>Payment Currency</th>\n",
              "      <th>Payment Format</th>\n",
              "      <th>Is Laundering</th>\n",
              "    </tr>\n",
              "  </thead>\n",
              "  <tbody>\n",
              "    <tr>\n",
              "      <th>0</th>\n",
              "      <td>-1.0</td>\n",
              "      <td>-1.0</td>\n",
              "      <td>-0.642915</td>\n",
              "      <td>-1.0</td>\n",
              "      <td>-0.578747</td>\n",
              "      <td>-1.0</td>\n",
              "      <td>-0.001486</td>\n",
              "      <td>0.86201</td>\n",
              "      <td>-0.000959</td>\n",
              "      <td>0.855874</td>\n",
              "      <td>1.000000</td>\n",
              "      <td>0</td>\n",
              "    </tr>\n",
              "    <tr>\n",
              "      <th>1</th>\n",
              "      <td>-1.0</td>\n",
              "      <td>-1.0</td>\n",
              "      <td>0.486825</td>\n",
              "      <td>-1.0</td>\n",
              "      <td>0.849407</td>\n",
              "      <td>-1.0</td>\n",
              "      <td>-0.003003</td>\n",
              "      <td>0.86201</td>\n",
              "      <td>-0.003027</td>\n",
              "      <td>0.855874</td>\n",
              "      <td>1.000000</td>\n",
              "      <td>0</td>\n",
              "    </tr>\n",
              "    <tr>\n",
              "      <th>2</th>\n",
              "      <td>-1.0</td>\n",
              "      <td>-1.0</td>\n",
              "      <td>-0.642915</td>\n",
              "      <td>-1.0</td>\n",
              "      <td>-0.575619</td>\n",
              "      <td>-1.0</td>\n",
              "      <td>-0.002722</td>\n",
              "      <td>0.86201</td>\n",
              "      <td>-0.002645</td>\n",
              "      <td>0.855874</td>\n",
              "      <td>-0.009958</td>\n",
              "      <td>0</td>\n",
              "    </tr>\n",
              "    <tr>\n",
              "      <th>3</th>\n",
              "      <td>-1.0</td>\n",
              "      <td>-1.0</td>\n",
              "      <td>1.000000</td>\n",
              "      <td>-1.0</td>\n",
              "      <td>1.000000</td>\n",
              "      <td>-1.0</td>\n",
              "      <td>-0.003004</td>\n",
              "      <td>0.86201</td>\n",
              "      <td>-0.003028</td>\n",
              "      <td>0.855874</td>\n",
              "      <td>1.000000</td>\n",
              "      <td>0</td>\n",
              "    </tr>\n",
              "    <tr>\n",
              "      <th>4</th>\n",
              "      <td>-1.0</td>\n",
              "      <td>-1.0</td>\n",
              "      <td>-0.591159</td>\n",
              "      <td>-1.0</td>\n",
              "      <td>-0.462863</td>\n",
              "      <td>-1.0</td>\n",
              "      <td>-0.003002</td>\n",
              "      <td>0.86201</td>\n",
              "      <td>-0.003026</td>\n",
              "      <td>0.855874</td>\n",
              "      <td>1.000000</td>\n",
              "      <td>0</td>\n",
              "    </tr>\n",
              "    <tr>\n",
              "      <th>...</th>\n",
              "      <td>...</td>\n",
              "      <td>...</td>\n",
              "      <td>...</td>\n",
              "      <td>...</td>\n",
              "      <td>...</td>\n",
              "      <td>...</td>\n",
              "      <td>...</td>\n",
              "      <td>...</td>\n",
              "      <td>...</td>\n",
              "      <td>...</td>\n",
              "      <td>...</td>\n",
              "      <td>...</td>\n",
              "    </tr>\n",
              "    <tr>\n",
              "      <th>6924044</th>\n",
              "      <td>1.0</td>\n",
              "      <td>1.0</td>\n",
              "      <td>1.000000</td>\n",
              "      <td>1.0</td>\n",
              "      <td>1.000000</td>\n",
              "      <td>1.0</td>\n",
              "      <td>-0.003004</td>\n",
              "      <td>-1.00000</td>\n",
              "      <td>-0.003028</td>\n",
              "      <td>-1.000000</td>\n",
              "      <td>-1.000000</td>\n",
              "      <td>0</td>\n",
              "    </tr>\n",
              "    <tr>\n",
              "      <th>6924045</th>\n",
              "      <td>1.0</td>\n",
              "      <td>1.0</td>\n",
              "      <td>-0.546330</td>\n",
              "      <td>1.0</td>\n",
              "      <td>-0.473552</td>\n",
              "      <td>1.0</td>\n",
              "      <td>-0.003004</td>\n",
              "      <td>-1.00000</td>\n",
              "      <td>-0.003028</td>\n",
              "      <td>-1.000000</td>\n",
              "      <td>-1.000000</td>\n",
              "      <td>0</td>\n",
              "    </tr>\n",
              "    <tr>\n",
              "      <th>6924046</th>\n",
              "      <td>1.0</td>\n",
              "      <td>1.0</td>\n",
              "      <td>-0.546330</td>\n",
              "      <td>1.0</td>\n",
              "      <td>-0.473552</td>\n",
              "      <td>1.0</td>\n",
              "      <td>-0.003004</td>\n",
              "      <td>-1.00000</td>\n",
              "      <td>-0.003028</td>\n",
              "      <td>-1.000000</td>\n",
              "      <td>-1.000000</td>\n",
              "      <td>0</td>\n",
              "    </tr>\n",
              "    <tr>\n",
              "      <th>6924047</th>\n",
              "      <td>1.0</td>\n",
              "      <td>1.0</td>\n",
              "      <td>-0.598145</td>\n",
              "      <td>1.0</td>\n",
              "      <td>-0.355060</td>\n",
              "      <td>1.0</td>\n",
              "      <td>-0.003004</td>\n",
              "      <td>-1.00000</td>\n",
              "      <td>-0.003028</td>\n",
              "      <td>-1.000000</td>\n",
              "      <td>-1.000000</td>\n",
              "      <td>0</td>\n",
              "    </tr>\n",
              "    <tr>\n",
              "      <th>6924048</th>\n",
              "      <td>1.0</td>\n",
              "      <td>1.0</td>\n",
              "      <td>-0.598145</td>\n",
              "      <td>1.0</td>\n",
              "      <td>-0.355060</td>\n",
              "      <td>1.0</td>\n",
              "      <td>-0.003004</td>\n",
              "      <td>-1.00000</td>\n",
              "      <td>-0.003028</td>\n",
              "      <td>-1.000000</td>\n",
              "      <td>-1.000000</td>\n",
              "      <td>0</td>\n",
              "    </tr>\n",
              "  </tbody>\n",
              "</table>\n",
              "<p>6924049 rows × 12 columns</p>\n",
              "</div>"
            ],
            "text/plain": [
              "         Time  Date  From Bank  Account   To Bank  Account.1  Amount Received  \\\n",
              "0        -1.0  -1.0  -0.642915     -1.0 -0.578747       -1.0        -0.001486   \n",
              "1        -1.0  -1.0   0.486825     -1.0  0.849407       -1.0        -0.003003   \n",
              "2        -1.0  -1.0  -0.642915     -1.0 -0.575619       -1.0        -0.002722   \n",
              "3        -1.0  -1.0   1.000000     -1.0  1.000000       -1.0        -0.003004   \n",
              "4        -1.0  -1.0  -0.591159     -1.0 -0.462863       -1.0        -0.003002   \n",
              "...       ...   ...        ...      ...       ...        ...              ...   \n",
              "6924044   1.0   1.0   1.000000      1.0  1.000000        1.0        -0.003004   \n",
              "6924045   1.0   1.0  -0.546330      1.0 -0.473552        1.0        -0.003004   \n",
              "6924046   1.0   1.0  -0.546330      1.0 -0.473552        1.0        -0.003004   \n",
              "6924047   1.0   1.0  -0.598145      1.0 -0.355060        1.0        -0.003004   \n",
              "6924048   1.0   1.0  -0.598145      1.0 -0.355060        1.0        -0.003004   \n",
              "\n",
              "         Receiving Currency  Amount Paid  Payment Currency  Payment Format  \\\n",
              "0                   0.86201    -0.000959          0.855874        1.000000   \n",
              "1                   0.86201    -0.003027          0.855874        1.000000   \n",
              "2                   0.86201    -0.002645          0.855874       -0.009958   \n",
              "3                   0.86201    -0.003028          0.855874        1.000000   \n",
              "4                   0.86201    -0.003026          0.855874        1.000000   \n",
              "...                     ...          ...               ...             ...   \n",
              "6924044            -1.00000    -0.003028         -1.000000       -1.000000   \n",
              "6924045            -1.00000    -0.003028         -1.000000       -1.000000   \n",
              "6924046            -1.00000    -0.003028         -1.000000       -1.000000   \n",
              "6924047            -1.00000    -0.003028         -1.000000       -1.000000   \n",
              "6924048            -1.00000    -0.003028         -1.000000       -1.000000   \n",
              "\n",
              "         Is Laundering  \n",
              "0                    0  \n",
              "1                    0  \n",
              "2                    0  \n",
              "3                    0  \n",
              "4                    0  \n",
              "...                ...  \n",
              "6924044              0  \n",
              "6924045              0  \n",
              "6924046              0  \n",
              "6924047              0  \n",
              "6924048              0  \n",
              "\n",
              "[6924049 rows x 12 columns]"
            ]
          },
          "execution_count": 44,
          "metadata": {},
          "output_type": "execute_result"
        }
      ],
      "source": [
        "# Applying Standard Scaler for Normalisation\n",
        "\n",
        "from sklearn.preprocessing import StandardScaler\n",
        "\n",
        "scaler = StandardScaler()\n",
        "\n",
        "columns_to_norm = ['Time','Date','From Bank', 'Account', 'To Bank', 'Account.1',\n",
        "       'Amount Received', 'Receiving Currency', 'Amount Paid',\n",
        "       'Payment Currency', 'Payment Format']\n",
        "\n",
        "\n",
        "# Apply the StandardScaler to each column individually\n",
        "for column in columns_to_norm:\n",
        "    # Apply StandardScaler to each column\n",
        "    df_t[column] = scaler.fit_transform(df_t[[column]])\n",
        "\n",
        "    # Clip values to ensure they are within the range [-1, 1]\n",
        "    df_t[column] = np.clip(df_t[column], -1, 1)\n",
        "\n",
        "df_t"
      ]
    },
    {
      "cell_type": "code",
      "execution_count": null,
      "metadata": {
        "id": "40TPKesAFQlH"
      },
      "outputs": [],
      "source": [
        "# Save the DataFrame 'df_t' to a CSV file\n",
        "df_t.to_csv('LI_IBM_norm_Standard_scaler.csv', index=False)"
      ]
    },
    {
      "cell_type": "code",
      "execution_count": null,
      "metadata": {
        "id": "FSKTwz8EFQlI",
        "outputId": "8a37c79a-bcd4-4937-89d2-6274bc513e9d"
      },
      "outputs": [
        {
          "data": {
            "text/html": [
              "<div>\n",
              "<style scoped>\n",
              "    .dataframe tbody tr th:only-of-type {\n",
              "        vertical-align: middle;\n",
              "    }\n",
              "\n",
              "    .dataframe tbody tr th {\n",
              "        vertical-align: top;\n",
              "    }\n",
              "\n",
              "    .dataframe thead th {\n",
              "        text-align: right;\n",
              "    }\n",
              "</style>\n",
              "<table border=\"1\" class=\"dataframe\">\n",
              "  <thead>\n",
              "    <tr style=\"text-align: right;\">\n",
              "      <th></th>\n",
              "      <th>Time</th>\n",
              "      <th>Date</th>\n",
              "      <th>From Bank</th>\n",
              "      <th>Account</th>\n",
              "      <th>To Bank</th>\n",
              "      <th>Account.1</th>\n",
              "      <th>Amount Received</th>\n",
              "      <th>Receiving Currency</th>\n",
              "      <th>Amount Paid</th>\n",
              "      <th>Payment Currency</th>\n",
              "      <th>Payment Format</th>\n",
              "      <th>Is Laundering</th>\n",
              "    </tr>\n",
              "  </thead>\n",
              "  <tbody>\n",
              "    <tr>\n",
              "      <th>0</th>\n",
              "      <td>-1.0</td>\n",
              "      <td>-1.0</td>\n",
              "      <td>-0.642915</td>\n",
              "      <td>-1.0</td>\n",
              "      <td>-0.578747</td>\n",
              "      <td>-1.0</td>\n",
              "      <td>-0.001486</td>\n",
              "      <td>0.86201</td>\n",
              "      <td>-0.000959</td>\n",
              "      <td>0.855874</td>\n",
              "      <td>1.000000</td>\n",
              "      <td>0</td>\n",
              "    </tr>\n",
              "    <tr>\n",
              "      <th>1</th>\n",
              "      <td>-1.0</td>\n",
              "      <td>-1.0</td>\n",
              "      <td>0.486825</td>\n",
              "      <td>-1.0</td>\n",
              "      <td>0.849407</td>\n",
              "      <td>-1.0</td>\n",
              "      <td>-0.003003</td>\n",
              "      <td>0.86201</td>\n",
              "      <td>-0.003027</td>\n",
              "      <td>0.855874</td>\n",
              "      <td>1.000000</td>\n",
              "      <td>0</td>\n",
              "    </tr>\n",
              "    <tr>\n",
              "      <th>2</th>\n",
              "      <td>-1.0</td>\n",
              "      <td>-1.0</td>\n",
              "      <td>-0.642915</td>\n",
              "      <td>-1.0</td>\n",
              "      <td>-0.575619</td>\n",
              "      <td>-1.0</td>\n",
              "      <td>-0.002722</td>\n",
              "      <td>0.86201</td>\n",
              "      <td>-0.002645</td>\n",
              "      <td>0.855874</td>\n",
              "      <td>-0.009958</td>\n",
              "      <td>0</td>\n",
              "    </tr>\n",
              "    <tr>\n",
              "      <th>3</th>\n",
              "      <td>-1.0</td>\n",
              "      <td>-1.0</td>\n",
              "      <td>1.000000</td>\n",
              "      <td>-1.0</td>\n",
              "      <td>1.000000</td>\n",
              "      <td>-1.0</td>\n",
              "      <td>-0.003004</td>\n",
              "      <td>0.86201</td>\n",
              "      <td>-0.003028</td>\n",
              "      <td>0.855874</td>\n",
              "      <td>1.000000</td>\n",
              "      <td>0</td>\n",
              "    </tr>\n",
              "    <tr>\n",
              "      <th>4</th>\n",
              "      <td>-1.0</td>\n",
              "      <td>-1.0</td>\n",
              "      <td>-0.591159</td>\n",
              "      <td>-1.0</td>\n",
              "      <td>-0.462863</td>\n",
              "      <td>-1.0</td>\n",
              "      <td>-0.003002</td>\n",
              "      <td>0.86201</td>\n",
              "      <td>-0.003026</td>\n",
              "      <td>0.855874</td>\n",
              "      <td>1.000000</td>\n",
              "      <td>0</td>\n",
              "    </tr>\n",
              "  </tbody>\n",
              "</table>\n",
              "</div>"
            ],
            "text/plain": [
              "   Time  Date  From Bank  Account   To Bank  Account.1  Amount Received  \\\n",
              "0  -1.0  -1.0  -0.642915     -1.0 -0.578747       -1.0        -0.001486   \n",
              "1  -1.0  -1.0   0.486825     -1.0  0.849407       -1.0        -0.003003   \n",
              "2  -1.0  -1.0  -0.642915     -1.0 -0.575619       -1.0        -0.002722   \n",
              "3  -1.0  -1.0   1.000000     -1.0  1.000000       -1.0        -0.003004   \n",
              "4  -1.0  -1.0  -0.591159     -1.0 -0.462863       -1.0        -0.003002   \n",
              "\n",
              "   Receiving Currency  Amount Paid  Payment Currency  Payment Format  \\\n",
              "0             0.86201    -0.000959          0.855874        1.000000   \n",
              "1             0.86201    -0.003027          0.855874        1.000000   \n",
              "2             0.86201    -0.002645          0.855874       -0.009958   \n",
              "3             0.86201    -0.003028          0.855874        1.000000   \n",
              "4             0.86201    -0.003026          0.855874        1.000000   \n",
              "\n",
              "   Is Laundering  \n",
              "0              0  \n",
              "1              0  \n",
              "2              0  \n",
              "3              0  \n",
              "4              0  "
            ]
          },
          "execution_count": 2,
          "metadata": {},
          "output_type": "execute_result"
        }
      ],
      "source": [
        "df_normt = pd.read_csv('LI_IBM_norm_Standard_scaler.csv')\n",
        "df_normt.head()"
      ]
    },
    {
      "cell_type": "code",
      "execution_count": null,
      "metadata": {
        "id": "T4x6Wki1FQlI",
        "outputId": "ee93a2ea-c7cf-4fdb-e186-88679f3837e7"
      },
      "outputs": [
        {
          "data": {
            "text/plain": [
              "(6924049, 12)"
            ]
          },
          "execution_count": 47,
          "metadata": {},
          "output_type": "execute_result"
        }
      ],
      "source": [
        "df_normt.shape"
      ]
    },
    {
      "cell_type": "code",
      "execution_count": null,
      "metadata": {
        "id": "EY6lMcdzFQlI",
        "outputId": "3b7cf57d-c621-4245-985d-685863a55eb2"
      },
      "outputs": [
        {
          "data": {
            "text/plain": [
              "['Time',\n",
              " 'Date',\n",
              " 'From Bank',\n",
              " 'Account',\n",
              " 'To Bank',\n",
              " 'Account.1',\n",
              " 'Amount Received',\n",
              " 'Receiving Currency',\n",
              " 'Amount Paid',\n",
              " 'Payment Currency',\n",
              " 'Payment Format']"
            ]
          },
          "execution_count": 3,
          "metadata": {},
          "output_type": "execute_result"
        }
      ],
      "source": [
        "# Using Conditional  List Comphersion to select the feature columns\n",
        "\n",
        "feature_cols = [item for item in df_normt.columns if item != 'Is Laundering']\n",
        "feature_cols"
      ]
    },
    {
      "cell_type": "code",
      "execution_count": null,
      "metadata": {
        "id": "XG2ho8_zFQlI"
      },
      "outputs": [],
      "source": [
        "# Applying SMOTE to balance the dataset\n",
        "\n",
        "from imblearn.over_sampling import SMOTE\n",
        "\n",
        "X= df_normt[feature_cols]\n",
        "y= df_normt['Is Laundering']\n",
        "\n",
        "smote = SMOTE(random_state=42)\n",
        "X_resampled, y_resampled = smote.fit_resample(X, y)"
      ]
    },
    {
      "cell_type": "code",
      "execution_count": null,
      "metadata": {
        "id": "ymToEjcFFQlI",
        "outputId": "d3ecbff9-1a74-42d8-a184-e65f26d264fe"
      },
      "outputs": [
        {
          "data": {
            "text/plain": [
              "1    6920484\n",
              "0    6920484\n",
              "Name: Is Laundering, dtype: int64"
            ]
          },
          "execution_count": 5,
          "metadata": {},
          "output_type": "execute_result"
        }
      ],
      "source": [
        "y_resampled.value_counts()"
      ]
    },
    {
      "cell_type": "code",
      "execution_count": null,
      "metadata": {
        "id": "mrgtvus4FQlI"
      },
      "outputs": [],
      "source": [
        "# Spliting data into training and testing samples\n",
        "\n",
        "from sklearn.model_selection import train_test_split\n",
        "X_train, X_test, y_train, y_test = train_test_split(X_resampled, y_resampled, test_size=0.25, random_state=0)"
      ]
    },
    {
      "cell_type": "code",
      "execution_count": null,
      "metadata": {
        "id": "YVknHTe9FQlI"
      },
      "outputs": [],
      "source": [
        "# Loading the RF Blended model\n",
        "\n",
        "import joblib\n",
        "\n",
        "rf_loaded = joblib.load('random_forest_model.pkl')"
      ]
    },
    {
      "cell_type": "code",
      "execution_count": null,
      "metadata": {
        "id": "772w0vO-FQlI",
        "outputId": "a977cfcd-55b6-4a6b-ee2f-bbb8cde6dbd7"
      },
      "outputs": [
        {
          "name": "stdout",
          "output_type": "stream",
          "text": [
            "[[1726868    3387]\n",
            " [   1308 1728679]] \n",
            "\n",
            "Mean Absolute Error: 0.0013568415157090168\n",
            "Mean Squared Error: 0.0013568415157090168\n",
            "Root Mean Squared Error: 0.03683532972173613 \n",
            "\n",
            "              precision    recall  f1-score   support\n",
            "\n",
            "           0       1.00      1.00      1.00   1730255\n",
            "           1       1.00      1.00      1.00   1729987\n",
            "\n",
            "    accuracy                           1.00   3460242\n",
            "   macro avg       1.00      1.00      1.00   3460242\n",
            "weighted avg       1.00      1.00      1.00   3460242\n",
            "\n",
            "Accuracy: 0.998643158484291\n",
            "AUC: 0.9986432050107897\n"
          ]
        }
      ],
      "source": [
        "#fit the classifier to the data\n",
        "rf_loaded_model = rf_loaded.fit(X_train, y_train)\n",
        "\n",
        "#use the resulting model to predict value on the test set\n",
        "rf_loaded_predictions_IBM = rf_loaded.predict(X_test)\n",
        "\n",
        "\n",
        "#performance metrics\n",
        "from sklearn import metrics\n",
        "from sklearn.metrics import accuracy_score, confusion_matrix, classification_report, roc_auc_score\n",
        "\n",
        "print(confusion_matrix(y_test, rf_loaded_predictions_IBM), '\\n')\n",
        "print('Mean Absolute Error:', metrics.mean_absolute_error(y_test, rf_loaded_predictions_IBM))\n",
        "print('Mean Squared Error:', metrics.mean_squared_error(y_test, rf_loaded_predictions_IBM))\n",
        "print('Root Mean Squared Error:', np.sqrt(metrics.mean_squared_error(y_test, rf_loaded_predictions_IBM)), '\\n')\n",
        "\n",
        "print(classification_report(y_test, rf_loaded_predictions_IBM))\n",
        "print(\"Accuracy:\", accuracy_score(y_test, rf_loaded_predictions_IBM))\n",
        "print(\"AUC:\", roc_auc_score(y_test, rf_loaded_predictions_IBM))"
      ]
    },
    {
      "cell_type": "code",
      "execution_count": null,
      "metadata": {
        "id": "JogV-BBaFQlI",
        "outputId": "0074c2db-6f90-45ab-d176-eea785f9305a"
      },
      "outputs": [
        {
          "ename": "NameError",
          "evalue": "name 'y_pred' is not defined",
          "output_type": "error",
          "traceback": [
            "\u001b[0;31m---------------------------------------------------------------------------\u001b[0m",
            "\u001b[0;31mNameError\u001b[0m                                 Traceback (most recent call last)",
            "\u001b[0;32m<ipython-input-11-18a27fc93f09>\u001b[0m in \u001b[0;36m<module>\u001b[0;34m\u001b[0m\n\u001b[1;32m      6\u001b[0m \u001b[0my_pred_IBM\u001b[0m \u001b[0;34m=\u001b[0m \u001b[0mcross_val_predict\u001b[0m\u001b[0;34m(\u001b[0m\u001b[0mrf_loaded_model\u001b[0m\u001b[0;34m,\u001b[0m \u001b[0mX_resampled\u001b[0m\u001b[0;34m,\u001b[0m \u001b[0my_resampled\u001b[0m\u001b[0;34m,\u001b[0m \u001b[0mcv\u001b[0m\u001b[0;34m=\u001b[0m\u001b[0;36m5\u001b[0m\u001b[0;34m)\u001b[0m\u001b[0;34m\u001b[0m\u001b[0;34m\u001b[0m\u001b[0m\n\u001b[1;32m      7\u001b[0m \u001b[0;34m\u001b[0m\u001b[0m\n\u001b[0;32m----> 8\u001b[0;31m \u001b[0mprint\u001b[0m\u001b[0;34m(\u001b[0m\u001b[0mconfusion_matrix\u001b[0m\u001b[0;34m(\u001b[0m\u001b[0my_resampled\u001b[0m\u001b[0;34m,\u001b[0m \u001b[0my_pred\u001b[0m\u001b[0;34m)\u001b[0m\u001b[0;34m,\u001b[0m \u001b[0;34m'\\n'\u001b[0m\u001b[0;34m)\u001b[0m\u001b[0;34m\u001b[0m\u001b[0;34m\u001b[0m\u001b[0m\n\u001b[0m\u001b[1;32m      9\u001b[0m \u001b[0mprint\u001b[0m\u001b[0;34m(\u001b[0m\u001b[0;34m'Mean Absolute Error:'\u001b[0m\u001b[0;34m,\u001b[0m \u001b[0mmetrics\u001b[0m\u001b[0;34m.\u001b[0m\u001b[0mmean_absolute_error\u001b[0m\u001b[0;34m(\u001b[0m\u001b[0my_resampled\u001b[0m\u001b[0;34m,\u001b[0m \u001b[0my_pred_IBM\u001b[0m\u001b[0;34m)\u001b[0m\u001b[0;34m)\u001b[0m\u001b[0;34m\u001b[0m\u001b[0;34m\u001b[0m\u001b[0m\n\u001b[1;32m     10\u001b[0m \u001b[0mprint\u001b[0m\u001b[0;34m(\u001b[0m\u001b[0;34m'Mean Squared Error:'\u001b[0m\u001b[0;34m,\u001b[0m \u001b[0mmetrics\u001b[0m\u001b[0;34m.\u001b[0m\u001b[0mmean_squared_error\u001b[0m\u001b[0;34m(\u001b[0m\u001b[0my_resampled\u001b[0m\u001b[0;34m,\u001b[0m \u001b[0my_pred_IBM\u001b[0m\u001b[0;34m)\u001b[0m\u001b[0;34m)\u001b[0m\u001b[0;34m\u001b[0m\u001b[0;34m\u001b[0m\u001b[0m\n",
            "\u001b[0;31mNameError\u001b[0m: name 'y_pred' is not defined"
          ]
        }
      ],
      "source": [
        "#performance metrics\n",
        "\n",
        "from sklearn.model_selection import cross_val_predict\n",
        "\n",
        "#predicted values\n",
        "y_pred_IBM = cross_val_predict(rf_loaded_model, X_resampled, y_resampled, cv=5)\n",
        "\n",
        "print(confusion_matrix(y_resampled, y_pred_IBM), '\\n')\n",
        "print('Mean Absolute Error:', metrics.mean_absolute_error(y_resampled, y_pred_IBM))\n",
        "print('Mean Squared Error:', metrics.mean_squared_error(y_resampled, y_pred_IBM))\n",
        "print('Root Mean Squared Error:', np.sqrt(metrics.mean_squared_error(y_resampled, y_pred_IBM)), '\\n')\n",
        "\n",
        "print(classification_report(y_resampled, y_pred_IBM))\n",
        "print(\"Accuracy:\", accuracy_score(y_resampled, y_pred_IBM))\n",
        "print(\"AUC:\", roc_auc_score(y_resampled, y_pred_IBM))"
      ]
    },
    {
      "cell_type": "code",
      "execution_count": null,
      "metadata": {
        "id": "zXqSokc4FQlI",
        "outputId": "2a0632d3-db21-49f2-baa8-071d971aedd0"
      },
      "outputs": [
        {
          "name": "stdout",
          "output_type": "stream",
          "text": [
            "[[5490507 1429977]\n",
            " [   4979 6915505]] \n",
            "\n",
            "Mean Absolute Error: 0.1036745406824147\n",
            "Mean Squared Error: 0.1036745406824147\n",
            "Root Mean Squared Error: 0.32198531128362784 \n",
            "\n",
            "              precision    recall  f1-score   support\n",
            "\n",
            "           0       1.00      0.79      0.88   6920484\n",
            "           1       0.83      1.00      0.91   6920484\n",
            "\n",
            "    accuracy                           0.90  13840968\n",
            "   macro avg       0.91      0.90      0.90  13840968\n",
            "weighted avg       0.91      0.90      0.90  13840968\n",
            "\n",
            "Accuracy: 0.8963254593175853\n",
            "AUC: 0.8963254593175852\n"
          ]
        }
      ],
      "source": [
        "print(confusion_matrix(y_resampled, y_pred_IBM), '\\n')\n",
        "print('Mean Absolute Error:', metrics.mean_absolute_error(y_resampled, y_pred_IBM))\n",
        "print('Mean Squared Error:', metrics.mean_squared_error(y_resampled, y_pred_IBM))\n",
        "print('Root Mean Squared Error:', np.sqrt(metrics.mean_squared_error(y_resampled, y_pred_IBM)), '\\n')\n",
        "\n",
        "print(classification_report(y_resampled, y_pred_IBM))\n",
        "print(\"Accuracy:\", accuracy_score(y_resampled, y_pred_IBM))\n",
        "print(\"AUC:\", roc_auc_score(y_resampled, y_pred_IBM))"
      ]
    },
    {
      "cell_type": "code",
      "execution_count": null,
      "metadata": {
        "id": "Kmma2qvWFQlJ"
      },
      "outputs": [],
      "source": [
        "\n",
        "# Save predictions as a CSV file\n",
        "pd.DataFrame(rf_loaded_predictions_IBM, columns=['Predictions- BlendingRF_IBM']).to_csv('Predictions- BlendingRF_IBM.csv', index=False)"
      ]
    },
    {
      "cell_type": "code",
      "execution_count": null,
      "metadata": {
        "id": "c9CSBHngFQlM"
      },
      "outputs": [],
      "source": [
        "\n",
        "# Save predictions as a CSV file\n",
        "pd.DataFrame(y_pred_IBM, columns=['Predictions- BlendingRF_IBM_CV']).to_csv('Predictions- BlendingRF_IBM_CV.csv', index=False)"
      ]
    },
    {
      "cell_type": "code",
      "execution_count": null,
      "metadata": {
        "id": "T5dlOpAXFQlM"
      },
      "outputs": [],
      "source": []
    }
  ],
  "metadata": {
    "kernelspec": {
      "display_name": "Python 3",
      "language": "python",
      "name": "python3"
    },
    "language_info": {
      "codemirror_mode": {
        "name": "ipython",
        "version": 3
      },
      "file_extension": ".py",
      "mimetype": "text/x-python",
      "name": "python",
      "nbconvert_exporter": "python",
      "pygments_lexer": "ipython3",
      "version": "3.6.10"
    },
    "colab": {
      "provenance": []
    }
  },
  "nbformat": 4,
  "nbformat_minor": 0
}