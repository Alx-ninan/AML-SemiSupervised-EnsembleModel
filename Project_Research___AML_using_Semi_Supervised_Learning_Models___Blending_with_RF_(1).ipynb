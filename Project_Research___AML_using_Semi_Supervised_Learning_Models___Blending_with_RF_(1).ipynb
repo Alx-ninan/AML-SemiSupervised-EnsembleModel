{
  "cells": [
    {
      "cell_type": "code",
      "execution_count": null,
      "metadata": {
        "id": "ldZQX9m5kLbM"
      },
      "outputs": [],
      "source": [
        "import pandas as pd\n",
        "import numpy as np\n",
        "import matplotlib.pyplot as plt\n",
        "import seaborn as sns\n",
        "from scipy.stats import chi2_contingency\n",
        "from sklearn.model_selection import train_test_split\n",
        "\n",
        "# Visualising the Classes and time\n",
        "\n",
        "from sklearn.decomposition import PCA, IncrementalPCA, LatentDirichletAllocation\n",
        "from tqdm.notebook import tqdm, trange"
      ]
    },
    {
      "cell_type": "code",
      "execution_count": null,
      "metadata": {
        "id": "cL8NSrmwkLbQ"
      },
      "outputs": [],
      "source": [
        "# Loading the normalised csv data into a DataFrame\n",
        "# StandardScaler used\n",
        "df_normt = pd.read_csv('transactions_norm_standardscaler.csv')"
      ]
    },
    {
      "cell_type": "code",
      "execution_count": null,
      "metadata": {
        "id": "ucU_3YXEkLbR",
        "outputId": "c6cb8fa3-1fb1-42eb-c284-3fa77218079d"
      },
      "outputs": [
        {
          "data": {
            "text/html": [
              "<div>\n",
              "<style scoped>\n",
              "    .dataframe tbody tr th:only-of-type {\n",
              "        vertical-align: middle;\n",
              "    }\n",
              "\n",
              "    .dataframe tbody tr th {\n",
              "        vertical-align: top;\n",
              "    }\n",
              "\n",
              "    .dataframe thead th {\n",
              "        text-align: right;\n",
              "    }\n",
              "</style>\n",
              "<table border=\"1\" class=\"dataframe\">\n",
              "  <thead>\n",
              "    <tr style=\"text-align: right;\">\n",
              "      <th></th>\n",
              "      <th>Time</th>\n",
              "      <th>Date</th>\n",
              "      <th>Sender_account</th>\n",
              "      <th>Receiver_account</th>\n",
              "      <th>Amount</th>\n",
              "      <th>Payment_currency</th>\n",
              "      <th>Received_currency</th>\n",
              "      <th>Sender_bank_location</th>\n",
              "      <th>Receiver_bank_location</th>\n",
              "      <th>Payment_type</th>\n",
              "      <th>Laundering_type</th>\n",
              "      <th>Is_laundering</th>\n",
              "    </tr>\n",
              "  </thead>\n",
              "  <tbody>\n",
              "    <tr>\n",
              "      <th>0</th>\n",
              "      <td>-0.716449</td>\n",
              "      <td>-1.0</td>\n",
              "      <td>1.000000</td>\n",
              "      <td>-0.775333</td>\n",
              "      <td>-0.285139</td>\n",
              "      <td>0.171435</td>\n",
              "      <td>0.23455</td>\n",
              "      <td>0.156459</td>\n",
              "      <td>0.226096</td>\n",
              "      <td>-1.000000</td>\n",
              "      <td>-1.000000</td>\n",
              "      <td>0</td>\n",
              "    </tr>\n",
              "    <tr>\n",
              "      <th>1</th>\n",
              "      <td>-0.716400</td>\n",
              "      <td>-1.0</td>\n",
              "      <td>-1.000000</td>\n",
              "      <td>1.000000</td>\n",
              "      <td>-0.107099</td>\n",
              "      <td>0.171435</td>\n",
              "      <td>-1.00000</td>\n",
              "      <td>0.156459</td>\n",
              "      <td>-0.191672</td>\n",
              "      <td>0.793335</td>\n",
              "      <td>-0.678404</td>\n",
              "      <td>0</td>\n",
              "    </tr>\n",
              "    <tr>\n",
              "      <th>2</th>\n",
              "      <td>-0.716400</td>\n",
              "      <td>-1.0</td>\n",
              "      <td>-1.000000</td>\n",
              "      <td>-0.208419</td>\n",
              "      <td>0.217274</td>\n",
              "      <td>0.171435</td>\n",
              "      <td>0.23455</td>\n",
              "      <td>0.156459</td>\n",
              "      <td>0.226096</td>\n",
              "      <td>-0.156956</td>\n",
              "      <td>1.000000</td>\n",
              "      <td>0</td>\n",
              "    </tr>\n",
              "    <tr>\n",
              "      <th>3</th>\n",
              "      <td>-0.716352</td>\n",
              "      <td>-1.0</td>\n",
              "      <td>0.128225</td>\n",
              "      <td>1.000000</td>\n",
              "      <td>0.122274</td>\n",
              "      <td>0.171435</td>\n",
              "      <td>0.23455</td>\n",
              "      <td>0.156459</td>\n",
              "      <td>0.226096</td>\n",
              "      <td>-1.000000</td>\n",
              "      <td>-0.989758</td>\n",
              "      <td>0</td>\n",
              "    </tr>\n",
              "    <tr>\n",
              "      <th>4</th>\n",
              "      <td>-0.716352</td>\n",
              "      <td>-1.0</td>\n",
              "      <td>1.000000</td>\n",
              "      <td>-0.416904</td>\n",
              "      <td>-0.337604</td>\n",
              "      <td>0.171435</td>\n",
              "      <td>0.23455</td>\n",
              "      <td>0.156459</td>\n",
              "      <td>0.226096</td>\n",
              "      <td>-1.000000</td>\n",
              "      <td>-1.000000</td>\n",
              "      <td>0</td>\n",
              "    </tr>\n",
              "  </tbody>\n",
              "</table>\n",
              "</div>"
            ],
            "text/plain": [
              "       Time  Date  Sender_account  Receiver_account    Amount  \\\n",
              "0 -0.716449  -1.0        1.000000         -0.775333 -0.285139   \n",
              "1 -0.716400  -1.0       -1.000000          1.000000 -0.107099   \n",
              "2 -0.716400  -1.0       -1.000000         -0.208419  0.217274   \n",
              "3 -0.716352  -1.0        0.128225          1.000000  0.122274   \n",
              "4 -0.716352  -1.0        1.000000         -0.416904 -0.337604   \n",
              "\n",
              "   Payment_currency  Received_currency  Sender_bank_location  \\\n",
              "0          0.171435            0.23455              0.156459   \n",
              "1          0.171435           -1.00000              0.156459   \n",
              "2          0.171435            0.23455              0.156459   \n",
              "3          0.171435            0.23455              0.156459   \n",
              "4          0.171435            0.23455              0.156459   \n",
              "\n",
              "   Receiver_bank_location  Payment_type  Laundering_type  Is_laundering  \n",
              "0                0.226096     -1.000000        -1.000000              0  \n",
              "1               -0.191672      0.793335        -0.678404              0  \n",
              "2                0.226096     -0.156956         1.000000              0  \n",
              "3                0.226096     -1.000000        -0.989758              0  \n",
              "4                0.226096     -1.000000        -1.000000              0  "
            ]
          },
          "execution_count": 3,
          "metadata": {},
          "output_type": "execute_result"
        }
      ],
      "source": [
        "df_normt.head()"
      ]
    },
    {
      "cell_type": "code",
      "execution_count": null,
      "metadata": {
        "id": "VAYiXNlXkLbS",
        "outputId": "88799ea3-5f9e-4b78-96b3-4b6b638be621"
      },
      "outputs": [
        {
          "data": {
            "text/plain": [
              "Index(['Time', 'Date', 'Sender_account', 'Receiver_account', 'Amount',\n",
              "       'Payment_currency', 'Received_currency', 'Sender_bank_location',\n",
              "       'Receiver_bank_location', 'Payment_type', 'Laundering_type',\n",
              "       'Is_laundering'],\n",
              "      dtype='object')"
            ]
          },
          "execution_count": 4,
          "metadata": {},
          "output_type": "execute_result"
        }
      ],
      "source": [
        "df_normt.keys()"
      ]
    },
    {
      "cell_type": "code",
      "execution_count": null,
      "metadata": {
        "id": "0c37SWkukLbS",
        "outputId": "a9118320-6565-4937-d344-3af8977090cc"
      },
      "outputs": [
        {
          "data": {
            "text/plain": [
              "(9504852, 12)"
            ]
          },
          "execution_count": 5,
          "metadata": {},
          "output_type": "execute_result"
        }
      ],
      "source": [
        "df_normt.shape"
      ]
    },
    {
      "cell_type": "code",
      "execution_count": null,
      "metadata": {
        "id": "9DRs5_8kkLbS",
        "outputId": "67b35e90-4970-49fa-9467-67105b3acf1c"
      },
      "outputs": [
        {
          "data": {
            "text/plain": [
              "array([[-0.71644869, -1.        ,  1.        , ...,  0.22609619,\n",
              "        -1.        , -1.        ],\n",
              "       [-0.71640014, -1.        , -1.        , ..., -0.19167208,\n",
              "         0.79333475, -0.67840436],\n",
              "       [-0.71640014, -1.        , -1.        , ...,  0.22609619,\n",
              "        -0.15695646,  1.        ],\n",
              "       ...,\n",
              "       [-0.65299912,  1.        ,  0.78858573, ...,  0.22609619,\n",
              "        -1.        ,  1.        ],\n",
              "       [-0.65275639,  1.        , -1.        , ...,  0.22609619,\n",
              "        -1.        , -0.98975786],\n",
              "       [-0.65270784,  1.        , -1.        , ...,  0.22609619,\n",
              "        -1.        , -0.67840436]])"
            ]
          },
          "execution_count": 6,
          "metadata": {},
          "output_type": "execute_result"
        }
      ],
      "source": [
        "X = df_normt.iloc[:,:-1].values\n",
        "X"
      ]
    },
    {
      "cell_type": "code",
      "execution_count": null,
      "metadata": {
        "id": "4kF-_8z1kLbS"
      },
      "outputs": [],
      "source": [
        "# Feature Extraction using Principal Componemt Analysis\n",
        "\n",
        "pca = PCA(n_components=2)\n",
        "x_pca = pca.fit_transform(X)"
      ]
    },
    {
      "cell_type": "code",
      "execution_count": null,
      "metadata": {
        "id": "nhnVvU9ykLbT",
        "outputId": "92959d4e-c491-4520-e6c2-1dd94c1b78ac"
      },
      "outputs": [
        {
          "data": {
            "image/png": "[encoded data removed]",
            "text/plain": [
              "<Figure size 864x576 with 2 Axes>"
            ]
          },
          "metadata": {
            "needs_background": "light"
          },
          "output_type": "display_data"
        }
      ],
      "source": [
        "# Visualising\n",
        "\n",
        "fig, axes = plt.subplots(nrows=1, figsize=(12, 8))\n",
        "\n",
        "sizes = pd.Series(df_normt['Is_laundering']+1).pow(5)\n",
        "\n",
        "cmap = plt.get_cmap('coolwarm', 2)\n",
        "\n",
        "scatter1 = axes.scatter(x_pca[:, 0], x_pca[:, 1], s=sizes, c=df_normt['Is_laundering'].values, cmap = cmap)\n",
        "\n",
        "\n",
        "cbar = plt.colorbar(scatter1, ax=axes)\n",
        "cbar.set_label('Is Laundering')\n",
        "\n",
        "axes.set_title('PCA')\n",
        "fig.tight_layout()\n",
        "plt.show()"
      ]
    },
    {
      "cell_type": "code",
      "execution_count": null,
      "metadata": {
        "id": "FX6BNlplkLbT",
        "outputId": "4c9cd836-1052-4346-bef2-5f27d0bf0ba4"
      },
      "outputs": [
        {
          "data": {
            "text/plain": [
              "0    9494979\n",
              "1       9873\n",
              "Name: Is_laundering, dtype: int64"
            ]
          },
          "execution_count": 31,
          "metadata": {},
          "output_type": "execute_result"
        }
      ],
      "source": [
        "df_normt[\"Is_laundering\"].value_counts()"
      ]
    },
    {
      "cell_type": "code",
      "execution_count": null,
      "metadata": {
        "id": "H71NHJl3kLbT",
        "outputId": "1dbefc0c-8b5e-4024-f81a-35c9be51feae"
      },
      "outputs": [
        {
          "data": {
            "image/png": "[encoded data removed]",
            "text/plain": [
              "<Figure size 432x432 with 1 Axes>"
            ]
          },
          "metadata": {},
          "output_type": "display_data"
        }
      ],
      "source": [
        "plt.figure(figsize=(6, 6))\n",
        "\n",
        "df_normt[\"Is_laundering\"].value_counts().plot(kind='pie', autopct='%1.1f%%', title = 'Genuine vs Illegal Transactions')\n",
        "\n",
        "plt.show()"
      ]
    },
    {
      "cell_type": "markdown",
      "metadata": {
        "id": "yTQDetTTkLbU"
      },
      "source": [
        "# Addressing Class Imbalance"
      ]
    },
    {
      "cell_type": "code",
      "execution_count": null,
      "metadata": {
        "id": "r2_igHfekLbV"
      },
      "outputs": [],
      "source": [
        "# Creating separate DataFrames for Laundering Transactions and Normal Transactions\n",
        "t_anom = df_normt[df_normt[\"Is_laundering\"]==1]\n",
        "t_norm = df_normt[df_normt[\"Is_laundering\"]==0]"
      ]
    },
    {
      "cell_type": "code",
      "execution_count": null,
      "metadata": {
        "id": "ocbHladHkLbV",
        "outputId": "10822a99-efb3-410e-d899-1557d663bc39"
      },
      "outputs": [
        {
          "data": {
            "text/plain": [
              "(9873, 12)"
            ]
          },
          "execution_count": 7,
          "metadata": {},
          "output_type": "execute_result"
        }
      ],
      "source": [
        "t_anom.shape"
      ]
    },
    {
      "cell_type": "code",
      "execution_count": null,
      "metadata": {
        "id": "IGUM4bb8kLbV",
        "outputId": "59d1e18a-c226-45cc-bb0c-410404f854cd"
      },
      "outputs": [
        {
          "data": {
            "text/plain": [
              "(9494979, 12)"
            ]
          },
          "execution_count": 8,
          "metadata": {},
          "output_type": "execute_result"
        }
      ],
      "source": [
        "t_norm.shape"
      ]
    },
    {
      "cell_type": "code",
      "execution_count": null,
      "metadata": {
        "id": "ane2RCJqkLbV",
        "outputId": "4a879b87-4305-482c-9ef8-5c1cedcf7884"
      },
      "outputs": [
        {
          "data": {
            "text/plain": [
              "['Time',\n",
              " 'Date',\n",
              " 'Sender_account',\n",
              " 'Receiver_account',\n",
              " 'Amount',\n",
              " 'Payment_currency',\n",
              " 'Received_currency',\n",
              " 'Sender_bank_location',\n",
              " 'Receiver_bank_location',\n",
              " 'Payment_type',\n",
              " 'Laundering_type']"
            ]
          },
          "execution_count": 3,
          "metadata": {},
          "output_type": "execute_result"
        }
      ],
      "source": [
        "# Using Conditional  List Comphersion to select the feature columns\n",
        "\n",
        "feature_cols = [item for item in df_normt.columns if item != 'Is_laundering']\n",
        "feature_cols"
      ]
    },
    {
      "cell_type": "code",
      "execution_count": null,
      "metadata": {
        "id": "u9cyWVE7kLbW"
      },
      "outputs": [],
      "source": [
        "# Applying SMOTE to balance the dataset\n",
        "\n",
        "from imblearn.over_sampling import SMOTE\n",
        "\n",
        "X= df_normt[feature_cols]\n",
        "y= df_normt['Is_laundering']\n",
        "\n",
        "smote = SMOTE(random_state=42)\n",
        "X_resampled, y_resampled = smote.fit_resample(X, y)"
      ]
    },
    {
      "cell_type": "code",
      "execution_count": null,
      "metadata": {
        "id": "uHWKGYNnkLbW",
        "outputId": "2006f0df-e676-48c0-d881-419f2dc05445"
      },
      "outputs": [
        {
          "data": {
            "text/plain": [
              "1    9494979\n",
              "0    9494979\n",
              "Name: Is_laundering, dtype: int64"
            ]
          },
          "execution_count": 5,
          "metadata": {},
          "output_type": "execute_result"
        }
      ],
      "source": [
        "y_resampled.value_counts()"
      ]
    },
    {
      "cell_type": "markdown",
      "metadata": {
        "id": "Z7oJmOs6kLbW"
      },
      "source": [
        "# Training"
      ]
    },
    {
      "cell_type": "code",
      "execution_count": null,
      "metadata": {
        "id": "TrIWJ1EQkLbW"
      },
      "outputs": [],
      "source": [
        "# Spliting data into training and testing samples\n",
        "\n",
        "from sklearn.model_selection import train_test_split\n",
        "X_train, X_test, y_train, y_test = train_test_split(X_resampled, y_resampled, test_size=0.25, random_state=0)"
      ]
    },
    {
      "cell_type": "code",
      "execution_count": null,
      "metadata": {
        "id": "HV866fP_kLbW",
        "outputId": "22b5e952-4ecf-4afd-bceb-7fff58a57e8b"
      },
      "outputs": [
        {
          "data": {
            "text/plain": [
              "(4747490, 11)"
            ]
          },
          "execution_count": 11,
          "metadata": {},
          "output_type": "execute_result"
        }
      ],
      "source": [
        "X_test.shape"
      ]
    },
    {
      "cell_type": "code",
      "execution_count": null,
      "metadata": {
        "id": "JeZUuBNEkLbW",
        "outputId": "039a8968-5a6e-4dc2-bc68-764dfd9c4027"
      },
      "outputs": [
        {
          "data": {
            "text/plain": [
              "(4747490,)"
            ]
          },
          "execution_count": 19,
          "metadata": {},
          "output_type": "execute_result"
        }
      ],
      "source": [
        "y_test.shape"
      ]
    },
    {
      "cell_type": "code",
      "execution_count": null,
      "metadata": {
        "id": "c8c_lyYYkLbW",
        "outputId": "5b618c2c-ab3f-4f11-ffc5-9a04ec005d05"
      },
      "outputs": [
        {
          "data": {
            "text/plain": [
              "1    2373993\n",
              "0    2373497\n",
              "Name: Is_laundering, dtype: int64"
            ]
          },
          "execution_count": 12,
          "metadata": {},
          "output_type": "execute_result"
        }
      ],
      "source": [
        "y_test.value_counts()"
      ]
    },
    {
      "cell_type": "markdown",
      "metadata": {
        "id": "lDoUG5RJkLbX"
      },
      "source": [
        "# Supervised Models"
      ]
    },
    {
      "cell_type": "code",
      "execution_count": null,
      "metadata": {
        "id": "KfhxIegkkLbX",
        "outputId": "75f1cb9d-739a-44c7-c3fd-d5c869c35532"
      },
      "outputs": [
        {
          "name": "stdout",
          "output_type": "stream",
          "text": [
            "[[2112975  260522]\n",
            " [1540034  833959]] \n",
            "\n",
            "Mean Absolute Error: 0.37926483257468685\n",
            "Mean Squared Error: 0.37926483257468685\n",
            "Root Mean Squared Error: 0.6158448120871741 \n",
            "\n",
            "              precision    recall  f1-score   support\n",
            "\n",
            "           0       0.58      0.89      0.70   2373497\n",
            "           1       0.76      0.35      0.48   2373993\n",
            "\n",
            "    accuracy                           0.62   4747490\n",
            "   macro avg       0.67      0.62      0.59   4747490\n",
            "weighted avg       0.67      0.62      0.59   4747490\n",
            "\n",
            "Accuracy: 0.6207351674253132\n",
            "AUC: 0.6207633210341394\n"
          ]
        }
      ],
      "source": [
        "# Naive Bayes Classification\n",
        "\n",
        "# import naive bayes classifier\n",
        "from sklearn.naive_bayes import GaussianNB\n",
        "\n",
        "# initialize the Naive Bayes classifier\n",
        "NB = GaussianNB()\n",
        "\n",
        "#fit the classifier to the data\n",
        "nb_model = NB.fit(X_train, y_train)\n",
        "\n",
        "#use the resulting model to predict value on the test sey\n",
        "nb_predictions = NB.predict(X_test)\n",
        "\n",
        "\n",
        "#performance metrics\n",
        "from sklearn import metrics\n",
        "from sklearn.metrics import accuracy_score, confusion_matrix, classification_report, roc_auc_score\n",
        "\n",
        "print(confusion_matrix(y_test, nb_predictions), '\\n')\n",
        "print('Mean Absolute Error:', metrics.mean_absolute_error(y_test, nb_predictions))\n",
        "print('Mean Squared Error:', metrics.mean_squared_error(y_test, nb_predictions))\n",
        "print('Root Mean Squared Error:', np.sqrt(metrics.mean_squared_error(y_test, nb_predictions)), '\\n')\n",
        "\n",
        "print(classification_report(y_test, nb_predictions))\n",
        "print(\"Accuracy:\", accuracy_score(y_test, nb_predictions))\n",
        "print(\"AUC:\", roc_auc_score(y_test, nb_predictions))"
      ]
    },
    {
      "cell_type": "code",
      "execution_count": null,
      "metadata": {
        "id": "RXzS0S0MkLbX",
        "outputId": "2ef2f975-9054-484c-aede-c57e9b953fae"
      },
      "outputs": [
        {
          "name": "stdout",
          "output_type": "stream",
          "text": [
            "[[2028846  344651]\n",
            " [ 153283 2220710]] \n",
            "\n",
            "Mean Absolute Error: 0.10488363324619956\n",
            "Mean Squared Error: 0.10488363324619956\n",
            "Root Mean Squared Error: 0.3238574273445023 \n",
            "\n",
            "              precision    recall  f1-score   support\n",
            "\n",
            "           0       0.93      0.85      0.89   2373497\n",
            "           1       0.87      0.94      0.90   2373993\n",
            "\n",
            "    accuracy                           0.90   4747490\n",
            "   macro avg       0.90      0.90      0.89   4747490\n",
            "weighted avg       0.90      0.90      0.89   4747490\n",
            "\n",
            "Accuracy: 0.8951163667538005\n",
            "AUC: 0.8951121542439789\n"
          ]
        }
      ],
      "source": [
        "# AdaBoost Classification\n",
        "\n",
        "from sklearn.ensemble import AdaBoostClassifier\n",
        "\n",
        "# Initialize the AdaBoost classifier\n",
        "adb = AdaBoostClassifier(n_estimators=50, random_state=0)\n",
        "\n",
        "# Fit the model to the training data\n",
        "adb_model = adb.fit(X_train, y_train)\n",
        "\n",
        "# Make predictions on the test data\n",
        "adb_predictions = adb.predict(X_test)\n",
        "\n",
        "#performance metrics\n",
        "\n",
        "print(confusion_matrix(y_test, adb_predictions), '\\n')\n",
        "print('Mean Absolute Error:', metrics.mean_absolute_error(y_test, adb_predictions))\n",
        "print('Mean Squared Error:', metrics.mean_squared_error(y_test, adb_predictions))\n",
        "print('Root Mean Squared Error:', np.sqrt(metrics.mean_squared_error(y_test, adb_predictions)), '\\n')\n",
        "\n",
        "print(classification_report(y_test, adb_predictions))\n",
        "print(\"Accuracy:\", accuracy_score(y_test, adb_predictions))\n",
        "print(\"AUC:\", roc_auc_score(y_test, adb_predictions))"
      ]
    },
    {
      "cell_type": "code",
      "execution_count": null,
      "metadata": {
        "id": "MVqTvnDzkLbX",
        "outputId": "f042411d-5f8e-40db-9fc8-a82d94786f81"
      },
      "outputs": [
        {
          "name": "stdout",
          "output_type": "stream",
          "text": [
            "[[2063161  310336]\n",
            " [ 108642 2265351]] \n",
            "\n",
            "Mean Absolute Error: 0.08825252923123587\n",
            "Mean Squared Error: 0.08825252923123587\n",
            "Root Mean Squared Error: 0.29707327249558463 \n",
            "\n",
            "              precision    recall  f1-score   support\n",
            "\n",
            "           0       0.95      0.87      0.91   2373497\n",
            "           1       0.88      0.95      0.92   2373993\n",
            "\n",
            "    accuracy                           0.91   4747490\n",
            "   macro avg       0.91      0.91      0.91   4747490\n",
            "weighted avg       0.91      0.91      0.91   4747490\n",
            "\n",
            "Accuracy: 0.9117474707687642\n",
            "AUC: 0.911743031200003\n"
          ]
        }
      ],
      "source": [
        "# Gradient Boost Classififcation\n",
        "\n",
        "from sklearn.ensemble import GradientBoostingClassifier\n",
        "\n",
        "# Initialize and fit Gradient Boosting classifier for anomaly detection\n",
        "gb = GradientBoostingClassifier(n_estimators=100, random_state=42)\n",
        "\n",
        "gb_model =gb.fit(X_train, y_train)\n",
        "gb_predictions = gb.predict(X_test)\n",
        "\n",
        "#performance metrics\n",
        "\n",
        "print(confusion_matrix(y_test, gb_predictions), '\\n')\n",
        "print('Mean Absolute Error:', metrics.mean_absolute_error(y_test, gb_predictions))\n",
        "print('Mean Squared Error:', metrics.mean_squared_error(y_test, gb_predictions))\n",
        "print('Root Mean Squared Error:', np.sqrt(metrics.mean_squared_error(y_test, gb_predictions)), '\\n')\n",
        "\n",
        "print(classification_report(y_test, gb_predictions))\n",
        "print(\"Accuracy:\", accuracy_score(y_test, gb_predictions))\n",
        "print(\"AUC:\", roc_auc_score(y_test, gb_predictions))"
      ]
    },
    {
      "cell_type": "code",
      "execution_count": null,
      "metadata": {
        "id": "a66RbMf3kLbY",
        "outputId": "62d46cae-68ae-43ed-c548-0c0528378d91"
      },
      "outputs": [
        {
          "name": "stdout",
          "output_type": "stream",
          "text": [
            "Defaulting to user installation because normal site-packages is not writeable\n",
            "Collecting xgboost\n",
            "  Downloading xgboost-1.5.2-py3-none-manylinux2014_x86_64.whl (173.6 MB)\n",
            "     |████████████████████████████████| 173.6 MB 7.6 kB/s             \n",
            "\u001b[?25hRequirement already satisfied: numpy in /home/anaconda3/lib/python3.6/site-packages (from xgboost) (1.19.5)\n",
            "Requirement already satisfied: scipy in /home/anaconda3/lib/python3.6/site-packages (from xgboost) (1.5.2)\n",
            "Installing collected packages: xgboost\n",
            "Successfully installed xgboost-1.5.2\n",
            "Note: you may need to restart the kernel to use updated packages.\n"
          ]
        }
      ],
      "source": [
        "pip install xgboost"
      ]
    },
    {
      "cell_type": "code",
      "execution_count": null,
      "metadata": {
        "id": "2d_ks9xvkLbY",
        "outputId": "25518b7d-5c99-4fd9-fcb8-fa504488e8b6"
      },
      "outputs": [
        {
          "name": "stderr",
          "output_type": "stream",
          "text": [
            "/home/up2215106/.local/lib/python3.6/site-packages/xgboost/sklearn.py:1224: UserWarning: The use of label encoder in XGBClassifier is deprecated and will be removed in a future release. To remove this warning, do the following: 1) Pass option use_label_encoder=False when constructing XGBClassifier object; and 2) Encode your labels (y) as integers starting with 0, i.e. 0, 1, 2, ..., [num_class - 1].\n",
            "  warnings.warn(label_encoder_deprecation_msg, UserWarning)\n"
          ]
        },
        {
          "name": "stdout",
          "output_type": "stream",
          "text": [
            "[20:14:59] WARNING: ../src/learner.cc:1115: Starting in XGBoost 1.3.0, the default evaluation metric used with the objective 'binary:logistic' was changed from 'error' to 'logloss'. Explicitly set eval_metric if you'd like to restore the old behavior.\n",
            "[[2220227  153270]\n",
            " [  75017 2298976]] \n",
            "\n",
            "Mean Absolute Error: 0.04808583061786333\n",
            "Mean Squared Error: 0.04808583061786333\n",
            "Root Mean Squared Error: 0.21928481620455012 \n",
            "\n",
            "              precision    recall  f1-score   support\n",
            "\n",
            "           0       0.97      0.94      0.95   2373497\n",
            "           1       0.94      0.97      0.95   2373993\n",
            "\n",
            "    accuracy                           0.95   4747490\n",
            "   macro avg       0.95      0.95      0.95   4747490\n",
            "weighted avg       0.95      0.95      0.95   4747490\n",
            "\n",
            "Accuracy: 0.9519141693821367\n",
            "AUC: 0.9519124467723601\n"
          ]
        }
      ],
      "source": [
        "# XGboost\n",
        "\n",
        "from xgboost import XGBClassifier\n",
        "\n",
        "# XGBoost for Anomaly Detection\n",
        "xgb = XGBClassifier()\n",
        "\n",
        "xgb_model =xgb.fit(X_train, y_train)\n",
        "y_xgb_pred = xgb.predict(X_test)\n",
        "\n",
        "#performance metrics\n",
        "\n",
        "print(confusion_matrix(y_test, y_xgb_pred), '\\n')\n",
        "print('Mean Absolute Error:', metrics.mean_absolute_error(y_test, y_xgb_pred))\n",
        "print('Mean Squared Error:', metrics.mean_squared_error(y_test, y_xgb_pred))\n",
        "print('Root Mean Squared Error:', np.sqrt(metrics.mean_squared_error(y_test, y_xgb_pred)), '\\n')\n",
        "\n",
        "print(classification_report(y_test, y_xgb_pred))\n",
        "print(\"Accuracy:\", accuracy_score(y_test, y_xgb_pred))\n",
        "print(\"AUC:\", roc_auc_score(y_test, y_xgb_pred))"
      ]
    },
    {
      "cell_type": "markdown",
      "metadata": {
        "id": "0rs5sQN5kLbY"
      },
      "source": [
        "# Unsupervised Models"
      ]
    },
    {
      "cell_type": "code",
      "execution_count": null,
      "metadata": {
        "id": "UXmxaqfmkLbY",
        "outputId": "8bd515f3-cb13-4026-9876-853f6dc8a594"
      },
      "outputs": [
        {
          "name": "stdout",
          "output_type": "stream",
          "text": [
            "[[2304267   69230]\n",
            " [2205061  168932]] \n",
            "\n",
            "Mean Absolute Error: 0.4790512460268479\n",
            "Mean Squared Error: 0.4790512460268479\n",
            "Root Mean Squared Error: 0.6921352801489373 \n",
            "\n",
            "              precision    recall  f1-score   support\n",
            "\n",
            "           0       0.51      0.97      0.67   2373497\n",
            "           1       0.71      0.07      0.13   2373993\n",
            "\n",
            "    accuracy                           0.52   4747490\n",
            "   macro avg       0.61      0.52      0.40   4747490\n",
            "weighted avg       0.61      0.52      0.40   4747490\n",
            "\n",
            "Accuracy: 0.5209487539731521\n",
            "AUC: 0.5209957511891442\n"
          ]
        }
      ],
      "source": [
        "# Isolation Forest\n",
        "\n",
        "from sklearn.ensemble import IsolationForest\n",
        "\n",
        "# Initialize and fit Isolation Forest for anomaly detection\n",
        "iso_forest = IsolationForest(contamination=0.05, random_state=42)\n",
        "iso_forest_model =iso_forest.fit(X_train)\n",
        "iso_forest_predictions = iso_forest.predict(X_test)\n",
        "\n",
        "# Transform predictions from {-1, 1} to {1, 0}\n",
        "iso_forest_predictions = np.where(iso_forest_predictions == -1, 1, 0)\n",
        "\n",
        "\n",
        "#performance metrics\n",
        "\n",
        "print(confusion_matrix(y_test, iso_forest_predictions), '\\n')\n",
        "print('Mean Absolute Error:', metrics.mean_absolute_error(y_test, iso_forest_predictions))\n",
        "print('Mean Squared Error:', metrics.mean_squared_error(y_test, iso_forest_predictions))\n",
        "print('Root Mean Squared Error:', np.sqrt(metrics.mean_squared_error(y_test, iso_forest_predictions)), '\\n')\n",
        "\n",
        "print(classification_report(y_test, iso_forest_predictions))\n",
        "print(\"Accuracy:\", accuracy_score(y_test, iso_forest_predictions))\n",
        "print(\"AUC:\", roc_auc_score(y_test, iso_forest_predictions))\n"
      ]
    },
    {
      "cell_type": "code",
      "execution_count": null,
      "metadata": {
        "id": "Pg4PrLzikLbY"
      },
      "outputs": [],
      "source": [
        "# Save Naive Bayes predictions\n",
        "pd.DataFrame(nb_predictions, columns=['NB_Predictions']).to_csv('nb_predictions.csv', index=False)\n",
        "\n",
        "# Save AdaBoost predictions\n",
        "pd.DataFrame(adb_predictions, columns=['ADB_Predictions']).to_csv('adb_predictions.csv', index=False)\n",
        "\n",
        "# Save Gradient Boosting predictions\n",
        "pd.DataFrame(gb_predictions, columns=['GB_Predictions']).to_csv('gb_predictions.csv', index=False)\n",
        "\n",
        "# Save XGBoost predictions\n",
        "pd.DataFrame(y_xgb_pred, columns=['XGB_Predictions']).to_csv('xgb_predictions.csv', index=False)\n",
        "\n",
        "# Save Isolation Forest predictions\n",
        "pd.DataFrame(iso_forest_predictions, columns=['Iso_Forest_Predictions']).to_csv('iso_forest_predictions.csv', index=False)"
      ]
    },
    {
      "cell_type": "code",
      "execution_count": null,
      "metadata": {
        "id": "beJGTSxokLbZ"
      },
      "outputs": [],
      "source": [
        "import tensorflow as tf\n",
        "from tensorflow import keras\n",
        "from tensorflow.keras.models import Model\n",
        "from tensorflow.python.keras.models import Sequential\n",
        "from tensorflow.keras.layers import Input, Dense, GaussianNoise, Dropout\n",
        "from tensorflow.keras import backend as K\n",
        "\n",
        "def sensitivity_keras(y_true, y_pred):\n",
        "    true_positives = K.sum(K.round(K.clip(y_true * y_pred, 0, 1)))\n",
        "    possible_positives = K.sum(K.round(K.clip(y_true, 0, 1)))\n",
        "    sensitivity = true_positives / (possible_positives + K.epsilon())\n",
        "    return sensitivity\n",
        "\n",
        "def precision_keras(y_true, y_pred):\n",
        "    true_positives = K.sum(K.round(K.clip(y_true * y_pred, 0, 1)))\n",
        "    predicted_positives = K.sum(K.round(K.clip(y_pred, 0, 1)))\n",
        "    precision = true_positives / (predicted_positives + K.epsilon())\n",
        "    return precision\n",
        "\n",
        "def f1_score_keras(y_true, y_pred):\n",
        "    precision = precision_keras(y_true, y_pred)\n",
        "    recall = sensitivity_keras(y_true, y_pred)\n",
        "    f1_score = 2 * (precision * recall) / (precision + recall + K.epsilon())\n",
        "    return f1_score"
      ]
    },
    {
      "cell_type": "code",
      "execution_count": null,
      "metadata": {
        "id": "ZsU1zIjUkLbZ"
      },
      "outputs": [],
      "source": [
        "# Building an Autoencoder Model\n",
        "\n",
        "input_dim = X_train.shape[1]\n",
        "\n",
        "autoencoder_model = Sequential([\n",
        "    Dense(128, activation='relu', input_shape=(input_dim,)),\n",
        "    Dropout(0.2),\n",
        "    Dense(64, activation='relu'),\n",
        "    Dropout(0.2),\n",
        "    Dense(32, activation='relu'),\n",
        "    Dropout(0.2),\n",
        "    GaussianNoise(0.05),  # Add Gaussian noise to prevent overfitting\n",
        "    Dense(2, activation='relu'),  # Latent space with 2 neurons\n",
        "    Dense(32, activation='relu'),\n",
        "    Dense(64, activation='relu'),\n",
        "    Dense(128, activation='relu'),\n",
        "    Dense(input_dim, activation='relu')  # Reconstruct the original input\n",
        "])\n",
        "\n",
        "# Compile the model\n",
        "autoencoder_model.compile(optimizer='adam',\n",
        "              loss='mse',\n",
        "             metrics=['accuracy', sensitivity_keras, precision_keras, f1_score_keras])"
      ]
    },
    {
      "cell_type": "code",
      "execution_count": null,
      "metadata": {
        "id": "mi2Gpt-JkLbZ",
        "outputId": "53ef2522-de1d-4dab-a7e5-7afcca2e7508"
      },
      "outputs": [
        {
          "name": "stdout",
          "output_type": "stream",
          "text": [
            "Epoch 1/10\n",
            "55635/55635 [==============================] - 356s 6ms/step - loss: 0.2966 - accuracy: 0.4821 - sensitivity_keras: 0.5643 - precision_keras: 0.8761 - f1_score_keras: 0.6860 - val_loss: 0.2922 - val_accuracy: 0.5277 - val_sensitivity_keras: 0.5702 - val_precision_keras: 0.8772 - val_f1_score_keras: 0.6911\n",
            "Epoch 2/10\n",
            "55635/55635 [==============================] - 353s 6ms/step - loss: 0.2932 - accuracy: 0.4914 - sensitivity_keras: 0.5674 - precision_keras: 0.8780 - f1_score_keras: 0.6892 - val_loss: 0.2912 - val_accuracy: 0.5076 - val_sensitivity_keras: 0.5646 - val_precision_keras: 0.8594 - val_f1_score_keras: 0.6813\n",
            "Epoch 3/10\n",
            "55635/55635 [==============================] - 353s 6ms/step - loss: 0.2934 - accuracy: 0.4877 - sensitivity_keras: 0.5667 - precision_keras: 0.8758 - f1_score_keras: 0.6880 - val_loss: 0.2913 - val_accuracy: 0.5083 - val_sensitivity_keras: 0.5730 - val_precision_keras: 0.8743 - val_f1_score_keras: 0.6922\n",
            "Epoch 4/10\n",
            "55635/55635 [==============================] - 354s 6ms/step - loss: 0.2886 - accuracy: 0.4867 - sensitivity_keras: 0.6069 - precision_keras: 0.8750 - f1_score_keras: 0.7157 - val_loss: 0.2787 - val_accuracy: 0.5292 - val_sensitivity_keras: 0.6674 - val_precision_keras: 0.8829 - val_f1_score_keras: 0.7600\n",
            "Epoch 5/10\n",
            "55635/55635 [==============================] - 354s 6ms/step - loss: 0.2813 - accuracy: 0.5142 - sensitivity_keras: 0.6558 - precision_keras: 0.8649 - f1_score_keras: 0.7459 - val_loss: 0.2756 - val_accuracy: 0.5478 - val_sensitivity_keras: 0.6830 - val_precision_keras: 0.8855 - val_f1_score_keras: 0.7711\n",
            "Epoch 6/10\n",
            "55635/55635 [==============================] - 353s 6ms/step - loss: 0.2793 - accuracy: 0.5313 - sensitivity_keras: 0.6695 - precision_keras: 0.8838 - f1_score_keras: 0.7618 - val_loss: 0.2743 - val_accuracy: 0.5555 - val_sensitivity_keras: 0.6895 - val_precision_keras: 0.8931 - val_f1_score_keras: 0.7781\n",
            "Epoch 7/10\n",
            "55635/55635 [==============================] - 354s 6ms/step - loss: 0.2781 - accuracy: 0.5441 - sensitivity_keras: 0.6778 - precision_keras: 0.8813 - f1_score_keras: 0.7661 - val_loss: 0.2743 - val_accuracy: 0.5700 - val_sensitivity_keras: 0.6875 - val_precision_keras: 0.8845 - val_f1_score_keras: 0.7735\n",
            "Epoch 8/10\n",
            "55635/55635 [==============================] - 354s 6ms/step - loss: 0.2775 - accuracy: 0.5394 - sensitivity_keras: 0.6800 - precision_keras: 0.8802 - f1_score_keras: 0.7672 - val_loss: 0.2745 - val_accuracy: 0.5527 - val_sensitivity_keras: 0.6886 - val_precision_keras: 0.9001 - val_f1_score_keras: 0.7802\n",
            "Epoch 9/10\n",
            "55635/55635 [==============================] - 354s 6ms/step - loss: 0.2781 - accuracy: 0.5407 - sensitivity_keras: 0.6772 - precision_keras: 0.8770 - f1_score_keras: 0.7641 - val_loss: 0.2764 - val_accuracy: 0.5660 - val_sensitivity_keras: 0.6779 - val_precision_keras: 0.8584 - val_f1_score_keras: 0.7574\n",
            "Epoch 10/10\n",
            "55635/55635 [==============================] - 354s 6ms/step - loss: 0.2782 - accuracy: 0.5402 - sensitivity_keras: 0.6754 - precision_keras: 0.8651 - f1_score_keras: 0.7584 - val_loss: 0.2746 - val_accuracy: 0.5272 - val_sensitivity_keras: 0.6823 - val_precision_keras: 0.8715 - val_f1_score_keras: 0.7653\n"
          ]
        }
      ],
      "source": [
        "# Train the model\n",
        "autoencoder_model_output = autoencoder_model.fit(X_train, X_train,  # Autoencoders typically use X_train as both input and output\n",
        "                    epochs=10,\n",
        "                    batch_size=256,\n",
        "                    shuffle=True,\n",
        "                    validation_data=(X_test, X_test))  # Validate on test data"
      ]
    },
    {
      "cell_type": "code",
      "execution_count": null,
      "metadata": {
        "id": "iDEutyYvkLbZ",
        "outputId": "f0945126-aeeb-495e-b1bc-6b52d5b04515"
      },
      "outputs": [
        {
          "name": "stdout",
          "output_type": "stream",
          "text": [
            "[[2260521  112976]\n",
            " [2012220  361773]] \n",
            "\n",
            "Mean Absolute Error: 0.447646229902538\n",
            "Mean Squared Error: 0.447646229902538\n",
            "Root Mean Squared Error: 0.6690636964464131 \n",
            "\n",
            "              precision    recall  f1-score   support\n",
            "\n",
            "           0       0.53      0.95      0.68   2373497\n",
            "           1       0.76      0.15      0.25   2373993\n",
            "\n",
            "    accuracy                           0.55   4747490\n",
            "   macro avg       0.65      0.55      0.47   4747490\n",
            "weighted avg       0.65      0.55      0.47   4747490\n",
            "\n",
            "Accuracy: 0.552353770097462\n",
            "AUC: 0.5523955611734095\n"
          ]
        }
      ],
      "source": [
        "# Autoencoder Predictions\n",
        "\n",
        "# Get the reconstructed data from the autoencoder\n",
        "ae_predictions = autoencoder_model_output.predict(X_test)\n",
        "\n",
        "# Calculate the reconstruction error (e.g., MSE)\n",
        "ae_predictions_error = np.mean(np.square(X_test - ae_predictions), axis=1)\n",
        "\n",
        "# Define a threshold for anomaly detection\n",
        "threshold = np.percentile(ae_predictions_error, 90)  # 95th percentile as an example\n",
        "\n",
        "# Generate predictions: 1 for anomaly, 0 for normal\n",
        "autoencoder_predictions = np.where(ae_predictions_error > threshold, 1, 0)\n",
        "\n",
        "#performance metrics\n",
        "\n",
        "print(confusion_matrix(y_test, autoencoder_predictions), '\\n')\n",
        "print('Mean Absolute Error:', metrics.mean_absolute_error(y_test, autoencoder_predictions))\n",
        "print('Mean Squared Error:', metrics.mean_squared_error(y_test, autoencoder_predictions))\n",
        "print('Root Mean Squared Error:', np.sqrt(metrics.mean_squared_error(y_test, autoencoder_predictions)), '\\n')\n",
        "\n",
        "print(classification_report(y_test, autoencoder_predictions))\n",
        "print(\"Accuracy:\", accuracy_score(y_test, autoencoder_predictions))\n",
        "print(\"AUC:\", roc_auc_score(y_test, autoencoder_predictions))\n"
      ]
    },
    {
      "cell_type": "code",
      "execution_count": null,
      "metadata": {
        "id": "TBBS4Z1XkLbZ"
      },
      "outputs": [],
      "source": [
        "# Save Autoencoder predictions\n",
        "pd.DataFrame(autoencoder_predictions, columns=['autoencoder_predictions']).to_csv('autoencoder_predictions.csv', index=False)"
      ]
    },
    {
      "cell_type": "code",
      "execution_count": null,
      "metadata": {
        "id": "9HTpXWcgkLba"
      },
      "outputs": [],
      "source": [
        "# Load Naive Bayes predictions\n",
        "nb_predictions_loaded = pd.read_csv('nb_predictions.csv')\n",
        "\n",
        "# Load AdaBoost predictions\n",
        "adb_predictions_loaded = pd.read_csv('adb_predictions.csv')\n",
        "\n",
        "# Load Gradient Boosting predictions\n",
        "gb_predictions_loaded = pd.read_csv('gb_predictions.csv')\n",
        "\n",
        "# Load XGBoost predictions\n",
        "xgb_predictions_loaded = pd.read_csv('xgb_predictions.csv')\n",
        "\n",
        "# Load Isolation Forest predictions\n",
        "iso_forest_predictions_loaded = pd.read_csv('iso_forest_predictions.csv')\n",
        "\n",
        "# Load Autoencoder predictions\n",
        "autoencoder_predictions_loaded = pd.read_csv('autoencoder_predictions.csv')"
      ]
    },
    {
      "cell_type": "code",
      "execution_count": null,
      "metadata": {
        "id": "ADEVnjw-kLba"
      },
      "outputs": [],
      "source": [
        "clfs = {\n",
        "    'naive_bayes': {\n",
        "        'label': 'Naive Bayes',\n",
        "        'clb': GaussianNB,\n",
        "        'params': {},\n",
        "        'predictions': nb_predictions,\n",
        "        'model': nb_model\n",
        "    },\n",
        "    'adaboost': {\n",
        "        'label': 'AdaBoost',\n",
        "        'clb': AdaBoostClassifier,\n",
        "        'params': {\n",
        "            'n_estimators': 50,\n",
        "            'random_state': 0\n",
        "        },\n",
        "        'predictions': adb_predictions,\n",
        "        'model': adb_model\n",
        "    },\n",
        "    'gradient_boosting': {\n",
        "        'label': 'Gradient Boosting',\n",
        "        'clb': GradientBoostingClassifier,\n",
        "        'params': {\n",
        "            'n_estimators': 100,\n",
        "            'random_state': 42\n",
        "        },\n",
        "        'predictions': gb_predictions,\n",
        "        'model': gb_model\n",
        "    },\n",
        "    'xgboost': {\n",
        "        'label': 'XGBoost',\n",
        "        'clb': XGBClassifier,\n",
        "        'params': {},\n",
        "        'predictions': y_xgb_pred,\n",
        "        'model': xgb_model\n",
        "    },\n",
        "    'isolation_forest': {\n",
        "        'label': 'Isolation Forest',\n",
        "        'clb': IsolationForest,\n",
        "        'params': {\n",
        "            'contamination': 0.05,\n",
        "            'random_state': 42\n",
        "        },\n",
        "        'predictions': iso_forest_predictions,\n",
        "        'model': iso_forest_model\n",
        "    },\n",
        "    'autoencoder': {\n",
        "        'label': 'Autoencoder',\n",
        "        'clb': autoencoder_model,\n",
        "        'params': {},\n",
        "        'fit_params': {\n",
        "            'x': X_train,\n",
        "            'y': X_train,\n",
        "            'validation_split': 0.2,\n",
        "            'callbacks': None,\n",
        "            'epochs': 10,\n",
        "            'batch_size': 256,\n",
        "            'verbose': 0\n",
        "        },\n",
        "        'predictions': autoencoder_predictions,\n",
        "        'model': autoencoder_model_output\n",
        "    }\n",
        "}"
      ]
    },
    {
      "cell_type": "code",
      "execution_count": null,
      "metadata": {
        "id": "Z0aMvNCUkLba"
      },
      "outputs": [],
      "source": [
        "# # Convert loaded DataFrames to numpy arrays\n",
        "# nb_predictions = nb_predictions_loaded['NB_Predictions'].values\n",
        "# adb_predictions = adb_predictions_loaded['ADB_Predictions'].values\n",
        "# gb_predictions = gb_predictions_loaded['GB_Predictions'].values\n",
        "# xgb_predictions = xgb_predictions_loaded['XGB_Predictions'].values\n",
        "# iso_forest_predictions = iso_forest_predictions_loaded['Iso_Forest_Predictions'].values\n",
        "# autoencoder_predictions = autoencoder_predictions_loaded['autoencoder_predictions'].values\n",
        "\n",
        "# y_preds = np.column_stack((\n",
        "#     nb_predictions,\n",
        "#     adb_predictions,\n",
        "#     gb_predictions,\n",
        "#     xgb_predictions,\n",
        "#     iso_forest_predictions,\n",
        "#     autoencoder_predictions))\n",
        "# ensemble_preds = []"
      ]
    },
    {
      "cell_type": "markdown",
      "metadata": {
        "id": "J6lWeQQikLbe"
      },
      "source": [
        "# Ensemble"
      ]
    },
    {
      "cell_type": "code",
      "execution_count": null,
      "metadata": {
        "id": "izdMzG-jkLbe"
      },
      "outputs": [],
      "source": [
        "y_preds = np.column_stack([clfs[_]['predictions'] for _ in clfs])\n",
        "ensemble_preds = []"
      ]
    },
    {
      "cell_type": "code",
      "execution_count": null,
      "metadata": {
        "id": "zDvv1aPhkLbe",
        "outputId": "16377583-f53f-44a9-fb32-67ad0fdf8017"
      },
      "outputs": [
        {
          "data": {
            "text/plain": [
              "0    7121482\n",
              "1    7120986\n",
              "Name: Is_laundering, dtype: int64"
            ]
          },
          "execution_count": 36,
          "metadata": {},
          "output_type": "execute_result"
        }
      ],
      "source": [
        "y_train.value_counts()"
      ]
    },
    {
      "cell_type": "code",
      "execution_count": null,
      "metadata": {
        "id": "Zdii3SCpkLbe"
      },
      "outputs": [],
      "source": [
        "def print_eval_metrics(y_true, y_pred, name='', header=True):\n",
        "    \"\"\"Function for printing purposes\n",
        "    \"\"\"\n",
        "    if header:\n",
        "        print('{:>20}\\t{:>10}\\t{:>10}\\t{:>8}\\t{:>5}'.format('Algorithm', 'Accuracy', 'Recall', 'Precision', 'f1 score'))\n",
        "    acc = accuracy_score(y_true, y_pred)\n",
        "    recall = recall_score(y_true, y_pred)\n",
        "    prec = precision_score(y_true, y_pred)\n",
        "    f1 = f1_score(y_true, y_pred)\n",
        "    print('{:>20}\\t{:>1.8f}\\t{:>1.8f}\\t{:>1.6f}\\t{:>1.3f}'.format(\n",
        "        name, acc, recall, prec, f1\n",
        "    ))"
      ]
    },
    {
      "cell_type": "markdown",
      "metadata": {
        "id": "-hwkjZPwkLbe"
      },
      "source": [
        "# Blending"
      ]
    },
    {
      "cell_type": "code",
      "execution_count": null,
      "metadata": {
        "id": "VPDURVnzkLbf",
        "outputId": "b4bab8e5-44e0-4bda-ad27-19aa4f003fbf"
      },
      "outputs": [
        {
          "data": {
            "text/plain": [
              "RandomForestClassifier()"
            ]
          },
          "execution_count": 12,
          "metadata": {},
          "output_type": "execute_result"
        }
      ],
      "source": [
        "from sklearn.ensemble import RandomForestClassifier\n",
        "\n",
        "rf = RandomForestClassifier()\n",
        "\n",
        "x_tr_ens, x_ts_ens, y_tr_ens, y_ts_ens = train_test_split(y_preds, y_test, test_size=.5)\n",
        "rf.fit(x_tr_ens, y_tr_ens)"
      ]
    },
    {
      "cell_type": "code",
      "execution_count": null,
      "metadata": {
        "id": "NTCVzvF8kLbf",
        "outputId": "5232d817-2ece-4a33-c6c3-2cf0314d8aec"
      },
      "outputs": [
        {
          "name": "stdout",
          "output_type": "stream",
          "text": [
            "           Algorithm\t  Accuracy\t    Recall\tPrecision\tf1 score\n",
            "         Naive Bayes\t0.62073517\t0.35128958\t0.761968\t0.481\n",
            "            AdaBoost\t0.89511637\t0.93543241\t0.865652\t0.899\n",
            "   Gradient Boosting\t0.91174747\t0.95423660\t0.879513\t0.915\n",
            "             XGBoost\t0.95191417\t0.96840050\t0.937498\t0.953\n",
            "    Isolation Forest\t0.52094875\t0.07115943\t0.709316\t0.129\n",
            "         Autoencoder\t0.55235377\t0.15239009\t0.762030\t0.254\n",
            "\n",
            "\n",
            "\n",
            "\n",
            "   Blending using RF\t0.95193755\t0.96845471\t0.937492\t0.953\n"
          ]
        }
      ],
      "source": [
        "from sklearn.metrics import accuracy_score, recall_score, precision_score, f1_score\n",
        "\n",
        "\n",
        "print_header = True\n",
        "for k, v in clfs.items():\n",
        "    print_eval_metrics(y_test, v['predictions'], v['label'], print_header)\n",
        "    print_header = False\n",
        "\n",
        "print('\\n')\n",
        "\n",
        "for prds, l in ensemble_preds:\n",
        "    print_eval_metrics(y_test, prds, l, print_header)\n",
        "    print_header = False\n",
        "\n",
        "print('\\n')\n",
        "\n",
        "print_eval_metrics(\n",
        "    y_ts_ens,\n",
        "    rf.predict(x_ts_ens),\n",
        "    'Blending using RF', False\n",
        ")"
      ]
    },
    {
      "cell_type": "code",
      "execution_count": null,
      "metadata": {
        "id": "Gp_izT7gkLbf",
        "outputId": "5629188c-4f7e-4d14-883a-c55f1879dfc0"
      },
      "outputs": [
        {
          "name": "stdout",
          "output_type": "stream",
          "text": [
            "[[1110622   76627]\n",
            " [  37598 1148898]] \n",
            "\n",
            "Mean Absolute Error: 0.04812016455010964\n",
            "Mean Squared Error: 0.04812016455010964\n",
            "Root Mean Squared Error: 0.21936308839481095 \n",
            "\n",
            "              precision    recall  f1-score   support\n",
            "\n",
            "           0       0.97      0.94      0.95   1187249\n",
            "           1       0.94      0.97      0.95   1186496\n",
            "\n",
            "    accuracy                           0.95   2373745\n",
            "   macro avg       0.95      0.95      0.95   2373745\n",
            "weighted avg       0.95      0.95      0.95   2373745\n",
            "\n",
            "Accuracy: 0.9518798354498904\n",
            "AUC: 0.9518850463282114\n"
          ]
        }
      ],
      "source": [
        "from sklearn.metrics import confusion_matrix\n",
        "from sklearn import metrics\n",
        "from sklearn.metrics import accuracy_score, confusion_matrix, classification_report, roc_auc_score\n",
        "from sklearn.metrics import accuracy_score, recall_score, precision_score, f1_score\n",
        "\n",
        "\n",
        "blendingrf_predictions = rf.predict(x_ts_ens)\n",
        "\n",
        "\n",
        "#performance metrics\n",
        "\n",
        "print(confusion_matrix(y_ts_ens, blendingrf_predictions), '\\n')\n",
        "print('Mean Absolute Error:', metrics.mean_absolute_error(y_ts_ens, blendingrf_predictions))\n",
        "print('Mean Squared Error:', metrics.mean_squared_error(y_ts_ens, blendingrf_predictions))\n",
        "print('Root Mean Squared Error:', np.sqrt(metrics.mean_squared_error(y_ts_ens, blendingrf_predictions)), '\\n')\n",
        "\n",
        "print(classification_report(y_ts_ens, blendingrf_predictions))\n",
        "print(\"Accuracy:\", accuracy_score(y_ts_ens, blendingrf_predictions))\n",
        "print(\"AUC:\", roc_auc_score(y_ts_ens, blendingrf_predictions))"
      ]
    },
    {
      "cell_type": "code",
      "execution_count": null,
      "metadata": {
        "id": "oox4YJsJkLbf",
        "outputId": "6ed36959-fc9e-4914-a8d7-98cfb92ca4c9"
      },
      "outputs": [
        {
          "name": "stdout",
          "output_type": "stream",
          "text": [
            "Shape of y_preds: (4747490, 6)\n",
            "Shape of y_test: (4747490,)\n"
          ]
        }
      ],
      "source": [
        "print(f\"Shape of y_preds: {y_preds.shape}\")  # (num_samples, num_models)\n",
        "print(f\"Shape of y_test: {y_test.shape}\")"
      ]
    },
    {
      "cell_type": "code",
      "execution_count": null,
      "metadata": {
        "id": "fTiII0bekLbf"
      },
      "outputs": [],
      "source": [
        "# Averaging the predictions across the 6 models\n",
        "y_pred_avg = y_preds.mean(axis=1)\n",
        "# Reshape y_pred to 2D\n",
        "y_pred_avg_reshaped = y_pred_avg.reshape(-1, 1)"
      ]
    },
    {
      "cell_type": "markdown",
      "metadata": {
        "id": "DCDXOmRKkLbf"
      },
      "source": [
        "# Cross Validation"
      ]
    },
    {
      "cell_type": "code",
      "execution_count": null,
      "metadata": {
        "id": "6v93biISkLbf",
        "outputId": "190b969c-454a-4683-e3aa-da19d3009379"
      },
      "outputs": [
        {
          "name": "stdout",
          "output_type": "stream",
          "text": [
            "[[1110623   76626]\n",
            " [  37602 1148894]] \n",
            "\n",
            "Mean Absolute Error: 0.048121428375836495\n",
            "Mean Squared Error: 0.048121428375836495\n",
            "Root Mean Squared Error: 0.21936596904678832 \n",
            "\n",
            "              precision    recall  f1-score   support\n",
            "\n",
            "           0       0.97      0.94      0.95   1187249\n",
            "           1       0.94      0.97      0.95   1186496\n",
            "\n",
            "    accuracy                           0.95   2373745\n",
            "   macro avg       0.95      0.95      0.95   2373745\n",
            "weighted avg       0.95      0.95      0.95   2373745\n",
            "\n",
            "Accuracy: 0.9518785716241636\n",
            "AUC: 0.9518837818341721\n"
          ]
        }
      ],
      "source": [
        "#performance metrics\n",
        "\n",
        "from sklearn.model_selection import cross_val_predict\n",
        "\n",
        "#predicted values\n",
        "y_pred = cross_val_predict(rf, x_ts_ens, y_ts_ens, cv=10)\n",
        "\n",
        "print(confusion_matrix(y_ts_ens, y_pred), '\\n')\n",
        "print('Mean Absolute Error:', metrics.mean_absolute_error(y_ts_ens, y_pred))\n",
        "print('Mean Squared Error:', metrics.mean_squared_error(y_ts_ens, y_pred))\n",
        "print('Root Mean Squared Error:', np.sqrt(metrics.mean_squared_error(y_ts_ens, y_pred)), '\\n')\n",
        "\n",
        "print(classification_report(y_ts_ens, y_pred))\n",
        "print(\"Accuracy:\", accuracy_score(y_ts_ens, y_pred))\n",
        "print(\"AUC:\", roc_auc_score(y_ts_ens, y_pred))"
      ]
    },
    {
      "cell_type": "code",
      "execution_count": null,
      "metadata": {
        "id": "6r8CBYQ9kLbg",
        "outputId": "f31e97f4-05c5-4fa2-e010-691b347bc09d"
      },
      "outputs": [
        {
          "data": {
            "text/plain": [
              "(2373745,)"
            ]
          },
          "execution_count": 18,
          "metadata": {},
          "output_type": "execute_result"
        }
      ],
      "source": [
        "blendingrf_predictions.shape"
      ]
    },
    {
      "cell_type": "code",
      "execution_count": null,
      "metadata": {
        "id": "QXVhDGD_kLbg"
      },
      "outputs": [],
      "source": [
        "# Saving Predictions to a File\n",
        "\n",
        "# Save predictions as a CSV file\n",
        "pd.DataFrame(blendingrf_predictions, columns=['Predictions']).to_csv('blendingrf_predictions.csv', index=False)"
      ]
    },
    {
      "cell_type": "code",
      "execution_count": null,
      "metadata": {
        "id": "Rs00cJOvkLbg",
        "outputId": "5e008f69-10e5-48c6-c5fa-3298a8047757"
      },
      "outputs": [
        {
          "data": {
            "text/plain": [
              "['random_forest_model.pkl']"
            ]
          },
          "execution_count": 75,
          "metadata": {},
          "output_type": "execute_result"
        }
      ],
      "source": [
        "#Saving the Trained Model\n",
        "\n",
        "import joblib\n",
        "\n",
        "# Save the model\n",
        "joblib.dump(rf, 'random_forest_model.pkl')"
      ]
    },
    {
      "cell_type": "code",
      "execution_count": null,
      "metadata": {
        "id": "qN5XC6QikLbg"
      },
      "outputs": [],
      "source": [
        "# To load the model later\n",
        "rf_loaded = joblib.load('random_forest_model.pkl')"
      ]
    },
    {
      "cell_type": "markdown",
      "metadata": {
        "id": "41EPxvd5kLbg"
      },
      "source": [
        "# Hard Voting"
      ]
    },
    {
      "cell_type": "code",
      "execution_count": null,
      "metadata": {
        "id": "Q6UM5zbIkLbg",
        "outputId": "2d68fede-be76-4363-84d2-813c8b61ab6c"
      },
      "outputs": [
        {
          "name": "stderr",
          "output_type": "stream",
          "text": [
            "/home/up2215106/.local/lib/python3.6/site-packages/mlxtend/classifier/ensemble_vote.py:166: UserWarning: fit_base_estimators=False enforces use_clones to be `False`\n",
            "  warnings.warn(\"fit_base_estimators=False \"\n"
          ]
        },
        {
          "ename": "ValueError",
          "evalue": "y contains previously unseen labels: [-1]",
          "output_type": "error",
          "traceback": [
            "\u001b[0;31m---------------------------------------------------------------------------\u001b[0m",
            "\u001b[0;31mValueError\u001b[0m                                Traceback (most recent call last)",
            "\u001b[0;32m<ipython-input-39-d1f4604f43d7>\u001b[0m in \u001b[0;36m<module>\u001b[0;34m\u001b[0m\n\u001b[1;32m      9\u001b[0m \u001b[0mhard_vot\u001b[0m\u001b[0;34m.\u001b[0m\u001b[0mfit\u001b[0m\u001b[0;34m(\u001b[0m\u001b[0mX_test\u001b[0m\u001b[0;34m,\u001b[0m \u001b[0my_test\u001b[0m\u001b[0;34m)\u001b[0m\u001b[0;34m\u001b[0m\u001b[0;34m\u001b[0m\u001b[0m\n\u001b[1;32m     10\u001b[0m \u001b[0;34m\u001b[0m\u001b[0m\n\u001b[0;32m---> 11\u001b[0;31m \u001b[0mensemble_preds\u001b[0m\u001b[0;34m.\u001b[0m\u001b[0mappend\u001b[0m\u001b[0;34m(\u001b[0m\u001b[0;34m(\u001b[0m\u001b[0mhard_vot\u001b[0m\u001b[0;34m.\u001b[0m\u001b[0mpredict\u001b[0m\u001b[0;34m(\u001b[0m\u001b[0mX_test\u001b[0m\u001b[0;34m)\u001b[0m\u001b[0;34m,\u001b[0m \u001b[0;34m'Hard Voting'\u001b[0m\u001b[0;34m)\u001b[0m\u001b[0;34m)\u001b[0m\u001b[0;34m\u001b[0m\u001b[0;34m\u001b[0m\u001b[0m\n\u001b[0m",
            "\u001b[0;32m~/.local/lib/python3.6/site-packages/mlxtend/classifier/ensemble_vote.py\u001b[0m in \u001b[0;36mpredict\u001b[0;34m(self, X)\u001b[0m\n\u001b[1;32m    223\u001b[0m \u001b[0;34m\u001b[0m\u001b[0m\n\u001b[1;32m    224\u001b[0m         \u001b[0;32melse\u001b[0m\u001b[0;34m:\u001b[0m  \u001b[0;31m# 'hard' voting\u001b[0m\u001b[0;34m\u001b[0m\u001b[0;34m\u001b[0m\u001b[0m\n\u001b[0;32m--> 225\u001b[0;31m             \u001b[0mpredictions\u001b[0m \u001b[0;34m=\u001b[0m \u001b[0mself\u001b[0m\u001b[0;34m.\u001b[0m\u001b[0m_predict\u001b[0m\u001b[0;34m(\u001b[0m\u001b[0mX\u001b[0m\u001b[0;34m)\u001b[0m\u001b[0;34m\u001b[0m\u001b[0;34m\u001b[0m\u001b[0m\n\u001b[0m\u001b[1;32m    226\u001b[0m \u001b[0;34m\u001b[0m\u001b[0m\n\u001b[1;32m    227\u001b[0m             maj = np.apply_along_axis(lambda x:\n",
            "\u001b[0;32m~/.local/lib/python3.6/site-packages/mlxtend/classifier/ensemble_vote.py\u001b[0m in \u001b[0;36m_predict\u001b[0;34m(self, X)\u001b[0m\n\u001b[1;32m    300\u001b[0m         \u001b[0;32melse\u001b[0m\u001b[0;34m:\u001b[0m\u001b[0;34m\u001b[0m\u001b[0;34m\u001b[0m\u001b[0m\n\u001b[1;32m    301\u001b[0m             return np.asarray([self.le_.transform(clf.predict(X))\n\u001b[0;32m--> 302\u001b[0;31m                                for clf in self.clfs_]).T\n\u001b[0m\u001b[1;32m    303\u001b[0m \u001b[0;34m\u001b[0m\u001b[0m\n\u001b[1;32m    304\u001b[0m     \u001b[0;32mdef\u001b[0m \u001b[0m_predict_probas\u001b[0m\u001b[0;34m(\u001b[0m\u001b[0mself\u001b[0m\u001b[0;34m,\u001b[0m \u001b[0mX\u001b[0m\u001b[0;34m)\u001b[0m\u001b[0;34m:\u001b[0m\u001b[0;34m\u001b[0m\u001b[0;34m\u001b[0m\u001b[0m\n",
            "\u001b[0;32m~/.local/lib/python3.6/site-packages/mlxtend/classifier/ensemble_vote.py\u001b[0m in \u001b[0;36m<listcomp>\u001b[0;34m(.0)\u001b[0m\n\u001b[1;32m    300\u001b[0m         \u001b[0;32melse\u001b[0m\u001b[0;34m:\u001b[0m\u001b[0;34m\u001b[0m\u001b[0;34m\u001b[0m\u001b[0m\n\u001b[1;32m    301\u001b[0m             return np.asarray([self.le_.transform(clf.predict(X))\n\u001b[0;32m--> 302\u001b[0;31m                                for clf in self.clfs_]).T\n\u001b[0m\u001b[1;32m    303\u001b[0m \u001b[0;34m\u001b[0m\u001b[0m\n\u001b[1;32m    304\u001b[0m     \u001b[0;32mdef\u001b[0m \u001b[0m_predict_probas\u001b[0m\u001b[0;34m(\u001b[0m\u001b[0mself\u001b[0m\u001b[0;34m,\u001b[0m \u001b[0mX\u001b[0m\u001b[0;34m)\u001b[0m\u001b[0;34m:\u001b[0m\u001b[0;34m\u001b[0m\u001b[0;34m\u001b[0m\u001b[0m\n",
            "\u001b[0;32m~/.local/lib/python3.6/site-packages/sklearn/preprocessing/_label.py\u001b[0m in \u001b[0;36mtransform\u001b[0;34m(self, y)\u001b[0m\n\u001b[1;32m    136\u001b[0m             \u001b[0;32mreturn\u001b[0m \u001b[0mnp\u001b[0m\u001b[0;34m.\u001b[0m\u001b[0marray\u001b[0m\u001b[0;34m(\u001b[0m\u001b[0;34m[\u001b[0m\u001b[0;34m]\u001b[0m\u001b[0;34m)\u001b[0m\u001b[0;34m\u001b[0m\u001b[0;34m\u001b[0m\u001b[0m\n\u001b[1;32m    137\u001b[0m \u001b[0;34m\u001b[0m\u001b[0m\n\u001b[0;32m--> 138\u001b[0;31m         \u001b[0;32mreturn\u001b[0m \u001b[0m_encode\u001b[0m\u001b[0;34m(\u001b[0m\u001b[0my\u001b[0m\u001b[0;34m,\u001b[0m \u001b[0muniques\u001b[0m\u001b[0;34m=\u001b[0m\u001b[0mself\u001b[0m\u001b[0;34m.\u001b[0m\u001b[0mclasses_\u001b[0m\u001b[0;34m)\u001b[0m\u001b[0;34m\u001b[0m\u001b[0;34m\u001b[0m\u001b[0m\n\u001b[0m\u001b[1;32m    139\u001b[0m \u001b[0;34m\u001b[0m\u001b[0m\n\u001b[1;32m    140\u001b[0m     \u001b[0;32mdef\u001b[0m \u001b[0minverse_transform\u001b[0m\u001b[0;34m(\u001b[0m\u001b[0mself\u001b[0m\u001b[0;34m,\u001b[0m \u001b[0my\u001b[0m\u001b[0;34m)\u001b[0m\u001b[0;34m:\u001b[0m\u001b[0;34m\u001b[0m\u001b[0;34m\u001b[0m\u001b[0m\n",
            "\u001b[0;32m~/.local/lib/python3.6/site-packages/sklearn/utils/_encode.py\u001b[0m in \u001b[0;36m_encode\u001b[0;34m(values, uniques, check_unknown)\u001b[0m\n\u001b[1;32m    183\u001b[0m             \u001b[0mdiff\u001b[0m \u001b[0;34m=\u001b[0m \u001b[0m_check_unknown\u001b[0m\u001b[0;34m(\u001b[0m\u001b[0mvalues\u001b[0m\u001b[0;34m,\u001b[0m \u001b[0muniques\u001b[0m\u001b[0;34m)\u001b[0m\u001b[0;34m\u001b[0m\u001b[0;34m\u001b[0m\u001b[0m\n\u001b[1;32m    184\u001b[0m             \u001b[0;32mif\u001b[0m \u001b[0mdiff\u001b[0m\u001b[0;34m:\u001b[0m\u001b[0;34m\u001b[0m\u001b[0;34m\u001b[0m\u001b[0m\n\u001b[0;32m--> 185\u001b[0;31m                 raise ValueError(f\"y contains previously unseen labels: \"\n\u001b[0m\u001b[1;32m    186\u001b[0m                                  f\"{str(diff)}\")\n\u001b[1;32m    187\u001b[0m         \u001b[0;32mreturn\u001b[0m \u001b[0mnp\u001b[0m\u001b[0;34m.\u001b[0m\u001b[0msearchsorted\u001b[0m\u001b[0;34m(\u001b[0m\u001b[0muniques\u001b[0m\u001b[0;34m,\u001b[0m \u001b[0mvalues\u001b[0m\u001b[0;34m)\u001b[0m\u001b[0;34m\u001b[0m\u001b[0;34m\u001b[0m\u001b[0m\n",
            "\u001b[0;31mValueError\u001b[0m: y contains previously unseen labels: [-1]"
          ]
        }
      ],
      "source": [
        "from mlxtend.classifier import EnsembleVoteClassifier\n",
        "\n",
        "# # Remove samples with the label '-1' from the test set\n",
        "# mask = (y_test != -1)\n",
        "# X_test_filtered = X_test[mask]\n",
        "# y_test_filtered = y_test[mask]\n",
        "\n",
        "hard_vot = EnsembleVoteClassifier([clfs[_]['model'] for _ in clfs], fit_base_estimators=False)\n",
        "hard_vot.fit(X_test, y_test)\n",
        "\n",
        "ensemble_preds.append((hard_vot.predict(X_test), 'Hard Voting'))"
      ]
    },
    {
      "cell_type": "markdown",
      "metadata": {
        "id": "70wgrEFHkLbg"
      },
      "source": [
        "# Weighted Hard Voting"
      ]
    },
    {
      "cell_type": "code",
      "execution_count": null,
      "metadata": {
        "id": "q8h8tiuakLbg",
        "outputId": "475de9cb-2355-46f3-d0e4-4c4ce79de482"
      },
      "outputs": [
        {
          "ename": "ValueError",
          "evalue": "y contains previously unseen labels: [-1]",
          "output_type": "error",
          "traceback": [
            "\u001b[0;31m---------------------------------------------------------------------------\u001b[0m",
            "\u001b[0;31mValueError\u001b[0m                                Traceback (most recent call last)",
            "\u001b[0;32m<ipython-input-41-17785863dc5f>\u001b[0m in \u001b[0;36m<module>\u001b[0;34m\u001b[0m\n\u001b[1;32m      1\u001b[0m \u001b[0mwei_hard_vot\u001b[0m \u001b[0;34m=\u001b[0m \u001b[0mEnsembleVoteClassifier\u001b[0m\u001b[0;34m(\u001b[0m\u001b[0;34m[\u001b[0m\u001b[0mclfs\u001b[0m\u001b[0;34m[\u001b[0m\u001b[0m_\u001b[0m\u001b[0;34m]\u001b[0m\u001b[0;34m[\u001b[0m\u001b[0;34m'model'\u001b[0m\u001b[0;34m]\u001b[0m \u001b[0;32mfor\u001b[0m \u001b[0m_\u001b[0m \u001b[0;32min\u001b[0m \u001b[0mclfs\u001b[0m\u001b[0;34m]\u001b[0m\u001b[0;34m,\u001b[0m \u001b[0mweights\u001b[0m\u001b[0;34m=\u001b[0m\u001b[0;34m[\u001b[0m\u001b[0;36m0.2\u001b[0m\u001b[0;34m,\u001b[0m \u001b[0;36m0.2\u001b[0m\u001b[0;34m,\u001b[0m \u001b[0;36m0.2\u001b[0m\u001b[0;34m,\u001b[0m \u001b[0;36m0.2\u001b[0m\u001b[0;34m,\u001b[0m \u001b[0;36m0.1\u001b[0m\u001b[0;34m,\u001b[0m \u001b[0;36m0.1\u001b[0m\u001b[0;34m]\u001b[0m\u001b[0;34m,\u001b[0m \u001b[0mfit_base_estimators\u001b[0m\u001b[0;34m=\u001b[0m\u001b[0;32mFalse\u001b[0m\u001b[0;34m)\u001b[0m\u001b[0;34m\u001b[0m\u001b[0;34m\u001b[0m\u001b[0m\n\u001b[1;32m      2\u001b[0m \u001b[0mwei_hard_vot\u001b[0m\u001b[0;34m.\u001b[0m\u001b[0mfit\u001b[0m\u001b[0;34m(\u001b[0m\u001b[0mX_test\u001b[0m\u001b[0;34m,\u001b[0m \u001b[0my_test\u001b[0m\u001b[0;34m)\u001b[0m\u001b[0;34m\u001b[0m\u001b[0;34m\u001b[0m\u001b[0m\n\u001b[0;32m----> 3\u001b[0;31m \u001b[0mensemble_preds\u001b[0m\u001b[0;34m.\u001b[0m\u001b[0mappend\u001b[0m\u001b[0;34m(\u001b[0m\u001b[0;34m(\u001b[0m\u001b[0mwei_hard_vot\u001b[0m\u001b[0;34m.\u001b[0m\u001b[0mpredict\u001b[0m\u001b[0;34m(\u001b[0m\u001b[0mX_test\u001b[0m\u001b[0;34m)\u001b[0m\u001b[0;34m,\u001b[0m \u001b[0;34m'Weighted Hard Voting'\u001b[0m\u001b[0;34m)\u001b[0m\u001b[0;34m)\u001b[0m\u001b[0;34m\u001b[0m\u001b[0;34m\u001b[0m\u001b[0m\n\u001b[0m",
            "\u001b[0;32m~/.local/lib/python3.6/site-packages/mlxtend/classifier/ensemble_vote.py\u001b[0m in \u001b[0;36mpredict\u001b[0;34m(self, X)\u001b[0m\n\u001b[1;32m    223\u001b[0m \u001b[0;34m\u001b[0m\u001b[0m\n\u001b[1;32m    224\u001b[0m         \u001b[0;32melse\u001b[0m\u001b[0;34m:\u001b[0m  \u001b[0;31m# 'hard' voting\u001b[0m\u001b[0;34m\u001b[0m\u001b[0;34m\u001b[0m\u001b[0m\n\u001b[0;32m--> 225\u001b[0;31m             \u001b[0mpredictions\u001b[0m \u001b[0;34m=\u001b[0m \u001b[0mself\u001b[0m\u001b[0;34m.\u001b[0m\u001b[0m_predict\u001b[0m\u001b[0;34m(\u001b[0m\u001b[0mX\u001b[0m\u001b[0;34m)\u001b[0m\u001b[0;34m\u001b[0m\u001b[0;34m\u001b[0m\u001b[0m\n\u001b[0m\u001b[1;32m    226\u001b[0m \u001b[0;34m\u001b[0m\u001b[0m\n\u001b[1;32m    227\u001b[0m             maj = np.apply_along_axis(lambda x:\n",
            "\u001b[0;32m~/.local/lib/python3.6/site-packages/mlxtend/classifier/ensemble_vote.py\u001b[0m in \u001b[0;36m_predict\u001b[0;34m(self, X)\u001b[0m\n\u001b[1;32m    300\u001b[0m         \u001b[0;32melse\u001b[0m\u001b[0;34m:\u001b[0m\u001b[0;34m\u001b[0m\u001b[0;34m\u001b[0m\u001b[0m\n\u001b[1;32m    301\u001b[0m             return np.asarray([self.le_.transform(clf.predict(X))\n\u001b[0;32m--> 302\u001b[0;31m                                for clf in self.clfs_]).T\n\u001b[0m\u001b[1;32m    303\u001b[0m \u001b[0;34m\u001b[0m\u001b[0m\n\u001b[1;32m    304\u001b[0m     \u001b[0;32mdef\u001b[0m \u001b[0m_predict_probas\u001b[0m\u001b[0;34m(\u001b[0m\u001b[0mself\u001b[0m\u001b[0;34m,\u001b[0m \u001b[0mX\u001b[0m\u001b[0;34m)\u001b[0m\u001b[0;34m:\u001b[0m\u001b[0;34m\u001b[0m\u001b[0;34m\u001b[0m\u001b[0m\n",
            "\u001b[0;32m~/.local/lib/python3.6/site-packages/mlxtend/classifier/ensemble_vote.py\u001b[0m in \u001b[0;36m<listcomp>\u001b[0;34m(.0)\u001b[0m\n\u001b[1;32m    300\u001b[0m         \u001b[0;32melse\u001b[0m\u001b[0;34m:\u001b[0m\u001b[0;34m\u001b[0m\u001b[0;34m\u001b[0m\u001b[0m\n\u001b[1;32m    301\u001b[0m             return np.asarray([self.le_.transform(clf.predict(X))\n\u001b[0;32m--> 302\u001b[0;31m                                for clf in self.clfs_]).T\n\u001b[0m\u001b[1;32m    303\u001b[0m \u001b[0;34m\u001b[0m\u001b[0m\n\u001b[1;32m    304\u001b[0m     \u001b[0;32mdef\u001b[0m \u001b[0m_predict_probas\u001b[0m\u001b[0;34m(\u001b[0m\u001b[0mself\u001b[0m\u001b[0;34m,\u001b[0m \u001b[0mX\u001b[0m\u001b[0;34m)\u001b[0m\u001b[0;34m:\u001b[0m\u001b[0;34m\u001b[0m\u001b[0;34m\u001b[0m\u001b[0m\n",
            "\u001b[0;32m~/.local/lib/python3.6/site-packages/sklearn/preprocessing/_label.py\u001b[0m in \u001b[0;36mtransform\u001b[0;34m(self, y)\u001b[0m\n\u001b[1;32m    136\u001b[0m             \u001b[0;32mreturn\u001b[0m \u001b[0mnp\u001b[0m\u001b[0;34m.\u001b[0m\u001b[0marray\u001b[0m\u001b[0;34m(\u001b[0m\u001b[0;34m[\u001b[0m\u001b[0;34m]\u001b[0m\u001b[0;34m)\u001b[0m\u001b[0;34m\u001b[0m\u001b[0;34m\u001b[0m\u001b[0m\n\u001b[1;32m    137\u001b[0m \u001b[0;34m\u001b[0m\u001b[0m\n\u001b[0;32m--> 138\u001b[0;31m         \u001b[0;32mreturn\u001b[0m \u001b[0m_encode\u001b[0m\u001b[0;34m(\u001b[0m\u001b[0my\u001b[0m\u001b[0;34m,\u001b[0m \u001b[0muniques\u001b[0m\u001b[0;34m=\u001b[0m\u001b[0mself\u001b[0m\u001b[0;34m.\u001b[0m\u001b[0mclasses_\u001b[0m\u001b[0;34m)\u001b[0m\u001b[0;34m\u001b[0m\u001b[0;34m\u001b[0m\u001b[0m\n\u001b[0m\u001b[1;32m    139\u001b[0m \u001b[0;34m\u001b[0m\u001b[0m\n\u001b[1;32m    140\u001b[0m     \u001b[0;32mdef\u001b[0m \u001b[0minverse_transform\u001b[0m\u001b[0;34m(\u001b[0m\u001b[0mself\u001b[0m\u001b[0;34m,\u001b[0m \u001b[0my\u001b[0m\u001b[0;34m)\u001b[0m\u001b[0;34m:\u001b[0m\u001b[0;34m\u001b[0m\u001b[0;34m\u001b[0m\u001b[0m\n",
            "\u001b[0;32m~/.local/lib/python3.6/site-packages/sklearn/utils/_encode.py\u001b[0m in \u001b[0;36m_encode\u001b[0;34m(values, uniques, check_unknown)\u001b[0m\n\u001b[1;32m    183\u001b[0m             \u001b[0mdiff\u001b[0m \u001b[0;34m=\u001b[0m \u001b[0m_check_unknown\u001b[0m\u001b[0;34m(\u001b[0m\u001b[0mvalues\u001b[0m\u001b[0;34m,\u001b[0m \u001b[0muniques\u001b[0m\u001b[0;34m)\u001b[0m\u001b[0;34m\u001b[0m\u001b[0;34m\u001b[0m\u001b[0m\n\u001b[1;32m    184\u001b[0m             \u001b[0;32mif\u001b[0m \u001b[0mdiff\u001b[0m\u001b[0;34m:\u001b[0m\u001b[0;34m\u001b[0m\u001b[0;34m\u001b[0m\u001b[0m\n\u001b[0;32m--> 185\u001b[0;31m                 raise ValueError(f\"y contains previously unseen labels: \"\n\u001b[0m\u001b[1;32m    186\u001b[0m                                  f\"{str(diff)}\")\n\u001b[1;32m    187\u001b[0m         \u001b[0;32mreturn\u001b[0m \u001b[0mnp\u001b[0m\u001b[0;34m.\u001b[0m\u001b[0msearchsorted\u001b[0m\u001b[0;34m(\u001b[0m\u001b[0muniques\u001b[0m\u001b[0;34m,\u001b[0m \u001b[0mvalues\u001b[0m\u001b[0;34m)\u001b[0m\u001b[0;34m\u001b[0m\u001b[0;34m\u001b[0m\u001b[0m\n",
            "\u001b[0;31mValueError\u001b[0m: y contains previously unseen labels: [-1]"
          ]
        }
      ],
      "source": [
        "wei_hard_vot = EnsembleVoteClassifier([clfs[_]['model'] for _ in clfs], weights=[0.2, 0.2, 0.2, 0.2, 0.1, 0.1], fit_base_estimators=False)\n",
        "wei_hard_vot.fit(X_test, y_test)\n",
        "ensemble_preds.append((wei_hard_vot.predict(X_test), 'Weighted Hard Voting'))"
      ]
    },
    {
      "cell_type": "code",
      "execution_count": null,
      "metadata": {
        "id": "pbWAFBb_kLbg"
      },
      "outputs": [],
      "source": [
        "# from sklearn.cluster import DBSCAN\n",
        "\n",
        "# # Initialize DBSCAN for anomaly detection\n",
        "# dbscan = DBSCAN(eps=0.5, min_samples=5)  # 'eps' is the maximum distance between two samples for them to be considered as in the same neighborhood\n",
        "# dbscan.fit(X_train)\n",
        "\n",
        "# # DBSCAN labels all outliers as -1, and the rest as cluster labels (0, 1, 2, ...)\n",
        "# dbscan_labels = dbscan.fit_predict(X_test)\n",
        "\n",
        "# # Convert predictions to a binary format: 1 for normal and 0 for anomalies\n",
        "# dbscan_predictions = [1 if label != -1 else 0 for label in dbscan_labels]\n",
        "\n",
        "# #performance metrics\n",
        "\n",
        "# print(confusion_matrix(y_test, dbscan_predictions), '\\n')\n",
        "# print('Mean Absolute Error:', metrics.mean_absolute_error(y_test, dbscan_predictions))\n",
        "# print('Mean Squared Error:', metrics.mean_squared_error(y_test, dbscan_predictions))\n",
        "# print('Root Mean Squared Error:', np.sqrt(metrics.mean_squared_error(y_test, dbscan_predictions)), '\\n')\n",
        "\n",
        "# print(classification_report(y_test, dbscan_predictions))\n",
        "# print(\"Accuracy:\", accuracy_score(y_test, dbscan_predictions))\n",
        "# print(\"AUC:\", roc_auc_score(y_test, dbscan_predictions))\n"
      ]
    },
    {
      "cell_type": "code",
      "execution_count": null,
      "metadata": {
        "id": "i9RgI75OkLbh"
      },
      "outputs": [],
      "source": [
        "# #kNN\n",
        "# from sklearn.neighbors import KNeighborsClassifier\n",
        "\n",
        "# knn= KNeighborsClassifier(n_neighbors=3)\n",
        "\n",
        "# #fit the clasifier to the data\n",
        "# knn.fit(X_resampled, y_resampled)\n",
        "\n",
        "# #predicted values using the knn model\n",
        "# knn_predictions=knn.predict(X_test)\n",
        "\n",
        "# #performance metrics\n",
        "# from sklearn import metrics\n",
        "# #from sklearn.metrics import accuracy_score, confusion_matrix, classification_report\n",
        "\n",
        "# print(confusion_matrix(y_test, knn_predictions), '\\n')\n",
        "# print('Mean Absolute Error:', metrics.mean_absolute_error(y_test, knn_predictions))\n",
        "# print('Mean Squared Error:', metrics.mean_squared_error(y_test, knn_predictions))\n",
        "# print('Root Mean Squared Error:', np.sqrt(metrics.mean_squared_error(y_test, knn_predictions)), '\\n')\n",
        "\n",
        "# print(classification_report(y_test, knn_predictions))\n",
        "# print(\"Accuracy:\", accuracy_score(y_test, knn_predictions))\n",
        "# print(\"AUC:\", roc_auc_score(y_test, knn_predictions))"
      ]
    },
    {
      "cell_type": "code",
      "execution_count": null,
      "metadata": {
        "id": "aGmq6H1QkLbh"
      },
      "outputs": [],
      "source": []
    }
  ],
  "metadata": {
    "kernelspec": {
      "display_name": "Python 3",
      "language": "python",
      "name": "python3"
    },
    "language_info": {
      "codemirror_mode": {
        "name": "ipython",
        "version": 3
      },
      "file_extension": ".py",
      "mimetype": "text/x-python",
      "name": "python",
      "nbconvert_exporter": "python",
      "pygments_lexer": "ipython3",
      "version": "3.6.10"
    },
    "colab": {
      "provenance": []
    }
  },
  "nbformat": 4,
  "nbformat_minor": 0
}