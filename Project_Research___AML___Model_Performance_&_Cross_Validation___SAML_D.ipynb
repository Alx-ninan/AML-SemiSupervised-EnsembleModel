{
  "cells": [
    {
      "cell_type": "code",
      "execution_count": null,
      "metadata": {
        "id": "Y9Adzt41lepw"
      },
      "outputs": [],
      "source": [
        "import pandas as pd\n",
        "import numpy as np\n",
        "import matplotlib.pyplot as plt\n",
        "import seaborn as sns\n",
        "from scipy.stats import chi2_contingency\n",
        "from sklearn.model_selection import train_test_split"
      ]
    },
    {
      "cell_type": "code",
      "execution_count": null,
      "metadata": {
        "id": "vA7KA_m4lep0"
      },
      "outputs": [],
      "source": [
        "df_normt = pd.read_csv('transactions_norm_standardscaler.csv')"
      ]
    },
    {
      "cell_type": "code",
      "execution_count": null,
      "metadata": {
        "id": "vb1_zyzMlep0",
        "outputId": "499f7c64-8e16-410f-85a6-33f0596486dd"
      },
      "outputs": [
        {
          "data": {
            "text/html": [
              "<div>\n",
              "<style scoped>\n",
              "    .dataframe tbody tr th:only-of-type {\n",
              "        vertical-align: middle;\n",
              "    }\n",
              "\n",
              "    .dataframe tbody tr th {\n",
              "        vertical-align: top;\n",
              "    }\n",
              "\n",
              "    .dataframe thead th {\n",
              "        text-align: right;\n",
              "    }\n",
              "</style>\n",
              "<table border=\"1\" class=\"dataframe\">\n",
              "  <thead>\n",
              "    <tr style=\"text-align: right;\">\n",
              "      <th></th>\n",
              "      <th>Time</th>\n",
              "      <th>Date</th>\n",
              "      <th>Sender_account</th>\n",
              "      <th>Receiver_account</th>\n",
              "      <th>Amount</th>\n",
              "      <th>Payment_currency</th>\n",
              "      <th>Received_currency</th>\n",
              "      <th>Sender_bank_location</th>\n",
              "      <th>Receiver_bank_location</th>\n",
              "      <th>Payment_type</th>\n",
              "      <th>Laundering_type</th>\n",
              "      <th>Is_laundering</th>\n",
              "    </tr>\n",
              "  </thead>\n",
              "  <tbody>\n",
              "    <tr>\n",
              "      <th>0</th>\n",
              "      <td>-0.716449</td>\n",
              "      <td>-1.0</td>\n",
              "      <td>1.000000</td>\n",
              "      <td>-0.775333</td>\n",
              "      <td>-0.285139</td>\n",
              "      <td>0.171435</td>\n",
              "      <td>0.23455</td>\n",
              "      <td>0.156459</td>\n",
              "      <td>0.226096</td>\n",
              "      <td>-1.000000</td>\n",
              "      <td>-1.000000</td>\n",
              "      <td>0</td>\n",
              "    </tr>\n",
              "    <tr>\n",
              "      <th>1</th>\n",
              "      <td>-0.716400</td>\n",
              "      <td>-1.0</td>\n",
              "      <td>-1.000000</td>\n",
              "      <td>1.000000</td>\n",
              "      <td>-0.107099</td>\n",
              "      <td>0.171435</td>\n",
              "      <td>-1.00000</td>\n",
              "      <td>0.156459</td>\n",
              "      <td>-0.191672</td>\n",
              "      <td>0.793335</td>\n",
              "      <td>-0.678404</td>\n",
              "      <td>0</td>\n",
              "    </tr>\n",
              "    <tr>\n",
              "      <th>2</th>\n",
              "      <td>-0.716400</td>\n",
              "      <td>-1.0</td>\n",
              "      <td>-1.000000</td>\n",
              "      <td>-0.208419</td>\n",
              "      <td>0.217274</td>\n",
              "      <td>0.171435</td>\n",
              "      <td>0.23455</td>\n",
              "      <td>0.156459</td>\n",
              "      <td>0.226096</td>\n",
              "      <td>-0.156956</td>\n",
              "      <td>1.000000</td>\n",
              "      <td>0</td>\n",
              "    </tr>\n",
              "    <tr>\n",
              "      <th>3</th>\n",
              "      <td>-0.716352</td>\n",
              "      <td>-1.0</td>\n",
              "      <td>0.128225</td>\n",
              "      <td>1.000000</td>\n",
              "      <td>0.122274</td>\n",
              "      <td>0.171435</td>\n",
              "      <td>0.23455</td>\n",
              "      <td>0.156459</td>\n",
              "      <td>0.226096</td>\n",
              "      <td>-1.000000</td>\n",
              "      <td>-0.989758</td>\n",
              "      <td>0</td>\n",
              "    </tr>\n",
              "    <tr>\n",
              "      <th>4</th>\n",
              "      <td>-0.716352</td>\n",
              "      <td>-1.0</td>\n",
              "      <td>1.000000</td>\n",
              "      <td>-0.416904</td>\n",
              "      <td>-0.337604</td>\n",
              "      <td>0.171435</td>\n",
              "      <td>0.23455</td>\n",
              "      <td>0.156459</td>\n",
              "      <td>0.226096</td>\n",
              "      <td>-1.000000</td>\n",
              "      <td>-1.000000</td>\n",
              "      <td>0</td>\n",
              "    </tr>\n",
              "  </tbody>\n",
              "</table>\n",
              "</div>"
            ],
            "text/plain": [
              "       Time  Date  Sender_account  Receiver_account    Amount  \\\n",
              "0 -0.716449  -1.0        1.000000         -0.775333 -0.285139   \n",
              "1 -0.716400  -1.0       -1.000000          1.000000 -0.107099   \n",
              "2 -0.716400  -1.0       -1.000000         -0.208419  0.217274   \n",
              "3 -0.716352  -1.0        0.128225          1.000000  0.122274   \n",
              "4 -0.716352  -1.0        1.000000         -0.416904 -0.337604   \n",
              "\n",
              "   Payment_currency  Received_currency  Sender_bank_location  \\\n",
              "0          0.171435            0.23455              0.156459   \n",
              "1          0.171435           -1.00000              0.156459   \n",
              "2          0.171435            0.23455              0.156459   \n",
              "3          0.171435            0.23455              0.156459   \n",
              "4          0.171435            0.23455              0.156459   \n",
              "\n",
              "   Receiver_bank_location  Payment_type  Laundering_type  Is_laundering  \n",
              "0                0.226096     -1.000000        -1.000000              0  \n",
              "1               -0.191672      0.793335        -0.678404              0  \n",
              "2                0.226096     -0.156956         1.000000              0  \n",
              "3                0.226096     -1.000000        -0.989758              0  \n",
              "4                0.226096     -1.000000        -1.000000              0  "
            ]
          },
          "execution_count": 3,
          "metadata": {},
          "output_type": "execute_result"
        }
      ],
      "source": [
        "df_normt.head()"
      ]
    },
    {
      "cell_type": "code",
      "execution_count": null,
      "metadata": {
        "id": "T7oVVNeylep1",
        "outputId": "ae746416-ec5e-43c5-80a3-85ed7c84f7dd"
      },
      "outputs": [
        {
          "data": {
            "text/plain": [
              "(9504852, 12)"
            ]
          },
          "execution_count": 4,
          "metadata": {},
          "output_type": "execute_result"
        }
      ],
      "source": [
        "df_normt.shape"
      ]
    },
    {
      "cell_type": "code",
      "execution_count": null,
      "metadata": {
        "id": "Lk7lBvc6lep2",
        "outputId": "6a4c90c0-3047-4379-8862-2de8e45c429f"
      },
      "outputs": [
        {
          "data": {
            "text/plain": [
              "['Time',\n",
              " 'Date',\n",
              " 'Sender_account',\n",
              " 'Receiver_account',\n",
              " 'Amount',\n",
              " 'Payment_currency',\n",
              " 'Received_currency',\n",
              " 'Sender_bank_location',\n",
              " 'Receiver_bank_location',\n",
              " 'Payment_type',\n",
              " 'Laundering_type']"
            ]
          },
          "execution_count": 5,
          "metadata": {},
          "output_type": "execute_result"
        }
      ],
      "source": [
        "# Using Conditional  List Comphersion to select the feature columns\n",
        "\n",
        "feature_cols = [item for item in df_normt.columns if item != 'Is_laundering']\n",
        "feature_cols"
      ]
    },
    {
      "cell_type": "code",
      "execution_count": null,
      "metadata": {
        "id": "XI8uz6O4lep2"
      },
      "outputs": [],
      "source": [
        "# Applying SMOTE to balance the dataset\n",
        "\n",
        "from imblearn.over_sampling import SMOTE\n",
        "\n",
        "X= df_normt[feature_cols]\n",
        "y= df_normt['Is_laundering']\n",
        "\n",
        "smote = SMOTE(random_state=42)\n",
        "X_resampled, y_resampled = smote.fit_resample(X, y)"
      ]
    },
    {
      "cell_type": "code",
      "execution_count": null,
      "metadata": {
        "id": "5LqqBErElep2"
      },
      "outputs": [],
      "source": [
        "# Spliting data into training and testing samples\n",
        "\n",
        "from sklearn.model_selection import train_test_split\n",
        "X_train, X_test, y_train, y_test = train_test_split(X_resampled, y_resampled, test_size=0.25, random_state=0)"
      ]
    },
    {
      "cell_type": "code",
      "execution_count": null,
      "metadata": {
        "id": "VptvMaEBlep3"
      },
      "outputs": [],
      "source": [
        "# Loading the RF Blended model\n",
        "\n",
        "import joblib\n",
        "\n",
        "rf_loaded = joblib.load('random_forest_model.pkl')"
      ]
    },
    {
      "cell_type": "code",
      "execution_count": null,
      "metadata": {
        "id": "W4_Juw_Xlep3",
        "outputId": "c31aea4f-0ccb-41d8-c423-811afc078a2d"
      },
      "outputs": [
        {
          "name": "stdout",
          "output_type": "stream",
          "text": [
            "[[2366612    6885]\n",
            " [   1061 2372932]] \n",
            "\n",
            "Mean Absolute Error: 0.001673726537601975\n",
            "Mean Squared Error: 0.001673726537601975\n",
            "Root Mean Squared Error: 0.040911203081820696 \n",
            "\n",
            "              precision    recall  f1-score   support\n",
            "\n",
            "           0       1.00      1.00      1.00   2373497\n",
            "           1       1.00      1.00      1.00   2373993\n",
            "\n",
            "    accuracy                           1.00   4747490\n",
            "   macro avg       1.00      1.00      1.00   4747490\n",
            "weighted avg       1.00      1.00      1.00   4747490\n",
            "\n",
            "Accuracy: 0.998326273462398\n",
            "AUC: 0.9983261452775092\n"
          ]
        }
      ],
      "source": [
        "#fit the classifier to the data\n",
        "rf_loaded_model = rf_loaded.fit(X_train, y_train)\n",
        "\n",
        "#use the resulting model to predict value on the test set\n",
        "rf_loaded_predictions = rf_loaded.predict(X_test)\n",
        "\n",
        "\n",
        "#performance metrics\n",
        "from sklearn import metrics\n",
        "from sklearn.metrics import accuracy_score, confusion_matrix, classification_report, roc_auc_score\n",
        "\n",
        "print(confusion_matrix(y_test, rf_loaded_predictions), '\\n')\n",
        "print('Mean Absolute Error:', metrics.mean_absolute_error(y_test, rf_loaded_predictions))\n",
        "print('Mean Squared Error:', metrics.mean_squared_error(y_test, rf_loaded_predictions))\n",
        "print('Root Mean Squared Error:', np.sqrt(metrics.mean_squared_error(y_test, rf_loaded_predictions)), '\\n')\n",
        "\n",
        "print(classification_report(y_test, rf_loaded_predictions))\n",
        "print(\"Accuracy:\", accuracy_score(y_test, rf_loaded_predictions))\n",
        "print(\"AUC:\", roc_auc_score(y_test, rf_loaded_predictions))"
      ]
    },
    {
      "cell_type": "code",
      "execution_count": null,
      "metadata": {
        "id": "KM_2mtP5lep3",
        "outputId": "89b9b143-c0b1-4e7c-9aab-f5a572bf43e0"
      },
      "outputs": [
        {
          "name": "stdout",
          "output_type": "stream",
          "text": [
            "[[8206084 1288895]\n",
            " [   4174 9490805]] \n",
            "\n",
            "Mean Absolute Error: 0.0680922517048221\n",
            "Mean Squared Error: 0.0680922517048221\n",
            "Root Mean Squared Error: 0.26094492082587484 \n",
            "\n",
            "              precision    recall  f1-score   support\n",
            "\n",
            "           0       1.00      0.86      0.93   9494979\n",
            "           1       0.88      1.00      0.94   9494979\n",
            "\n",
            "    accuracy                           0.93  18989958\n",
            "   macro avg       0.94      0.93      0.93  18989958\n",
            "weighted avg       0.94      0.93      0.93  18989958\n",
            "\n",
            "Accuracy: 0.9319077482951779\n",
            "AUC: 0.9319077482951779\n"
          ]
        }
      ],
      "source": [
        "#performance metrics\n",
        "\n",
        "from sklearn.model_selection import cross_val_predict\n",
        "\n",
        "#predicted values\n",
        "y_pred = cross_val_predict(rf_loaded_model, X_resampled, y_resampled, cv=5)\n",
        "\n",
        "print(confusion_matrix(y_resampled, y_pred), '\\n')\n",
        "print('Mean Absolute Error:', metrics.mean_absolute_error(y_resampled, y_pred))\n",
        "print('Mean Squared Error:', metrics.mean_squared_error(y_resampled, y_pred))\n",
        "print('Root Mean Squared Error:', np.sqrt(metrics.mean_squared_error(y_resampled, y_pred)), '\\n')\n",
        "\n",
        "print(classification_report(y_resampled, y_pred))\n",
        "print(\"Accuracy:\", accuracy_score(y_resampled, y_pred))\n",
        "print(\"AUC:\", roc_auc_score(y_resampled, y_pred))"
      ]
    },
    {
      "cell_type": "code",
      "execution_count": null,
      "metadata": {
        "id": "R3d2azeKlep4"
      },
      "outputs": [],
      "source": [
        "\n",
        "# Save predictions as a CSV file\n",
        "pd.DataFrame(rf_loaded_predictions, columns=['Predictions- BlendingRF_M']).to_csv('Predictions- BlendingRF_M.csv', index=False)"
      ]
    },
    {
      "cell_type": "code",
      "execution_count": null,
      "metadata": {
        "id": "H1vRJjtQlep4",
        "outputId": "d300eacd-8829-4901-8572-45c0d2f7794e"
      },
      "outputs": [
        {
          "data": {
            "text/plain": [
              "(4747490,)"
            ]
          },
          "execution_count": 13,
          "metadata": {},
          "output_type": "execute_result"
        }
      ],
      "source": [
        "rf_loaded_predictions.shape"
      ]
    },
    {
      "cell_type": "code",
      "execution_count": null,
      "metadata": {
        "id": "nO-9E-ejlep4",
        "outputId": "44f9aa77-1bf9-44a2-f4a1-e6c6cda8ddb0"
      },
      "outputs": [
        {
          "data": {
            "text/plain": [
              "(4747490, 11)"
            ]
          },
          "execution_count": 15,
          "metadata": {},
          "output_type": "execute_result"
        }
      ],
      "source": [
        "X_test.shape"
      ]
    },
    {
      "cell_type": "code",
      "execution_count": null,
      "metadata": {
        "id": "2nKxlEQAlep4",
        "outputId": "498e3ecf-43cd-4b15-80ab-200bafa2779f"
      },
      "outputs": [
        {
          "data": {
            "text/plain": [
              "Index(['Time', 'Date', 'Sender_account', 'Receiver_account', 'Amount',\n",
              "       'Payment_currency', 'Received_currency', 'Sender_bank_location',\n",
              "       'Receiver_bank_location', 'Payment_type', 'Laundering_type'],\n",
              "      dtype='object')"
            ]
          },
          "execution_count": 17,
          "metadata": {},
          "output_type": "execute_result"
        }
      ],
      "source": [
        "X_test.keys()"
      ]
    },
    {
      "cell_type": "code",
      "execution_count": null,
      "metadata": {
        "id": "JMmIiBRXlep5",
        "outputId": "77fa7d9c-1673-4573-c83f-a1e67a0f4455"
      },
      "outputs": [
        {
          "data": {
            "text/plain": [
              "(4747490,)"
            ]
          },
          "execution_count": 16,
          "metadata": {},
          "output_type": "execute_result"
        }
      ],
      "source": [
        "y_test.shape"
      ]
    },
    {
      "cell_type": "code",
      "execution_count": null,
      "metadata": {
        "id": "tpKFwKwUlep5",
        "outputId": "260a6c6b-e3f6-4bc3-c460-02e392565e32"
      },
      "outputs": [
        {
          "data": {
            "text/plain": [
              "1    2373993\n",
              "0    2373497\n",
              "Name: Is_laundering, dtype: int64"
            ]
          },
          "execution_count": 21,
          "metadata": {},
          "output_type": "execute_result"
        }
      ],
      "source": [
        "y_test.value_counts()"
      ]
    },
    {
      "cell_type": "code",
      "execution_count": null,
      "metadata": {
        "id": "sHJjX67nlep5"
      },
      "outputs": [],
      "source": [
        "y_test_series = pd.Series(y_test, name='Actual Is_laundering').reset_index(drop=True)\n",
        "rf_predictions_series = pd.Series(rf_loaded_predictions, name='Predicted BlendingRF_M').reset_index(drop=True)\n",
        "# Reset the index of X_test\n",
        "X_test_reset = X_test.reset_index(drop=True)\n",
        "\n",
        "combined_df = pd.concat([X_test_reset, y_test_series, rf_predictions_series], axis=1)"
      ]
    },
    {
      "cell_type": "code",
      "execution_count": null,
      "metadata": {
        "id": "2alrXR-Olep5",
        "outputId": "f35dca79-b46f-4e87-a157-2644403bf252"
      },
      "outputs": [
        {
          "data": {
            "text/html": [
              "<div>\n",
              "<style scoped>\n",
              "    .dataframe tbody tr th:only-of-type {\n",
              "        vertical-align: middle;\n",
              "    }\n",
              "\n",
              "    .dataframe tbody tr th {\n",
              "        vertical-align: top;\n",
              "    }\n",
              "\n",
              "    .dataframe thead th {\n",
              "        text-align: right;\n",
              "    }\n",
              "</style>\n",
              "<table border=\"1\" class=\"dataframe\">\n",
              "  <thead>\n",
              "    <tr style=\"text-align: right;\">\n",
              "      <th></th>\n",
              "      <th>Time</th>\n",
              "      <th>Date</th>\n",
              "      <th>Sender_account</th>\n",
              "      <th>Receiver_account</th>\n",
              "      <th>Amount</th>\n",
              "      <th>Payment_currency</th>\n",
              "      <th>Received_currency</th>\n",
              "      <th>Sender_bank_location</th>\n",
              "      <th>Receiver_bank_location</th>\n",
              "      <th>Payment_type</th>\n",
              "      <th>Laundering_type</th>\n",
              "      <th>Actual Is_laundering</th>\n",
              "      <th>Predicted BlendingRF_M</th>\n",
              "    </tr>\n",
              "  </thead>\n",
              "  <tbody>\n",
              "    <tr>\n",
              "      <th>0</th>\n",
              "      <td>0.228450</td>\n",
              "      <td>-0.815028</td>\n",
              "      <td>-0.932483</td>\n",
              "      <td>-1.000000</td>\n",
              "      <td>-0.332644</td>\n",
              "      <td>0.171435</td>\n",
              "      <td>0.23455</td>\n",
              "      <td>0.156459</td>\n",
              "      <td>0.226096</td>\n",
              "      <td>0.318189</td>\n",
              "      <td>1.000000</td>\n",
              "      <td>0</td>\n",
              "      <td>0</td>\n",
              "    </tr>\n",
              "    <tr>\n",
              "      <th>1</th>\n",
              "      <td>0.555261</td>\n",
              "      <td>-0.738835</td>\n",
              "      <td>-1.000000</td>\n",
              "      <td>-0.769014</td>\n",
              "      <td>-0.339397</td>\n",
              "      <td>0.171435</td>\n",
              "      <td>0.23455</td>\n",
              "      <td>0.156459</td>\n",
              "      <td>0.226096</td>\n",
              "      <td>-1.000000</td>\n",
              "      <td>1.000000</td>\n",
              "      <td>0</td>\n",
              "      <td>0</td>\n",
              "    </tr>\n",
              "    <tr>\n",
              "      <th>2</th>\n",
              "      <td>0.687549</td>\n",
              "      <td>1.000000</td>\n",
              "      <td>1.000000</td>\n",
              "      <td>0.393095</td>\n",
              "      <td>0.295608</td>\n",
              "      <td>0.171435</td>\n",
              "      <td>0.23455</td>\n",
              "      <td>0.156459</td>\n",
              "      <td>0.226096</td>\n",
              "      <td>-0.156956</td>\n",
              "      <td>-0.989758</td>\n",
              "      <td>0</td>\n",
              "      <td>0</td>\n",
              "    </tr>\n",
              "    <tr>\n",
              "      <th>3</th>\n",
              "      <td>1.000000</td>\n",
              "      <td>0.623569</td>\n",
              "      <td>-0.027022</td>\n",
              "      <td>-0.506008</td>\n",
              "      <td>-0.229645</td>\n",
              "      <td>0.171435</td>\n",
              "      <td>0.23455</td>\n",
              "      <td>0.156459</td>\n",
              "      <td>0.226096</td>\n",
              "      <td>0.318189</td>\n",
              "      <td>1.000000</td>\n",
              "      <td>1</td>\n",
              "      <td>1</td>\n",
              "    </tr>\n",
              "    <tr>\n",
              "      <th>4</th>\n",
              "      <td>0.642498</td>\n",
              "      <td>-0.640871</td>\n",
              "      <td>1.000000</td>\n",
              "      <td>-0.730042</td>\n",
              "      <td>0.128140</td>\n",
              "      <td>0.171435</td>\n",
              "      <td>0.23455</td>\n",
              "      <td>0.156459</td>\n",
              "      <td>0.226096</td>\n",
              "      <td>-1.000000</td>\n",
              "      <td>-0.989758</td>\n",
              "      <td>0</td>\n",
              "      <td>0</td>\n",
              "    </tr>\n",
              "  </tbody>\n",
              "</table>\n",
              "</div>"
            ],
            "text/plain": [
              "       Time      Date  Sender_account  Receiver_account    Amount  \\\n",
              "0  0.228450 -0.815028       -0.932483         -1.000000 -0.332644   \n",
              "1  0.555261 -0.738835       -1.000000         -0.769014 -0.339397   \n",
              "2  0.687549  1.000000        1.000000          0.393095  0.295608   \n",
              "3  1.000000  0.623569       -0.027022         -0.506008 -0.229645   \n",
              "4  0.642498 -0.640871        1.000000         -0.730042  0.128140   \n",
              "\n",
              "   Payment_currency  Received_currency  Sender_bank_location  \\\n",
              "0          0.171435            0.23455              0.156459   \n",
              "1          0.171435            0.23455              0.156459   \n",
              "2          0.171435            0.23455              0.156459   \n",
              "3          0.171435            0.23455              0.156459   \n",
              "4          0.171435            0.23455              0.156459   \n",
              "\n",
              "   Receiver_bank_location  Payment_type  Laundering_type  \\\n",
              "0                0.226096      0.318189         1.000000   \n",
              "1                0.226096     -1.000000         1.000000   \n",
              "2                0.226096     -0.156956        -0.989758   \n",
              "3                0.226096      0.318189         1.000000   \n",
              "4                0.226096     -1.000000        -0.989758   \n",
              "\n",
              "   Actual Is_laundering  Predicted BlendingRF_M  \n",
              "0                     0                       0  \n",
              "1                     0                       0  \n",
              "2                     0                       0  \n",
              "3                     1                       1  \n",
              "4                     0                       0  "
            ]
          },
          "execution_count": 40,
          "metadata": {},
          "output_type": "execute_result"
        }
      ],
      "source": [
        "combined_df.head()"
      ]
    },
    {
      "cell_type": "code",
      "execution_count": null,
      "metadata": {
        "id": "klruDPyTlep6",
        "outputId": "cca8c48a-78f6-4c14-cd11-e94f37981739"
      },
      "outputs": [
        {
          "data": {
            "text/plain": [
              "Time                      4747490\n",
              "Date                      4747490\n",
              "Sender_account            4747490\n",
              "Receiver_account          4747490\n",
              "Amount                    4747490\n",
              "Payment_currency          4747490\n",
              "Received_currency         4747490\n",
              "Sender_bank_location      4747490\n",
              "Receiver_bank_location    4747490\n",
              "Payment_type              4747490\n",
              "Laundering_type           4747490\n",
              "Actual Is_laundering      4747490\n",
              "Predicted BlendingRF_M    4747490\n",
              "dtype: int64"
            ]
          },
          "execution_count": 41,
          "metadata": {},
          "output_type": "execute_result"
        }
      ],
      "source": [
        "combined_df.notnull().sum()"
      ]
    },
    {
      "cell_type": "code",
      "execution_count": null,
      "metadata": {
        "id": "F-5shws8lep6",
        "outputId": "1a0011d5-c026-4703-d5ce-926557a222b9"
      },
      "outputs": [
        {
          "data": {
            "text/plain": [
              "Time                      0\n",
              "Date                      0\n",
              "Sender_account            0\n",
              "Receiver_account          0\n",
              "Amount                    0\n",
              "Payment_currency          0\n",
              "Received_currency         0\n",
              "Sender_bank_location      0\n",
              "Receiver_bank_location    0\n",
              "Payment_type              0\n",
              "Laundering_type           0\n",
              "Actual Is_laundering      0\n",
              "Predicted BlendingRF_M    0\n",
              "dtype: int64"
            ]
          },
          "execution_count": 42,
          "metadata": {},
          "output_type": "execute_result"
        }
      ],
      "source": [
        "combined_df.isnull().sum()"
      ]
    },
    {
      "cell_type": "code",
      "execution_count": null,
      "metadata": {
        "id": "f20gvJdGlep6",
        "outputId": "6c2bd20c-1b68-4a8f-d43a-0c152af3a6d4"
      },
      "outputs": [
        {
          "data": {
            "text/plain": [
              "(4747490, 13)"
            ]
          },
          "execution_count": 43,
          "metadata": {},
          "output_type": "execute_result"
        }
      ],
      "source": [
        "combined_df.shape"
      ]
    },
    {
      "cell_type": "code",
      "execution_count": null,
      "metadata": {
        "id": "1hgUjN4_lep6"
      },
      "outputs": [],
      "source": [
        "# Save the DataFrame to a CSV file\n",
        "combined_df.to_csv('combined_data_BlendingRFpreds.csv', index=False)"
      ]
    },
    {
      "cell_type": "code",
      "execution_count": null,
      "metadata": {
        "id": "rucz5LCOlep6",
        "outputId": "e49dfa9d-92ce-4cc9-c6c0-ac368dc91d65"
      },
      "outputs": [
        {
          "name": "stdout",
          "output_type": "stream",
          "text": [
            "Defaulting to user installation because normal site-packages is not writeable\n",
            "Collecting yellowbrick\n",
            "  Downloading yellowbrick-1.5-py3-none-any.whl (282 kB)\n",
            "     |████████████████████████████████| 282 kB 9.5 MB/s            \n",
            "\u001b[?25hRequirement already satisfied: numpy>=1.16.0 in /home/anaconda3/lib/python3.6/site-packages (from yellowbrick) (1.19.5)\n",
            "  Downloading yellowbrick-1.4-py3-none-any.whl (274 kB)\n",
            "     |████████████████████████████████| 274 kB 41.2 MB/s            \n",
            "\u001b[?25h  Downloading yellowbrick-1.3.post1-py3-none-any.whl (271 kB)\n",
            "     |████████████████████████████████| 271 kB 36.9 MB/s            \n",
            "\u001b[?25hRequirement already satisfied: matplotlib!=3.0.0,>=2.0.2 in /home/anaconda3/lib/python3.6/site-packages (from yellowbrick) (3.0.2)\n",
            "Requirement already satisfied: scipy>=1.0.0 in /home/anaconda3/lib/python3.6/site-packages (from yellowbrick) (1.5.2)\n",
            "Requirement already satisfied: cycler>=0.10.0 in /home/anaconda3/lib/python3.6/site-packages (from yellowbrick) (0.10.0)\n",
            "Requirement already satisfied: scikit-learn>=0.20 in /home/up2215106/.local/lib/python3.6/site-packages (from yellowbrick) (0.24.2)\n",
            "Requirement already satisfied: six in /home/anaconda3/lib/python3.6/site-packages (from cycler>=0.10.0->yellowbrick) (1.15.0)\n",
            "Requirement already satisfied: kiwisolver>=1.0.1 in /home/anaconda3/lib/python3.6/site-packages (from matplotlib!=3.0.0,>=2.0.2->yellowbrick) (1.0.1)\n",
            "Requirement already satisfied: pyparsing!=2.0.4,!=2.1.2,!=2.1.6,>=2.0.1 in /home/anaconda3/lib/python3.6/site-packages (from matplotlib!=3.0.0,>=2.0.2->yellowbrick) (2.3.1)\n",
            "Requirement already satisfied: python-dateutil>=2.1 in /home/anaconda3/lib/python3.6/site-packages (from matplotlib!=3.0.0,>=2.0.2->yellowbrick) (2.8.0)\n",
            "Requirement already satisfied: joblib>=0.11 in /home/anaconda3/lib/python3.6/site-packages (from scikit-learn>=0.20->yellowbrick) (0.16.0)\n",
            "Requirement already satisfied: threadpoolctl>=2.0.0 in /home/anaconda3/lib/python3.6/site-packages (from scikit-learn>=0.20->yellowbrick) (2.1.0)\n",
            "Requirement already satisfied: setuptools in /home/anaconda3/lib/python3.6/site-packages (from kiwisolver>=1.0.1->matplotlib!=3.0.0,>=2.0.2->yellowbrick) (59.6.0)\n",
            "Installing collected packages: yellowbrick\n",
            "Successfully installed yellowbrick-1.3.post1\n",
            "Note: you may need to restart the kernel to use updated packages.\n"
          ]
        }
      ],
      "source": [
        "pip install yellowbrick"
      ]
    },
    {
      "cell_type": "code",
      "execution_count": null,
      "metadata": {
        "id": "3mzQByxSlep6"
      },
      "outputs": [],
      "source": []
    }
  ],
  "metadata": {
    "kernelspec": {
      "display_name": "Python 3",
      "language": "python",
      "name": "python3"
    },
    "language_info": {
      "codemirror_mode": {
        "name": "ipython",
        "version": 3
      },
      "file_extension": ".py",
      "mimetype": "text/x-python",
      "name": "python",
      "nbconvert_exporter": "python",
      "pygments_lexer": "ipython3",
      "version": "3.6.10"
    },
    "colab": {
      "provenance": []
    }
  },
  "nbformat": 4,
  "nbformat_minor": 0
}