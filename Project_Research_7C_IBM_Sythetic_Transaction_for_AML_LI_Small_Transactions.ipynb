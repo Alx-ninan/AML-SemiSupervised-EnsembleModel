{
  "cells": [
    {
      "cell_type": "code",
      "execution_count": null,
      "metadata": {
        "id": "xsP6Ha4VGOkA"
      },
      "outputs": [],
      "source": [
        "import pandas as pd\n",
        "import numpy as np\n",
        "import matplotlib.pyplot as plt\n",
        "import seaborn as sns\n",
        "\n",
        "from scipy.stats import chi2_contingency"
      ]
    },
    {
      "cell_type": "code",
      "execution_count": null,
      "metadata": {
        "id": "YlrEg13PGOkr"
      },
      "outputs": [],
      "source": [
        "li_data = pd.read_csv('LI-Small_Trans.csv')"
      ]
    },
    {
      "cell_type": "code",
      "execution_count": null,
      "metadata": {
        "id": "-0RCPJlUGOk9",
        "outputId": "30b5872a-f87b-4924-bca7-baaa9beff648"
      },
      "outputs": [
        {
          "data": {
            "text/html": [
              "<div>\n",
              "<style scoped>\n",
              "    .dataframe tbody tr th:only-of-type {\n",
              "        vertical-align: middle;\n",
              "    }\n",
              "\n",
              "    .dataframe tbody tr th {\n",
              "        vertical-align: top;\n",
              "    }\n",
              "\n",
              "    .dataframe thead th {\n",
              "        text-align: right;\n",
              "    }\n",
              "</style>\n",
              "<table border=\"1\" class=\"dataframe\">\n",
              "  <thead>\n",
              "    <tr style=\"text-align: right;\">\n",
              "      <th></th>\n",
              "      <th>Timestamp</th>\n",
              "      <th>From Bank</th>\n",
              "      <th>Account</th>\n",
              "      <th>To Bank</th>\n",
              "      <th>Account.1</th>\n",
              "      <th>Amount Received</th>\n",
              "      <th>Receiving Currency</th>\n",
              "      <th>Amount Paid</th>\n",
              "      <th>Payment Currency</th>\n",
              "      <th>Payment Format</th>\n",
              "      <th>Is Laundering</th>\n",
              "    </tr>\n",
              "  </thead>\n",
              "  <tbody>\n",
              "    <tr>\n",
              "      <th>0</th>\n",
              "      <td>2022/09/01 00:08</td>\n",
              "      <td>11</td>\n",
              "      <td>8000ECA90</td>\n",
              "      <td>11</td>\n",
              "      <td>8000ECA90</td>\n",
              "      <td>3195403.00</td>\n",
              "      <td>US Dollar</td>\n",
              "      <td>3195403.00</td>\n",
              "      <td>US Dollar</td>\n",
              "      <td>Reinvestment</td>\n",
              "      <td>0</td>\n",
              "    </tr>\n",
              "    <tr>\n",
              "      <th>1</th>\n",
              "      <td>2022/09/01 00:21</td>\n",
              "      <td>3402</td>\n",
              "      <td>80021DAD0</td>\n",
              "      <td>3402</td>\n",
              "      <td>80021DAD0</td>\n",
              "      <td>1858.96</td>\n",
              "      <td>US Dollar</td>\n",
              "      <td>1858.96</td>\n",
              "      <td>US Dollar</td>\n",
              "      <td>Reinvestment</td>\n",
              "      <td>0</td>\n",
              "    </tr>\n",
              "    <tr>\n",
              "      <th>2</th>\n",
              "      <td>2022/09/01 00:00</td>\n",
              "      <td>11</td>\n",
              "      <td>8000ECA90</td>\n",
              "      <td>1120</td>\n",
              "      <td>8006AA910</td>\n",
              "      <td>592571.00</td>\n",
              "      <td>US Dollar</td>\n",
              "      <td>592571.00</td>\n",
              "      <td>US Dollar</td>\n",
              "      <td>Cheque</td>\n",
              "      <td>0</td>\n",
              "    </tr>\n",
              "    <tr>\n",
              "      <th>3</th>\n",
              "      <td>2022/09/01 00:16</td>\n",
              "      <td>3814</td>\n",
              "      <td>8006AD080</td>\n",
              "      <td>3814</td>\n",
              "      <td>8006AD080</td>\n",
              "      <td>12.32</td>\n",
              "      <td>US Dollar</td>\n",
              "      <td>12.32</td>\n",
              "      <td>US Dollar</td>\n",
              "      <td>Reinvestment</td>\n",
              "      <td>0</td>\n",
              "    </tr>\n",
              "    <tr>\n",
              "      <th>4</th>\n",
              "      <td>2022/09/01 00:00</td>\n",
              "      <td>20</td>\n",
              "      <td>8006AD530</td>\n",
              "      <td>20</td>\n",
              "      <td>8006AD530</td>\n",
              "      <td>2941.56</td>\n",
              "      <td>US Dollar</td>\n",
              "      <td>2941.56</td>\n",
              "      <td>US Dollar</td>\n",
              "      <td>Reinvestment</td>\n",
              "      <td>0</td>\n",
              "    </tr>\n",
              "  </tbody>\n",
              "</table>\n",
              "</div>"
            ],
            "text/plain": [
              "          Timestamp  From Bank    Account  To Bank  Account.1  \\\n",
              "0  2022/09/01 00:08         11  8000ECA90       11  8000ECA90   \n",
              "1  2022/09/01 00:21       3402  80021DAD0     3402  80021DAD0   \n",
              "2  2022/09/01 00:00         11  8000ECA90     1120  8006AA910   \n",
              "3  2022/09/01 00:16       3814  8006AD080     3814  8006AD080   \n",
              "4  2022/09/01 00:00         20  8006AD530       20  8006AD530   \n",
              "\n",
              "   Amount Received Receiving Currency  Amount Paid Payment Currency  \\\n",
              "0       3195403.00          US Dollar   3195403.00        US Dollar   \n",
              "1          1858.96          US Dollar      1858.96        US Dollar   \n",
              "2        592571.00          US Dollar    592571.00        US Dollar   \n",
              "3            12.32          US Dollar        12.32        US Dollar   \n",
              "4          2941.56          US Dollar      2941.56        US Dollar   \n",
              "\n",
              "  Payment Format  Is Laundering  \n",
              "0   Reinvestment              0  \n",
              "1   Reinvestment              0  \n",
              "2         Cheque              0  \n",
              "3   Reinvestment              0  \n",
              "4   Reinvestment              0  "
            ]
          },
          "execution_count": 3,
          "metadata": {},
          "output_type": "execute_result"
        }
      ],
      "source": [
        "li_data.head()"
      ]
    },
    {
      "cell_type": "code",
      "execution_count": null,
      "metadata": {
        "id": "y4hzgIJfGOlE",
        "outputId": "a9d5505e-4dc6-4be2-b7f9-37ad2d34e794"
      },
      "outputs": [
        {
          "data": {
            "text/html": [
              "<div>\n",
              "<style scoped>\n",
              "    .dataframe tbody tr th:only-of-type {\n",
              "        vertical-align: middle;\n",
              "    }\n",
              "\n",
              "    .dataframe tbody tr th {\n",
              "        vertical-align: top;\n",
              "    }\n",
              "\n",
              "    .dataframe thead th {\n",
              "        text-align: right;\n",
              "    }\n",
              "</style>\n",
              "<table border=\"1\" class=\"dataframe\">\n",
              "  <thead>\n",
              "    <tr style=\"text-align: right;\">\n",
              "      <th></th>\n",
              "      <th>Timestamp</th>\n",
              "      <th>From Bank</th>\n",
              "      <th>Account</th>\n",
              "      <th>To Bank</th>\n",
              "      <th>Account.1</th>\n",
              "      <th>Amount Received</th>\n",
              "      <th>Receiving Currency</th>\n",
              "      <th>Amount Paid</th>\n",
              "      <th>Payment Currency</th>\n",
              "      <th>Payment Format</th>\n",
              "      <th>Is Laundering</th>\n",
              "    </tr>\n",
              "  </thead>\n",
              "  <tbody>\n",
              "    <tr>\n",
              "      <th>6924044</th>\n",
              "      <td>2022/09/10 23:39</td>\n",
              "      <td>71696</td>\n",
              "      <td>81B2518F1</td>\n",
              "      <td>71528</td>\n",
              "      <td>81C0482E1</td>\n",
              "      <td>0.033469</td>\n",
              "      <td>Bitcoin</td>\n",
              "      <td>0.033469</td>\n",
              "      <td>Bitcoin</td>\n",
              "      <td>Bitcoin</td>\n",
              "      <td>0</td>\n",
              "    </tr>\n",
              "    <tr>\n",
              "      <th>6924045</th>\n",
              "      <td>2022/09/10 23:48</td>\n",
              "      <td>271241</td>\n",
              "      <td>81B567481</td>\n",
              "      <td>173457</td>\n",
              "      <td>81C0DA751</td>\n",
              "      <td>0.001313</td>\n",
              "      <td>Bitcoin</td>\n",
              "      <td>0.001313</td>\n",
              "      <td>Bitcoin</td>\n",
              "      <td>Bitcoin</td>\n",
              "      <td>0</td>\n",
              "    </tr>\n",
              "    <tr>\n",
              "      <th>6924046</th>\n",
              "      <td>2022/09/10 23:50</td>\n",
              "      <td>271241</td>\n",
              "      <td>81B567481</td>\n",
              "      <td>173457</td>\n",
              "      <td>81C0DA751</td>\n",
              "      <td>0.013058</td>\n",
              "      <td>Bitcoin</td>\n",
              "      <td>0.013058</td>\n",
              "      <td>Bitcoin</td>\n",
              "      <td>Bitcoin</td>\n",
              "      <td>0</td>\n",
              "    </tr>\n",
              "    <tr>\n",
              "      <th>6924047</th>\n",
              "      <td>2022/09/10 23:57</td>\n",
              "      <td>170558</td>\n",
              "      <td>81A2206B1</td>\n",
              "      <td>275798</td>\n",
              "      <td>81C1D5CA1</td>\n",
              "      <td>0.414537</td>\n",
              "      <td>Bitcoin</td>\n",
              "      <td>0.414537</td>\n",
              "      <td>Bitcoin</td>\n",
              "      <td>Bitcoin</td>\n",
              "      <td>0</td>\n",
              "    </tr>\n",
              "    <tr>\n",
              "      <th>6924048</th>\n",
              "      <td>2022/09/10 23:31</td>\n",
              "      <td>170558</td>\n",
              "      <td>81A2206B1</td>\n",
              "      <td>275798</td>\n",
              "      <td>81C1D5CA1</td>\n",
              "      <td>0.034277</td>\n",
              "      <td>Bitcoin</td>\n",
              "      <td>0.034277</td>\n",
              "      <td>Bitcoin</td>\n",
              "      <td>Bitcoin</td>\n",
              "      <td>0</td>\n",
              "    </tr>\n",
              "  </tbody>\n",
              "</table>\n",
              "</div>"
            ],
            "text/plain": [
              "                Timestamp  From Bank    Account  To Bank  Account.1  \\\n",
              "6924044  2022/09/10 23:39      71696  81B2518F1    71528  81C0482E1   \n",
              "6924045  2022/09/10 23:48     271241  81B567481   173457  81C0DA751   \n",
              "6924046  2022/09/10 23:50     271241  81B567481   173457  81C0DA751   \n",
              "6924047  2022/09/10 23:57     170558  81A2206B1   275798  81C1D5CA1   \n",
              "6924048  2022/09/10 23:31     170558  81A2206B1   275798  81C1D5CA1   \n",
              "\n",
              "         Amount Received Receiving Currency  Amount Paid Payment Currency  \\\n",
              "6924044         0.033469            Bitcoin     0.033469          Bitcoin   \n",
              "6924045         0.001313            Bitcoin     0.001313          Bitcoin   \n",
              "6924046         0.013058            Bitcoin     0.013058          Bitcoin   \n",
              "6924047         0.414537            Bitcoin     0.414537          Bitcoin   \n",
              "6924048         0.034277            Bitcoin     0.034277          Bitcoin   \n",
              "\n",
              "        Payment Format  Is Laundering  \n",
              "6924044        Bitcoin              0  \n",
              "6924045        Bitcoin              0  \n",
              "6924046        Bitcoin              0  \n",
              "6924047        Bitcoin              0  \n",
              "6924048        Bitcoin              0  "
            ]
          },
          "execution_count": 4,
          "metadata": {},
          "output_type": "execute_result"
        }
      ],
      "source": [
        "li_data.tail()"
      ]
    },
    {
      "cell_type": "code",
      "execution_count": null,
      "metadata": {
        "id": "qUa1Uo50GOlM",
        "outputId": "deb66a48-5fdb-48c0-b94c-35839f8d7cd7"
      },
      "outputs": [
        {
          "data": {
            "text/plain": [
              "Timestamp             6924049\n",
              "From Bank             6924049\n",
              "Account               6924049\n",
              "To Bank               6924049\n",
              "Account.1             6924049\n",
              "Amount Received       6924049\n",
              "Receiving Currency    6924049\n",
              "Amount Paid           6924049\n",
              "Payment Currency      6924049\n",
              "Payment Format        6924049\n",
              "Is Laundering         6924049\n",
              "dtype: int64"
            ]
          },
          "execution_count": 4,
          "metadata": {},
          "output_type": "execute_result"
        }
      ],
      "source": [
        "li_data.notnull().sum()"
      ]
    },
    {
      "cell_type": "code",
      "execution_count": null,
      "metadata": {
        "id": "dxr6bo9sGOlY",
        "outputId": "bf2b8360-e3be-4112-93b3-80dadffdb4e3"
      },
      "outputs": [
        {
          "data": {
            "text/plain": [
              "Timestamp             0\n",
              "From Bank             0\n",
              "Account               0\n",
              "To Bank               0\n",
              "Account.1             0\n",
              "Amount Received       0\n",
              "Receiving Currency    0\n",
              "Amount Paid           0\n",
              "Payment Currency      0\n",
              "Payment Format        0\n",
              "Is Laundering         0\n",
              "dtype: int64"
            ]
          },
          "execution_count": 5,
          "metadata": {},
          "output_type": "execute_result"
        }
      ],
      "source": [
        "li_data.isnull().sum()"
      ]
    },
    {
      "cell_type": "code",
      "execution_count": null,
      "metadata": {
        "id": "vlC8iLJhGOla",
        "outputId": "48abf78a-2a04-40fe-9b84-378de7b7d0e7"
      },
      "outputs": [
        {
          "data": {
            "text/plain": [
              "Index(['Timestamp', 'From Bank', 'Account', 'To Bank', 'Account.1',\n",
              "       'Amount Received', 'Receiving Currency', 'Amount Paid',\n",
              "       'Payment Currency', 'Payment Format', 'Is Laundering'],\n",
              "      dtype='object')"
            ]
          },
          "execution_count": 6,
          "metadata": {},
          "output_type": "execute_result"
        }
      ],
      "source": [
        "li_data.keys()"
      ]
    },
    {
      "cell_type": "code",
      "execution_count": null,
      "metadata": {
        "id": "XtuE-sQ6GOlc",
        "outputId": "9a989733-23f1-48ec-a94b-d0b68296f964"
      },
      "outputs": [
        {
          "data": {
            "text/plain": [
              "Timestamp              object\n",
              "From Bank               int64\n",
              "Account                object\n",
              "To Bank                 int64\n",
              "Account.1              object\n",
              "Amount Received       float64\n",
              "Receiving Currency     object\n",
              "Amount Paid           float64\n",
              "Payment Currency       object\n",
              "Payment Format         object\n",
              "Is Laundering           int64\n",
              "dtype: object"
            ]
          },
          "execution_count": 9,
          "metadata": {},
          "output_type": "execute_result"
        }
      ],
      "source": [
        "li_data.dtypes"
      ]
    },
    {
      "cell_type": "code",
      "execution_count": null,
      "metadata": {
        "id": "G61WbbD8GOld",
        "outputId": "96bf376a-8aaa-480a-d5b9-780ea3d5ded7"
      },
      "outputs": [
        {
          "data": {
            "text/plain": [
              "(6924049, 11)"
            ]
          },
          "execution_count": 10,
          "metadata": {},
          "output_type": "execute_result"
        }
      ],
      "source": [
        "li_data.shape"
      ]
    },
    {
      "cell_type": "code",
      "execution_count": null,
      "metadata": {
        "id": "T5KmQwxKGOlf",
        "outputId": "5fb1a03f-e1e8-43be-87de-54552569edad"
      },
      "outputs": [
        {
          "data": {
            "text/plain": [
              "count              6924049\n",
              "unique               14533\n",
              "top       2022/09/01 00:22\n",
              "freq                 15221\n",
              "Name: Timestamp, dtype: object"
            ]
          },
          "execution_count": 11,
          "metadata": {},
          "output_type": "execute_result"
        }
      ],
      "source": [
        "li_data['Timestamp'].describe()"
      ]
    },
    {
      "cell_type": "code",
      "execution_count": null,
      "metadata": {
        "id": "9feo-tRkGOlg",
        "outputId": "639fd6b3-394e-4ec5-9e56-a683af5ddd3d"
      },
      "outputs": [
        {
          "name": "stderr",
          "output_type": "stream",
          "text": [
            "/home/anaconda3/lib/python3.6/site-packages/pandas/plotting/_converter.py:129: FutureWarning: Using an implicitly registered datetime converter for a matplotlib plotting method. The converter was registered by pandas on import. Future versions of pandas will require you to explicitly register matplotlib converters.\n",
            "\n",
            "To register the converters:\n",
            "\t>>> from pandas.plotting import register_matplotlib_converters\n",
            "\t>>> register_matplotlib_converters()\n",
            "  warnings.warn(msg, FutureWarning)\n"
          ]
        },
        {
          "data": {
            "image/png": "[encoded data removed]",
            "text/plain": [
              "<Figure size 864x432 with 1 Axes>"
            ]
          },
          "metadata": {
            "needs_background": "light"
          },
          "output_type": "display_data"
        }
      ],
      "source": [
        "# Converting the attribute into datetime dtype\n",
        "Timestamp = pd.to_datetime(li_data['Timestamp'])\n",
        "\n",
        "\n",
        "# Extract the days from the timestamps\n",
        "days_transactions = Timestamp.dt.floor('D')\n",
        "\n",
        "\n",
        "# Plot histogram\n",
        "plt.figure(figsize=(12, 6))\n",
        "plt.hist(days_transactions, bins=len(days_transactions.unique()), edgecolor='black')\n",
        "plt.xlabel('Date')\n",
        "plt.ylabel('Frequency')\n",
        "plt.title('Histogram of Timestamps by Day')\n",
        "plt.xticks(rotation=45)\n",
        "plt.show()"
      ]
    },
    {
      "cell_type": "code",
      "execution_count": null,
      "metadata": {
        "id": "qe87I7FjGOli",
        "outputId": "89c062af-c746-4100-9f50-5e5e118c9da8"
      },
      "outputs": [
        {
          "data": {
            "text/plain": [
              "count   6924049\n",
              "mean      59387\n",
              "std       90517\n",
              "min           0\n",
              "25%         219\n",
              "50%       14195\n",
              "75%      110682\n",
              "max      376967\n",
              "Name: From Bank, dtype: float64"
            ]
          },
          "execution_count": 13,
          "metadata": {},
          "output_type": "execute_result"
        }
      ],
      "source": [
        "# Set the display format to avoid scientific notation\n",
        "pd.options.display.float_format = '{:.0f}'.format\n",
        "li_data['From Bank'].describe()"
      ]
    },
    {
      "cell_type": "code",
      "execution_count": null,
      "metadata": {
        "id": "XqURPU5YGOlr"
      },
      "outputs": [],
      "source": [
        "# Converting datatype float to str for 'FROM BANK' numbers\n",
        "li_data['From Bank']= li_data['From Bank'].astype(str)"
      ]
    },
    {
      "cell_type": "code",
      "execution_count": null,
      "metadata": {
        "id": "-18rJHSyGOl9",
        "outputId": "e8be15a5-25b3-4d81-92f9-c78ed6e7f901"
      },
      "outputs": [
        {
          "data": {
            "text/plain": [
              "count     6924049\n",
              "unique      41814\n",
              "top            70\n",
              "freq       609991\n",
              "Name: From Bank, dtype: object"
            ]
          },
          "execution_count": 15,
          "metadata": {},
          "output_type": "execute_result"
        }
      ],
      "source": [
        "li_data['From Bank'].describe()"
      ]
    },
    {
      "cell_type": "code",
      "execution_count": null,
      "metadata": {
        "id": "yUDwfBPYGOl9",
        "outputId": "d69ec27d-0f0f-4bba-cfd4-003357ad4bda"
      },
      "outputs": [
        {
          "data": {
            "text/plain": [
              "Text(0.5, 1.0, 'Top 25 Bank SENDER by Frequency of Transactions')"
            ]
          },
          "execution_count": 16,
          "metadata": {},
          "output_type": "execute_result"
        },
        {
          "data": {
            "image/png": "[encoded data removed]",
            "text/plain": [
              "<Figure size 864x432 with 1 Axes>"
            ]
          },
          "metadata": {
            "needs_background": "light"
          },
          "output_type": "display_data"
        }
      ],
      "source": [
        "# Visualising the Top 25 Sender's Bank by Frequency of Transactions\n",
        "\n",
        "plt.figure(figsize=(12, 6))\n",
        "li_data['From Bank'].value_counts().head(25).plot(kind='bar')\n",
        "\n",
        "# Label the axes and add a title\n",
        "plt.xlabel('From Bank - Sender')\n",
        "plt.ylabel('Frequency')\n",
        "plt.title('Top 25 Bank SENDER by Frequency of Transactions')\n"
      ]
    },
    {
      "cell_type": "code",
      "execution_count": null,
      "metadata": {
        "id": "7MjODfsFGOl-",
        "outputId": "e4e5e941-2e1c-4517-ec36-c35898751ccf"
      },
      "outputs": [
        {
          "data": {
            "text/plain": [
              "count     6924049\n",
              "unique      21588\n",
              "top            11\n",
              "freq        66055\n",
              "Name: To Bank, dtype: object"
            ]
          },
          "execution_count": 17,
          "metadata": {},
          "output_type": "execute_result"
        }
      ],
      "source": [
        "# Converting datatype float to str for 'TO BANK' numbers\n",
        "li_data['To Bank'] = li_data['To Bank'].astype(str)\n",
        "li_data['To Bank'].describe()"
      ]
    },
    {
      "cell_type": "code",
      "execution_count": null,
      "metadata": {
        "id": "DVaxDY0rGOl-",
        "outputId": "1cea33eb-6bf6-44b3-d0a3-cb3812890fbb"
      },
      "outputs": [
        {
          "data": {
            "text/plain": [
              "Text(0.5, 1.0, 'Top 25 Bank Beneficary by Frequency of Transactions')"
            ]
          },
          "execution_count": 18,
          "metadata": {},
          "output_type": "execute_result"
        },
        {
          "data": {
            "image/png": "[encoded data removed]",
            "text/plain": [
              "<Figure size 864x432 with 1 Axes>"
            ]
          },
          "metadata": {
            "needs_background": "light"
          },
          "output_type": "display_data"
        }
      ],
      "source": [
        "# Visualising the Top 25 Beneficary Bank by Frequency of Transactions\n",
        "\n",
        "plt.figure(figsize=(12, 6))\n",
        "li_data['To Bank'].value_counts().head(25).plot(kind='bar')\n",
        "\n",
        "# Label the axes and add a title\n",
        "plt.xlabel('From Bank - Beneficary')\n",
        "plt.ylabel('Frequency')\n",
        "plt.title('Top 25 Bank Beneficary by Frequency of Transactions')"
      ]
    },
    {
      "cell_type": "code",
      "execution_count": null,
      "metadata": {
        "id": "3gQF8_6OGOl_",
        "outputId": "7c8cb45d-d4a0-41ea-efb3-01fe78910bed"
      },
      "outputs": [
        {
          "data": {
            "text/plain": [
              "count       6924049\n",
              "unique       681281\n",
              "top       10042B660\n",
              "freq         222037\n",
              "Name: Account, dtype: object"
            ]
          },
          "execution_count": 19,
          "metadata": {},
          "output_type": "execute_result"
        }
      ],
      "source": [
        "# Sender's Account Number\n",
        "li_data['Account'].describe()"
      ]
    },
    {
      "cell_type": "code",
      "execution_count": null,
      "metadata": {
        "id": "hS-tk-tgGOl_",
        "outputId": "a9bd90bd-2430-41b2-fcc5-6d8a0b92cdf6"
      },
      "outputs": [
        {
          "data": {
            "text/plain": [
              "Text(0.5, 1.0, 'Top 25 Accounts by Frequency of Transactions')"
            ]
          },
          "execution_count": 20,
          "metadata": {},
          "output_type": "execute_result"
        },
        {
          "data": {
            "image/png": "[encoded data removed]",
            "text/plain": [
              "<Figure size 864x432 with 1 Axes>"
            ]
          },
          "metadata": {
            "needs_background": "light"
          },
          "output_type": "display_data"
        }
      ],
      "source": [
        "# Visualising the Top 25 Accounts by Frequency of Transactions\n",
        "\n",
        "plt.figure(figsize=(12, 6))\n",
        "li_data['Account'].value_counts().head(25).plot(kind='bar')\n",
        "\n",
        "# Label the axes and add a title\n",
        "plt.xlabel('Account')\n",
        "plt.ylabel('Frequency')\n",
        "plt.title('Top 25 Accounts by Frequency of Transactions')"
      ]
    },
    {
      "cell_type": "code",
      "execution_count": null,
      "metadata": {
        "id": "UC0u_p7uGOmA",
        "outputId": "e746e72d-1155-4b9a-dbd1-7ec7f5c6935b"
      },
      "outputs": [
        {
          "data": {
            "text/plain": [
              "count       6924049\n",
              "unique       576176\n",
              "top       10042B660\n",
              "freq           1553\n",
              "Name: Account.1, dtype: object"
            ]
          },
          "execution_count": 21,
          "metadata": {},
          "output_type": "execute_result"
        }
      ],
      "source": [
        "# Beneficary's Account Number\n",
        "li_data['Account.1'].describe()"
      ]
    },
    {
      "cell_type": "code",
      "execution_count": null,
      "metadata": {
        "id": "yjGcSAWdGOmB",
        "outputId": "815b5a38-f655-4acb-d5b2-73f4b692ce1d"
      },
      "outputs": [
        {
          "data": {
            "text/plain": [
              "Text(0.5, 1.0, 'Top 25 Receiver Accounts by Frequency of Transactions')"
            ]
          },
          "execution_count": 22,
          "metadata": {},
          "output_type": "execute_result"
        },
        {
          "data": {
            "image/png": "[encoded data removed]",
            "text/plain": [
              "<Figure size 864x432 with 1 Axes>"
            ]
          },
          "metadata": {
            "needs_background": "light"
          },
          "output_type": "display_data"
        }
      ],
      "source": [
        "# Visualising the Top 25 Reciever Accounts by Frequency of Transactions\n",
        "\n",
        "plt.figure(figsize=(12, 6))\n",
        "li_data['Account.1'].value_counts().head(25).plot(kind='bar')\n",
        "\n",
        "# Label the axes and add a title\n",
        "plt.xlabel('Account')\n",
        "plt.ylabel('Frequency')\n",
        "plt.title('Top 25 Receiver Accounts by Frequency of Transactions')"
      ]
    },
    {
      "cell_type": "code",
      "execution_count": null,
      "metadata": {
        "id": "dSZqaOufGOmB",
        "outputId": "8983f510-281a-4ca2-deef-5da3a3bbfc19"
      },
      "outputs": [
        {
          "data": {
            "text/plain": [
              "count         6924049\n",
              "mean          6324067\n",
              "std        2105371140\n",
              "min                 0\n",
              "25%               174\n",
              "50%              1398\n",
              "75%             12296\n",
              "max     3644853662747\n",
              "Name: Amount Received, dtype: float64"
            ]
          },
          "execution_count": 23,
          "metadata": {},
          "output_type": "execute_result"
        }
      ],
      "source": [
        "# Set the display format to avoid scientific notation\n",
        "pd.options.display.float_format = '{:.0f}'.format\n",
        "li_data['Amount Received'].describe()"
      ]
    },
    {
      "cell_type": "code",
      "execution_count": null,
      "metadata": {
        "id": "xRtKcJD1GOmB",
        "outputId": "9542d37e-00ec-4102-9c2c-26765bd370ae"
      },
      "outputs": [
        {
          "data": {
            "image/png": "[encoded data removed]",
            "text/plain": [
              "<Figure size 864x432 with 1 Axes>"
            ]
          },
          "metadata": {
            "needs_background": "light"
          },
          "output_type": "display_data"
        }
      ],
      "source": [
        "#Visualisation\n",
        "plt.figure(figsize=(12, 6))\n",
        "li_data['Amount Received'].value_counts().plot(kind ='hist', bins = 50, edgecolor='black', log=True)\n",
        "\n",
        "# Label the axes and add a title\n",
        "plt.xlabel('Amount Received')\n",
        "plt.ylabel('Frequency')\n",
        "plt.title('Histogram of Amount Received')\n",
        "\n",
        "# Display the plot\n",
        "plt.show()\n"
      ]
    },
    {
      "cell_type": "code",
      "execution_count": null,
      "metadata": {
        "id": "nHB47dOuGOmB",
        "outputId": "a965a956-0c2d-41ec-ba9b-4d00d6669361"
      },
      "outputs": [
        {
          "data": {
            "text/plain": [
              "Index(['Timestamp', 'From Bank', 'Account', 'To Bank', 'Account.1',\n",
              "       'Amount Received', 'Receiving Currency', 'Amount Paid',\n",
              "       'Payment Currency', 'Payment Format', 'Is Laundering'],\n",
              "      dtype='object')"
            ]
          },
          "execution_count": 25,
          "metadata": {},
          "output_type": "execute_result"
        }
      ],
      "source": [
        "li_data.keys()"
      ]
    },
    {
      "cell_type": "code",
      "execution_count": null,
      "metadata": {
        "id": "xBtqftwUGOmB",
        "outputId": "0f6eacf6-31f4-41c2-9204-6fbe72357579"
      },
      "outputs": [
        {
          "data": {
            "text/plain": [
              "Timestamp             0\n",
              "From Bank             0\n",
              "Account               0\n",
              "To Bank               0\n",
              "Account.1             0\n",
              "Amount Received       0\n",
              "Receiving Currency    0\n",
              "Amount Paid           0\n",
              "Payment Currency      0\n",
              "Payment Format        0\n",
              "Is Laundering         0\n",
              "dtype: int64"
            ]
          },
          "execution_count": 26,
          "metadata": {},
          "output_type": "execute_result"
        }
      ],
      "source": [
        "li_data.isnull().sum()"
      ]
    },
    {
      "cell_type": "code",
      "execution_count": null,
      "metadata": {
        "id": "S9Lryxy6GOmB",
        "outputId": "edd46fea-3a72-4bce-dbb9-50cac809e17c"
      },
      "outputs": [
        {
          "data": {
            "text/plain": [
              "count       6924049\n",
              "unique           15\n",
              "top       US Dollar\n",
              "freq        2537242\n",
              "Name: Receiving Currency, dtype: object"
            ]
          },
          "execution_count": 27,
          "metadata": {},
          "output_type": "execute_result"
        }
      ],
      "source": [
        "li_data['Receiving Currency'].describe()"
      ]
    },
    {
      "cell_type": "code",
      "execution_count": null,
      "metadata": {
        "id": "VaFbU_cLGOmB",
        "outputId": "4913d082-a1c8-41b1-a00e-d0572ab05356"
      },
      "outputs": [
        {
          "data": {
            "text/plain": [
              "US Dollar            2537242\n",
              "Euro                 1596407\n",
              "Yuan                  474978\n",
              "Rupee                 344237\n",
              "Bitcoin               313196\n",
              "Saudi Riyal           261882\n",
              "Australian Dollar     213905\n",
              "Yen                   211631\n",
              "Brazil Real           202717\n",
              "Canadian Dollar       177966\n",
              "Shekel                177298\n",
              "Swiss Franc           140076\n",
              "UK Pound               98000\n",
              "Ruble                  89140\n",
              "Mexican Peso           85374\n",
              "Name: Receiving Currency, dtype: int64"
            ]
          },
          "execution_count": 28,
          "metadata": {},
          "output_type": "execute_result"
        }
      ],
      "source": [
        "li_data['Receiving Currency'].value_counts()"
      ]
    },
    {
      "cell_type": "code",
      "execution_count": null,
      "metadata": {
        "id": "tOh-OvEVGOmC",
        "outputId": "af70aee2-366d-4b88-9cb2-dda4f4fa3814"
      },
      "outputs": [
        {
          "data": {
            "image/png": "[encoded data removed]",
            "text/plain": [
              "<Figure size 1008x864 with 1 Axes>"
            ]
          },
          "metadata": {},
          "output_type": "display_data"
        }
      ],
      "source": [
        "# Visualising the Value Counts\n",
        "plt.figure(figsize=(14, 12))\n",
        "li_data['Receiving Currency'].value_counts().plot(kind = 'pie')\n",
        "\n",
        "# Label the axes and add a title\n",
        "\n",
        "plt.title('PieChart of the Currency Amount Received')\n",
        "\n",
        "# Adding a legend outside the plot\n",
        "\n",
        "# Display the plot\n",
        "plt.show()"
      ]
    },
    {
      "cell_type": "code",
      "execution_count": null,
      "metadata": {
        "id": "QHxsYYXYGOmC",
        "outputId": "a6d52673-4888-4c00-ba7a-5711a21c961d"
      },
      "outputs": [
        {
          "data": {
            "text/plain": [
              "count         6924049\n",
              "mean          4676036\n",
              "std        1544098507\n",
              "min                 0\n",
              "25%               175\n",
              "50%              1399\n",
              "75%             12227\n",
              "max     3644853662747\n",
              "Name: Amount Paid, dtype: float64"
            ]
          },
          "execution_count": 29,
          "metadata": {},
          "output_type": "execute_result"
        }
      ],
      "source": [
        "# Set the display format to avoid scientific notation\n",
        "pd.options.display.float_format = '{:.0f}'.format\n",
        "li_data['Amount Paid'].describe()"
      ]
    },
    {
      "cell_type": "code",
      "execution_count": null,
      "metadata": {
        "id": "XWsIOL2KGOmC",
        "outputId": "d08a13a3-57bf-4154-ff1a-c740d8bd29d4"
      },
      "outputs": [
        {
          "data": {
            "image/png": "[encoded data removed]",
            "text/plain": [
              "<Figure size 864x432 with 1 Axes>"
            ]
          },
          "metadata": {
            "needs_background": "light"
          },
          "output_type": "display_data"
        }
      ],
      "source": [
        "#Visualisation\n",
        "plt.figure(figsize=(12, 6))\n",
        "li_data['Amount Paid'].value_counts().plot(kind ='hist', bins = 50, edgecolor='black', log=True)\n",
        "\n",
        "# Label the axes and add a title\n",
        "plt.xlabel('Amount Paid')\n",
        "plt.ylabel('Frequency')\n",
        "plt.title('Histogram of Amount Paid')\n",
        "\n",
        "# Display the plot\n",
        "plt.show()\n"
      ]
    },
    {
      "cell_type": "code",
      "execution_count": null,
      "metadata": {
        "id": "LFFjx7KOGOmC",
        "outputId": "f0386642-ad1b-44ee-9e9c-a91a95ce56d6"
      },
      "outputs": [
        {
          "data": {
            "text/plain": [
              "count       6924049\n",
              "unique           15\n",
              "top       US Dollar\n",
              "freq        2553887\n",
              "Name: Payment Currency, dtype: object"
            ]
          },
          "execution_count": 30,
          "metadata": {},
          "output_type": "execute_result"
        }
      ],
      "source": [
        "li_data['Payment Currency'].describe()"
      ]
    },
    {
      "cell_type": "code",
      "execution_count": null,
      "metadata": {
        "id": "B5F4xTmpGOmD",
        "outputId": "89297204-662c-44cf-f742-a26fdf85344e"
      },
      "outputs": [
        {
          "data": {
            "text/plain": [
              "US Dollar            2553887\n",
              "Euro                 1595859\n",
              "Yuan                  483603\n",
              "Rupee                 340641\n",
              "Bitcoin               309240\n",
              "Saudi Riyal           257948\n",
              "Australian Dollar     211155\n",
              "Yen                   210125\n",
              "Brazil Real           199840\n",
              "Canadian Dollar       176069\n",
              "Shekel                174530\n",
              "Swiss Franc           138251\n",
              "UK Pound               99668\n",
              "Ruble                  88492\n",
              "Mexican Peso           84741\n",
              "Name: Payment Currency, dtype: int64"
            ]
          },
          "execution_count": 31,
          "metadata": {},
          "output_type": "execute_result"
        }
      ],
      "source": [
        "li_data['Payment Currency'].value_counts()"
      ]
    },
    {
      "cell_type": "code",
      "execution_count": null,
      "metadata": {
        "id": "r5oteytnGOmE",
        "outputId": "ce7f1fe6-a1cd-4336-bc30-ce0bd60a0fcc"
      },
      "outputs": [
        {
          "data": {
            "image/png": "[encoded data removed]",
            "text/plain": [
              "<Figure size 1440x1296 with 1 Axes>"
            ]
          },
          "metadata": {},
          "output_type": "display_data"
        }
      ],
      "source": [
        "# Visualising the Value Counts\n",
        "plt.figure(figsize=(20, 18))\n",
        "li_data['Payment Currency'].value_counts().plot(kind = 'pie')\n",
        "\n",
        "# Label the axes and add a title\n",
        "\n",
        "plt.title('PieChart of the Currency Payment Received')\n",
        "\n",
        "# Adding a legend outside the plot\n",
        "\n",
        "# Display the plot\n",
        "plt.show()"
      ]
    },
    {
      "cell_type": "code",
      "execution_count": null,
      "metadata": {
        "id": "v7xewcvRGOmE",
        "outputId": "73be8cd1-58e2-417b-9fa0-18514d14f77a"
      },
      "outputs": [
        {
          "data": {
            "text/plain": [
              "count     6924049\n",
              "unique          7\n",
              "top        Cheque\n",
              "freq      2503158\n",
              "Name: Payment Format, dtype: object"
            ]
          },
          "execution_count": 33,
          "metadata": {},
          "output_type": "execute_result"
        }
      ],
      "source": [
        "# 'Payment Format', 'Is Laundering'\n",
        "li_data['Payment Format'].describe()"
      ]
    },
    {
      "cell_type": "code",
      "execution_count": null,
      "metadata": {
        "id": "fbkM5Mo2GOmE",
        "outputId": "8c12f661-dd67-4973-92c5-e66fbe261984"
      },
      "outputs": [
        {
          "data": {
            "text/plain": [
              "Cheque          2503158\n",
              "Credit Card     1780389\n",
              "ACH              796581\n",
              "Cash             655688\n",
              "Reinvestment     650458\n",
              "Bitcoin          309208\n",
              "Wire             228567\n",
              "Name: Payment Format, dtype: int64"
            ]
          },
          "execution_count": 34,
          "metadata": {},
          "output_type": "execute_result"
        }
      ],
      "source": [
        "li_data['Payment Format'].value_counts()"
      ]
    },
    {
      "cell_type": "code",
      "execution_count": null,
      "metadata": {
        "id": "I0bVcQNyGOmE",
        "outputId": "ea45b191-2299-4e24-af95-5a872b136cad"
      },
      "outputs": [
        {
          "data": {
            "text/plain": [
              "<matplotlib.axes._subplots.AxesSubplot at 0x7f7725291a20>"
            ]
          },
          "execution_count": 52,
          "metadata": {},
          "output_type": "execute_result"
        },
        {
          "data": {
            "image/png": "[encoded data removed]",
            "text/plain": [
              "<Figure size 864x576 with 1 Axes>"
            ]
          },
          "metadata": {
            "needs_background": "light"
          },
          "output_type": "display_data"
        }
      ],
      "source": [
        "plt.figure(figsize=(12, 8))\n",
        "li_data['Payment Format'].value_counts().plot(kind ='barh')"
      ]
    },
    {
      "cell_type": "code",
      "execution_count": null,
      "metadata": {
        "id": "2fju6ECZGOmF",
        "outputId": "b1097deb-f7a4-4ddb-d86b-93117e1e0a38"
      },
      "outputs": [
        {
          "data": {
            "text/plain": [
              "count   6924049\n",
              "mean          0\n",
              "std           0\n",
              "min           0\n",
              "25%           0\n",
              "50%           0\n",
              "75%           0\n",
              "max           1\n",
              "Name: Is Laundering, dtype: float64"
            ]
          },
          "execution_count": 35,
          "metadata": {},
          "output_type": "execute_result"
        }
      ],
      "source": [
        "li_data['Is Laundering'].describe()"
      ]
    },
    {
      "cell_type": "code",
      "execution_count": null,
      "metadata": {
        "id": "rs0-3eCpGOmF",
        "outputId": "e9d5ced6-2049-473f-f74e-1c94963466dc"
      },
      "outputs": [
        {
          "data": {
            "text/plain": [
              "0    6920484\n",
              "1       3565\n",
              "Name: Is Laundering, dtype: int64"
            ]
          },
          "execution_count": 36,
          "metadata": {},
          "output_type": "execute_result"
        }
      ],
      "source": [
        "li_data['Is Laundering'].value_counts()"
      ]
    },
    {
      "cell_type": "code",
      "execution_count": null,
      "metadata": {
        "id": "WSWm1G1KGOmF",
        "outputId": "38ef7dca-f098-41fe-a52e-34edc2cef283"
      },
      "outputs": [
        {
          "data": {
            "text/plain": [
              "<matplotlib.axes._subplots.AxesSubplot at 0x7f8c6603ef28>"
            ]
          },
          "execution_count": 40,
          "metadata": {},
          "output_type": "execute_result"
        },
        {
          "data": {
            "image/png": "[encoded data removed]",
            "text/plain": [
              "<Figure size 432x288 with 1 Axes>"
            ]
          },
          "metadata": {},
          "output_type": "display_data"
        }
      ],
      "source": [
        "li_data['Is Laundering'].value_counts().plot(kind = 'pie', autopct='%1.1f%%')"
      ]
    },
    {
      "cell_type": "code",
      "execution_count": null,
      "metadata": {
        "id": "VKZF70juGOmS",
        "outputId": "a7219eca-9922-4db7-9ae2-243348407c0a"
      },
      "outputs": [
        {
          "data": {
            "text/plain": [
              "Timestamp              object\n",
              "From Bank              object\n",
              "Account                object\n",
              "To Bank                object\n",
              "Account.1              object\n",
              "Amount Received       float64\n",
              "Receiving Currency     object\n",
              "Amount Paid           float64\n",
              "Payment Currency       object\n",
              "Payment Format         object\n",
              "Is Laundering           int64\n",
              "dtype: object"
            ]
          },
          "execution_count": 41,
          "metadata": {},
          "output_type": "execute_result"
        }
      ],
      "source": [
        "li_data.dtypes"
      ]
    },
    {
      "cell_type": "code",
      "execution_count": null,
      "metadata": {
        "id": "oga_JuPzGOmU"
      },
      "outputs": [],
      "source": [
        "# Extracting the Date Features for Normalisation\n",
        "\n",
        "li_data['Year'] = Timestamp.dt.year\n",
        "li_data['Month'] = Timestamp.dt.month\n",
        "li_data['Day'] = Timestamp.dt.day\n",
        "li_data['DayOfWeek'] = Timestamp.dt.dayofweek\n",
        "li_data['Hour'] = Timestamp.dt.hour"
      ]
    },
    {
      "cell_type": "code",
      "execution_count": null,
      "metadata": {
        "id": "WcU9x66WGOmW",
        "outputId": "b6804d44-4f8b-4ef0-fdac-2314cfafae77"
      },
      "outputs": [
        {
          "data": {
            "text/html": [
              "<div>\n",
              "<style scoped>\n",
              "    .dataframe tbody tr th:only-of-type {\n",
              "        vertical-align: middle;\n",
              "    }\n",
              "\n",
              "    .dataframe tbody tr th {\n",
              "        vertical-align: top;\n",
              "    }\n",
              "\n",
              "    .dataframe thead th {\n",
              "        text-align: right;\n",
              "    }\n",
              "</style>\n",
              "<table border=\"1\" class=\"dataframe\">\n",
              "  <thead>\n",
              "    <tr style=\"text-align: right;\">\n",
              "      <th></th>\n",
              "      <th>Timestamp</th>\n",
              "      <th>From Bank</th>\n",
              "      <th>Account</th>\n",
              "      <th>To Bank</th>\n",
              "      <th>Account.1</th>\n",
              "      <th>Amount Received</th>\n",
              "      <th>Receiving Currency</th>\n",
              "      <th>Amount Paid</th>\n",
              "      <th>Payment Currency</th>\n",
              "      <th>Payment Format</th>\n",
              "      <th>Is Laundering</th>\n",
              "      <th>Year</th>\n",
              "      <th>Month</th>\n",
              "      <th>Day</th>\n",
              "      <th>DayOfWeek</th>\n",
              "      <th>Hour</th>\n",
              "    </tr>\n",
              "  </thead>\n",
              "  <tbody>\n",
              "    <tr>\n",
              "      <th>0</th>\n",
              "      <td>2022/09/01 00:08</td>\n",
              "      <td>11</td>\n",
              "      <td>8000ECA90</td>\n",
              "      <td>11</td>\n",
              "      <td>8000ECA90</td>\n",
              "      <td>3195403</td>\n",
              "      <td>US Dollar</td>\n",
              "      <td>3195403</td>\n",
              "      <td>US Dollar</td>\n",
              "      <td>Reinvestment</td>\n",
              "      <td>0</td>\n",
              "      <td>2022</td>\n",
              "      <td>9</td>\n",
              "      <td>1</td>\n",
              "      <td>3</td>\n",
              "      <td>0</td>\n",
              "    </tr>\n",
              "    <tr>\n",
              "      <th>1</th>\n",
              "      <td>2022/09/01 00:21</td>\n",
              "      <td>3402</td>\n",
              "      <td>80021DAD0</td>\n",
              "      <td>3402</td>\n",
              "      <td>80021DAD0</td>\n",
              "      <td>1859</td>\n",
              "      <td>US Dollar</td>\n",
              "      <td>1859</td>\n",
              "      <td>US Dollar</td>\n",
              "      <td>Reinvestment</td>\n",
              "      <td>0</td>\n",
              "      <td>2022</td>\n",
              "      <td>9</td>\n",
              "      <td>1</td>\n",
              "      <td>3</td>\n",
              "      <td>0</td>\n",
              "    </tr>\n",
              "    <tr>\n",
              "      <th>2</th>\n",
              "      <td>2022/09/01 00:00</td>\n",
              "      <td>11</td>\n",
              "      <td>8000ECA90</td>\n",
              "      <td>1120</td>\n",
              "      <td>8006AA910</td>\n",
              "      <td>592571</td>\n",
              "      <td>US Dollar</td>\n",
              "      <td>592571</td>\n",
              "      <td>US Dollar</td>\n",
              "      <td>Cheque</td>\n",
              "      <td>0</td>\n",
              "      <td>2022</td>\n",
              "      <td>9</td>\n",
              "      <td>1</td>\n",
              "      <td>3</td>\n",
              "      <td>0</td>\n",
              "    </tr>\n",
              "    <tr>\n",
              "      <th>3</th>\n",
              "      <td>2022/09/01 00:16</td>\n",
              "      <td>3814</td>\n",
              "      <td>8006AD080</td>\n",
              "      <td>3814</td>\n",
              "      <td>8006AD080</td>\n",
              "      <td>12</td>\n",
              "      <td>US Dollar</td>\n",
              "      <td>12</td>\n",
              "      <td>US Dollar</td>\n",
              "      <td>Reinvestment</td>\n",
              "      <td>0</td>\n",
              "      <td>2022</td>\n",
              "      <td>9</td>\n",
              "      <td>1</td>\n",
              "      <td>3</td>\n",
              "      <td>0</td>\n",
              "    </tr>\n",
              "    <tr>\n",
              "      <th>4</th>\n",
              "      <td>2022/09/01 00:00</td>\n",
              "      <td>20</td>\n",
              "      <td>8006AD530</td>\n",
              "      <td>20</td>\n",
              "      <td>8006AD530</td>\n",
              "      <td>2942</td>\n",
              "      <td>US Dollar</td>\n",
              "      <td>2942</td>\n",
              "      <td>US Dollar</td>\n",
              "      <td>Reinvestment</td>\n",
              "      <td>0</td>\n",
              "      <td>2022</td>\n",
              "      <td>9</td>\n",
              "      <td>1</td>\n",
              "      <td>3</td>\n",
              "      <td>0</td>\n",
              "    </tr>\n",
              "  </tbody>\n",
              "</table>\n",
              "</div>"
            ],
            "text/plain": [
              "          Timestamp From Bank    Account To Bank  Account.1  Amount Received  \\\n",
              "0  2022/09/01 00:08        11  8000ECA90      11  8000ECA90          3195403   \n",
              "1  2022/09/01 00:21      3402  80021DAD0    3402  80021DAD0             1859   \n",
              "2  2022/09/01 00:00        11  8000ECA90    1120  8006AA910           592571   \n",
              "3  2022/09/01 00:16      3814  8006AD080    3814  8006AD080               12   \n",
              "4  2022/09/01 00:00        20  8006AD530      20  8006AD530             2942   \n",
              "\n",
              "  Receiving Currency  Amount Paid Payment Currency Payment Format  \\\n",
              "0          US Dollar      3195403        US Dollar   Reinvestment   \n",
              "1          US Dollar         1859        US Dollar   Reinvestment   \n",
              "2          US Dollar       592571        US Dollar         Cheque   \n",
              "3          US Dollar           12        US Dollar   Reinvestment   \n",
              "4          US Dollar         2942        US Dollar   Reinvestment   \n",
              "\n",
              "   Is Laundering  Year  Month  Day  DayOfWeek  Hour  \n",
              "0              0  2022      9    1          3     0  \n",
              "1              0  2022      9    1          3     0  \n",
              "2              0  2022      9    1          3     0  \n",
              "3              0  2022      9    1          3     0  \n",
              "4              0  2022      9    1          3     0  "
            ]
          },
          "execution_count": 43,
          "metadata": {},
          "output_type": "execute_result"
        }
      ],
      "source": [
        "li_data.head()"
      ]
    },
    {
      "cell_type": "code",
      "execution_count": null,
      "metadata": {
        "id": "LxGn2hb5GOmX",
        "outputId": "022f64f1-2957-4991-c4a6-24e934c002da"
      },
      "outputs": [
        {
          "data": {
            "text/plain": [
              "2022    6924049\n",
              "Name: Year, dtype: int64"
            ]
          },
          "execution_count": 44,
          "metadata": {},
          "output_type": "execute_result"
        }
      ],
      "source": [
        "li_data['Year'].value_counts()"
      ]
    },
    {
      "cell_type": "code",
      "execution_count": null,
      "metadata": {
        "id": "6ZFxVtOPGOma",
        "outputId": "398d0e2a-0ece-4f1d-da86-0b711c568f2f"
      },
      "outputs": [
        {
          "data": {
            "text/plain": [
              "9    6924049\n",
              "Name: Month, dtype: int64"
            ]
          },
          "execution_count": 45,
          "metadata": {},
          "output_type": "execute_result"
        }
      ],
      "source": [
        "li_data['Month'].value_counts()"
      ]
    },
    {
      "cell_type": "code",
      "execution_count": null,
      "metadata": {
        "id": "C2Pa8ZhmGOmb",
        "outputId": "8a719829-74e2-4c29-b0a5-8b644fa006e0"
      },
      "outputs": [
        {
          "data": {
            "text/plain": [
              "1     1524807\n",
              "2     1027758\n",
              "9      891573\n",
              "7      658504\n",
              "8      657938\n",
              "5      657397\n",
              "6      657170\n",
              "3      283326\n",
              "10     282877\n",
              "4      282476\n",
              "11         77\n",
              "13         48\n",
              "12         48\n",
              "14         31\n",
              "15          9\n",
              "16          7\n",
              "17          3\n",
              "Name: Day, dtype: int64"
            ]
          },
          "execution_count": 46,
          "metadata": {},
          "output_type": "execute_result"
        }
      ],
      "source": [
        "li_data['Day'].value_counts()"
      ]
    },
    {
      "cell_type": "code",
      "execution_count": null,
      "metadata": {
        "id": "P8Un45PqGOmb",
        "outputId": "0f4c2882-5665-430b-bc59-a4d2e91dbefc"
      },
      "outputs": [
        {
          "data": {
            "text/plain": [
              "3    2182754\n",
              "4    1919338\n",
              "2     658535\n",
              "0     657445\n",
              "1     657218\n",
              "5     566206\n",
              "6     282553\n",
              "Name: DayOfWeek, dtype: int64"
            ]
          },
          "execution_count": 47,
          "metadata": {},
          "output_type": "execute_result"
        }
      ],
      "source": [
        "li_data['DayOfWeek'].value_counts()"
      ]
    },
    {
      "cell_type": "code",
      "execution_count": null,
      "metadata": {
        "id": "FXu0A9dbGOmb",
        "outputId": "e8f9ba7a-5b89-4568-f478-56e2c79b70b7"
      },
      "outputs": [
        {
          "data": {
            "text/plain": [
              "0     869004\n",
              "21    264503\n",
              "6     264470\n",
              "16    264377\n",
              "19    264377\n",
              "10    264151\n",
              "18    264115\n",
              "23    263940\n",
              "3     263920\n",
              "22    263769\n",
              "1     263400\n",
              "13    263386\n",
              "5     263368\n",
              "17    263146\n",
              "9     262994\n",
              "15    262818\n",
              "12    262710\n",
              "4     262577\n",
              "11    262395\n",
              "20    262394\n",
              "7     262195\n",
              "14    262186\n",
              "8     262157\n",
              "2     261697\n",
              "Name: Hour, dtype: int64"
            ]
          },
          "execution_count": 48,
          "metadata": {},
          "output_type": "execute_result"
        }
      ],
      "source": [
        "li_data['Hour'].value_counts()"
      ]
    },
    {
      "cell_type": "code",
      "execution_count": null,
      "metadata": {
        "id": "TWlMgKxhGOmc",
        "outputId": "f8f08063-61bb-42e8-bbdb-16c40d607b90"
      },
      "outputs": [
        {
          "data": {
            "text/html": [
              "<div>\n",
              "<style scoped>\n",
              "    .dataframe tbody tr th:only-of-type {\n",
              "        vertical-align: middle;\n",
              "    }\n",
              "\n",
              "    .dataframe tbody tr th {\n",
              "        vertical-align: top;\n",
              "    }\n",
              "\n",
              "    .dataframe thead th {\n",
              "        text-align: right;\n",
              "    }\n",
              "</style>\n",
              "<table border=\"1\" class=\"dataframe\">\n",
              "  <thead>\n",
              "    <tr style=\"text-align: right;\">\n",
              "      <th></th>\n",
              "      <th>Day</th>\n",
              "      <th>DayOfWeek</th>\n",
              "      <th>Hour</th>\n",
              "      <th>From Bank</th>\n",
              "      <th>Account</th>\n",
              "      <th>To Bank</th>\n",
              "      <th>Account.1</th>\n",
              "      <th>Amount Received</th>\n",
              "      <th>Receiving Currency</th>\n",
              "      <th>Amount Paid</th>\n",
              "      <th>Payment Currency</th>\n",
              "      <th>Payment Format</th>\n",
              "      <th>Is Laundering</th>\n",
              "    </tr>\n",
              "  </thead>\n",
              "  <tbody>\n",
              "    <tr>\n",
              "      <th>0</th>\n",
              "      <td>1</td>\n",
              "      <td>3</td>\n",
              "      <td>0</td>\n",
              "      <td>11</td>\n",
              "      <td>8000ECA90</td>\n",
              "      <td>11</td>\n",
              "      <td>8000ECA90</td>\n",
              "      <td>3195403</td>\n",
              "      <td>US Dollar</td>\n",
              "      <td>3195403</td>\n",
              "      <td>US Dollar</td>\n",
              "      <td>Reinvestment</td>\n",
              "      <td>0</td>\n",
              "    </tr>\n",
              "    <tr>\n",
              "      <th>1</th>\n",
              "      <td>1</td>\n",
              "      <td>3</td>\n",
              "      <td>0</td>\n",
              "      <td>3402</td>\n",
              "      <td>80021DAD0</td>\n",
              "      <td>3402</td>\n",
              "      <td>80021DAD0</td>\n",
              "      <td>1859</td>\n",
              "      <td>US Dollar</td>\n",
              "      <td>1859</td>\n",
              "      <td>US Dollar</td>\n",
              "      <td>Reinvestment</td>\n",
              "      <td>0</td>\n",
              "    </tr>\n",
              "    <tr>\n",
              "      <th>2</th>\n",
              "      <td>1</td>\n",
              "      <td>3</td>\n",
              "      <td>0</td>\n",
              "      <td>11</td>\n",
              "      <td>8000ECA90</td>\n",
              "      <td>1120</td>\n",
              "      <td>8006AA910</td>\n",
              "      <td>592571</td>\n",
              "      <td>US Dollar</td>\n",
              "      <td>592571</td>\n",
              "      <td>US Dollar</td>\n",
              "      <td>Cheque</td>\n",
              "      <td>0</td>\n",
              "    </tr>\n",
              "    <tr>\n",
              "      <th>3</th>\n",
              "      <td>1</td>\n",
              "      <td>3</td>\n",
              "      <td>0</td>\n",
              "      <td>3814</td>\n",
              "      <td>8006AD080</td>\n",
              "      <td>3814</td>\n",
              "      <td>8006AD080</td>\n",
              "      <td>12</td>\n",
              "      <td>US Dollar</td>\n",
              "      <td>12</td>\n",
              "      <td>US Dollar</td>\n",
              "      <td>Reinvestment</td>\n",
              "      <td>0</td>\n",
              "    </tr>\n",
              "    <tr>\n",
              "      <th>4</th>\n",
              "      <td>1</td>\n",
              "      <td>3</td>\n",
              "      <td>0</td>\n",
              "      <td>20</td>\n",
              "      <td>8006AD530</td>\n",
              "      <td>20</td>\n",
              "      <td>8006AD530</td>\n",
              "      <td>2942</td>\n",
              "      <td>US Dollar</td>\n",
              "      <td>2942</td>\n",
              "      <td>US Dollar</td>\n",
              "      <td>Reinvestment</td>\n",
              "      <td>0</td>\n",
              "    </tr>\n",
              "  </tbody>\n",
              "</table>\n",
              "</div>"
            ],
            "text/plain": [
              "   Day  DayOfWeek  Hour From Bank    Account To Bank  Account.1  \\\n",
              "0    1          3     0        11  8000ECA90      11  8000ECA90   \n",
              "1    1          3     0      3402  80021DAD0    3402  80021DAD0   \n",
              "2    1          3     0        11  8000ECA90    1120  8006AA910   \n",
              "3    1          3     0      3814  8006AD080    3814  8006AD080   \n",
              "4    1          3     0        20  8006AD530      20  8006AD530   \n",
              "\n",
              "   Amount Received Receiving Currency  Amount Paid Payment Currency  \\\n",
              "0          3195403          US Dollar      3195403        US Dollar   \n",
              "1             1859          US Dollar         1859        US Dollar   \n",
              "2           592571          US Dollar       592571        US Dollar   \n",
              "3               12          US Dollar           12        US Dollar   \n",
              "4             2942          US Dollar         2942        US Dollar   \n",
              "\n",
              "  Payment Format  Is Laundering  \n",
              "0   Reinvestment              0  \n",
              "1   Reinvestment              0  \n",
              "2         Cheque              0  \n",
              "3   Reinvestment              0  \n",
              "4   Reinvestment              0  "
            ]
          },
          "execution_count": 49,
          "metadata": {},
          "output_type": "execute_result"
        }
      ],
      "source": [
        "selected_columns = ['Day','DayOfWeek','Hour', 'From Bank', 'Account', 'To Bank', 'Account.1',\n",
        "       'Amount Received', 'Receiving Currency', 'Amount Paid',\n",
        "       'Payment Currency', 'Payment Format', 'Is Laundering']\n",
        "\n",
        "li_data[selected_columns].head()"
      ]
    },
    {
      "cell_type": "code",
      "execution_count": null,
      "metadata": {
        "id": "Wy8dbGlKGOme",
        "outputId": "3aedf8ff-bfbe-48bc-8ebf-b56ec3c35dd8"
      },
      "outputs": [
        {
          "name": "stdout",
          "output_type": "stream",
          "text": [
            "<class 'pandas.core.frame.DataFrame'>\n",
            "RangeIndex: 6924049 entries, 0 to 6924048\n",
            "Data columns (total 13 columns):\n",
            "Day                   int64\n",
            "DayOfWeek             int64\n",
            "Hour                  int64\n",
            "From Bank             object\n",
            "Account               object\n",
            "To Bank               object\n",
            "Account.1             object\n",
            "Amount Received       float64\n",
            "Receiving Currency    object\n",
            "Amount Paid           float64\n",
            "Payment Currency      object\n",
            "Payment Format        object\n",
            "Is Laundering         int64\n",
            "dtypes: float64(2), int64(4), object(7)\n",
            "memory usage: 686.7+ MB\n"
          ]
        }
      ],
      "source": [
        "li_data[selected_columns].info()"
      ]
    },
    {
      "cell_type": "markdown",
      "metadata": {
        "id": "ZncSdaeRGOmg"
      },
      "source": [
        "## Normalisation of the Dataset"
      ]
    },
    {
      "cell_type": "code",
      "execution_count": null,
      "metadata": {
        "id": "NBcfF6izGOmk"
      },
      "outputs": [],
      "source": [
        "# Converting Categorical Data into numercial data\n",
        "from sklearn.preprocessing import LabelEncoder\n",
        "\n",
        "LE = LabelEncoder()\n",
        "\n",
        "columns_to_encode = ['From Bank','Account', 'To Bank', 'Account.1', 'Receiving Currency', 'Payment Currency','Payment Format']\n",
        "\n",
        "for column in columns_to_encode:\n",
        "    li_data[column] = LE.fit_transform(li_data[column])"
      ]
    },
    {
      "cell_type": "code",
      "execution_count": null,
      "metadata": {
        "id": "9c9rcrgbGOml",
        "outputId": "1f52dd99-c03f-42ad-d659-218c7f7c61a7"
      },
      "outputs": [
        {
          "data": {
            "text/html": [
              "<div>\n",
              "<style scoped>\n",
              "    .dataframe tbody tr th:only-of-type {\n",
              "        vertical-align: middle;\n",
              "    }\n",
              "\n",
              "    .dataframe tbody tr th {\n",
              "        vertical-align: top;\n",
              "    }\n",
              "\n",
              "    .dataframe thead th {\n",
              "        text-align: right;\n",
              "    }\n",
              "</style>\n",
              "<table border=\"1\" class=\"dataframe\">\n",
              "  <thead>\n",
              "    <tr style=\"text-align: right;\">\n",
              "      <th></th>\n",
              "      <th>Day</th>\n",
              "      <th>DayOfWeek</th>\n",
              "      <th>Hour</th>\n",
              "      <th>From Bank</th>\n",
              "      <th>Account</th>\n",
              "      <th>To Bank</th>\n",
              "      <th>Account.1</th>\n",
              "      <th>Amount Received</th>\n",
              "      <th>Receiving Currency</th>\n",
              "      <th>Amount Paid</th>\n",
              "      <th>Payment Currency</th>\n",
              "      <th>Payment Format</th>\n",
              "      <th>Is Laundering</th>\n",
              "    </tr>\n",
              "  </thead>\n",
              "  <tbody>\n",
              "    <tr>\n",
              "      <th>0</th>\n",
              "      <td>1</td>\n",
              "      <td>3</td>\n",
              "      <td>0</td>\n",
              "      <td>12</td>\n",
              "      <td>950</td>\n",
              "      <td>12</td>\n",
              "      <td>900</td>\n",
              "      <td>3195403</td>\n",
              "      <td>12</td>\n",
              "      <td>3195403</td>\n",
              "      <td>12</td>\n",
              "      <td>5</td>\n",
              "      <td>0</td>\n",
              "    </tr>\n",
              "    <tr>\n",
              "      <th>1</th>\n",
              "      <td>1</td>\n",
              "      <td>3</td>\n",
              "      <td>0</td>\n",
              "      <td>19417</td>\n",
              "      <td>2772</td>\n",
              "      <td>10968</td>\n",
              "      <td>2446</td>\n",
              "      <td>1859</td>\n",
              "      <td>12</td>\n",
              "      <td>1859</td>\n",
              "      <td>12</td>\n",
              "      <td>5</td>\n",
              "      <td>0</td>\n",
              "    </tr>\n",
              "    <tr>\n",
              "      <th>2</th>\n",
              "      <td>1</td>\n",
              "      <td>3</td>\n",
              "      <td>0</td>\n",
              "      <td>12</td>\n",
              "      <td>950</td>\n",
              "      <td>36</td>\n",
              "      <td>8407</td>\n",
              "      <td>592571</td>\n",
              "      <td>12</td>\n",
              "      <td>592571</td>\n",
              "      <td>12</td>\n",
              "      <td>3</td>\n",
              "      <td>0</td>\n",
              "    </tr>\n",
              "    <tr>\n",
              "      <th>3</th>\n",
              "      <td>1</td>\n",
              "      <td>3</td>\n",
              "      <td>0</td>\n",
              "      <td>40281</td>\n",
              "      <td>9998</td>\n",
              "      <td>20531</td>\n",
              "      <td>8419</td>\n",
              "      <td>12</td>\n",
              "      <td>12</td>\n",
              "      <td>12</td>\n",
              "      <td>12</td>\n",
              "      <td>5</td>\n",
              "      <td>0</td>\n",
              "    </tr>\n",
              "    <tr>\n",
              "      <th>4</th>\n",
              "      <td>1</td>\n",
              "      <td>3</td>\n",
              "      <td>0</td>\n",
              "      <td>901</td>\n",
              "      <td>10001</td>\n",
              "      <td>901</td>\n",
              "      <td>8422</td>\n",
              "      <td>2942</td>\n",
              "      <td>12</td>\n",
              "      <td>2942</td>\n",
              "      <td>12</td>\n",
              "      <td>5</td>\n",
              "      <td>0</td>\n",
              "    </tr>\n",
              "  </tbody>\n",
              "</table>\n",
              "</div>"
            ],
            "text/plain": [
              "   Day  DayOfWeek  Hour  From Bank  Account  To Bank  Account.1  \\\n",
              "0    1          3     0         12      950       12        900   \n",
              "1    1          3     0      19417     2772    10968       2446   \n",
              "2    1          3     0         12      950       36       8407   \n",
              "3    1          3     0      40281     9998    20531       8419   \n",
              "4    1          3     0        901    10001      901       8422   \n",
              "\n",
              "   Amount Received  Receiving Currency  Amount Paid  Payment Currency  \\\n",
              "0          3195403                  12      3195403                12   \n",
              "1             1859                  12         1859                12   \n",
              "2           592571                  12       592571                12   \n",
              "3               12                  12           12                12   \n",
              "4             2942                  12         2942                12   \n",
              "\n",
              "   Payment Format  Is Laundering  \n",
              "0               5              0  \n",
              "1               5              0  \n",
              "2               3              0  \n",
              "3               5              0  \n",
              "4               5              0  "
            ]
          },
          "execution_count": 52,
          "metadata": {},
          "output_type": "execute_result"
        }
      ],
      "source": [
        "li_data[selected_columns].head()"
      ]
    },
    {
      "cell_type": "code",
      "execution_count": null,
      "metadata": {
        "id": "LEZxelBMGOml",
        "outputId": "81c80515-d2fc-420d-866d-46167f3d5ea7"
      },
      "outputs": [
        {
          "name": "stdout",
          "output_type": "stream",
          "text": [
            "[[0.         0.5        0.         ... 0.85714286 0.83333333 0.        ]\n",
            " [0.         0.5        0.         ... 0.85714286 0.83333333 0.        ]\n",
            " [0.         0.5        0.         ... 0.85714286 0.5        0.        ]\n",
            " ...\n",
            " [0.5625     0.83333333 1.         ... 0.07142857 0.16666667 0.        ]\n",
            " [0.5625     0.83333333 1.         ... 0.07142857 0.16666667 0.        ]\n",
            " [0.5625     0.83333333 1.         ... 0.07142857 0.16666667 0.        ]]\n"
          ]
        }
      ],
      "source": [
        "# Normalising Data using MinMaxScaler\n",
        "\n",
        "scaler = MinMaxScaler()\n",
        "\n",
        "norm_data = scaler.fit_transform(li_data[selected_columns])\n",
        "print(norm_data)"
      ]
    },
    {
      "cell_type": "code",
      "execution_count": null,
      "metadata": {
        "id": "cZe5yU2iGOmo"
      },
      "outputs": [],
      "source": []
    },
    {
      "cell_type": "code",
      "execution_count": null,
      "metadata": {
        "id": "_U6c_haMGOmo",
        "outputId": "851e8be1-1660-4ea7-ddf8-0cf64f2cdc47"
      },
      "outputs": [
        {
          "data": {
            "text/html": [
              "<div>\n",
              "<style scoped>\n",
              "    .dataframe tbody tr th:only-of-type {\n",
              "        vertical-align: middle;\n",
              "    }\n",
              "\n",
              "    .dataframe tbody tr th {\n",
              "        vertical-align: top;\n",
              "    }\n",
              "\n",
              "    .dataframe thead th {\n",
              "        text-align: right;\n",
              "    }\n",
              "</style>\n",
              "<table border=\"1\" class=\"dataframe\">\n",
              "  <thead>\n",
              "    <tr style=\"text-align: right;\">\n",
              "      <th></th>\n",
              "      <th>Day</th>\n",
              "      <th>DayOfWeek</th>\n",
              "      <th>Hour</th>\n",
              "      <th>From Bank</th>\n",
              "      <th>Account</th>\n",
              "      <th>To Bank</th>\n",
              "      <th>Account.1</th>\n",
              "      <th>Amount Received</th>\n",
              "      <th>Receiving Currency</th>\n",
              "      <th>Amount Paid</th>\n",
              "      <th>Payment Currency</th>\n",
              "      <th>Payment Format</th>\n",
              "      <th>Is Laundering</th>\n",
              "    </tr>\n",
              "  </thead>\n",
              "  <tbody>\n",
              "    <tr>\n",
              "      <th>0</th>\n",
              "      <td>0.0</td>\n",
              "      <td>0.5</td>\n",
              "      <td>0.0</td>\n",
              "      <td>0.000287</td>\n",
              "      <td>0.001394</td>\n",
              "      <td>0.000556</td>\n",
              "      <td>0.001562</td>\n",
              "      <td>8.766890e-07</td>\n",
              "      <td>0.857143</td>\n",
              "      <td>8.766890e-07</td>\n",
              "      <td>0.857143</td>\n",
              "      <td>0.833333</td>\n",
              "      <td>0.0</td>\n",
              "    </tr>\n",
              "    <tr>\n",
              "      <th>1</th>\n",
              "      <td>0.0</td>\n",
              "      <td>0.5</td>\n",
              "      <td>0.0</td>\n",
              "      <td>0.464377</td>\n",
              "      <td>0.004069</td>\n",
              "      <td>0.508084</td>\n",
              "      <td>0.004245</td>\n",
              "      <td>5.100232e-10</td>\n",
              "      <td>0.857143</td>\n",
              "      <td>5.100232e-10</td>\n",
              "      <td>0.857143</td>\n",
              "      <td>0.833333</td>\n",
              "      <td>0.0</td>\n",
              "    </tr>\n",
              "    <tr>\n",
              "      <th>2</th>\n",
              "      <td>0.0</td>\n",
              "      <td>0.5</td>\n",
              "      <td>0.0</td>\n",
              "      <td>0.000287</td>\n",
              "      <td>0.001394</td>\n",
              "      <td>0.001668</td>\n",
              "      <td>0.014591</td>\n",
              "      <td>1.625774e-07</td>\n",
              "      <td>0.857143</td>\n",
              "      <td>1.625774e-07</td>\n",
              "      <td>0.857143</td>\n",
              "      <td>0.500000</td>\n",
              "      <td>0.0</td>\n",
              "    </tr>\n",
              "    <tr>\n",
              "      <th>3</th>\n",
              "      <td>0.0</td>\n",
              "      <td>0.5</td>\n",
              "      <td>0.0</td>\n",
              "      <td>0.963361</td>\n",
              "      <td>0.014675</td>\n",
              "      <td>0.951082</td>\n",
              "      <td>0.014612</td>\n",
              "      <td>3.380108e-12</td>\n",
              "      <td>0.857143</td>\n",
              "      <td>3.380108e-12</td>\n",
              "      <td>0.857143</td>\n",
              "      <td>0.833333</td>\n",
              "      <td>0.0</td>\n",
              "    </tr>\n",
              "    <tr>\n",
              "      <th>4</th>\n",
              "      <td>0.0</td>\n",
              "      <td>0.5</td>\n",
              "      <td>0.0</td>\n",
              "      <td>0.021548</td>\n",
              "      <td>0.014680</td>\n",
              "      <td>0.041738</td>\n",
              "      <td>0.014617</td>\n",
              "      <td>8.070447e-10</td>\n",
              "      <td>0.857143</td>\n",
              "      <td>8.070447e-10</td>\n",
              "      <td>0.857143</td>\n",
              "      <td>0.833333</td>\n",
              "      <td>0.0</td>\n",
              "    </tr>\n",
              "  </tbody>\n",
              "</table>\n",
              "</div>"
            ],
            "text/plain": [
              "   Day  DayOfWeek  Hour  From Bank   Account   To Bank  Account.1  \\\n",
              "0  0.0        0.5   0.0   0.000287  0.001394  0.000556   0.001562   \n",
              "1  0.0        0.5   0.0   0.464377  0.004069  0.508084   0.004245   \n",
              "2  0.0        0.5   0.0   0.000287  0.001394  0.001668   0.014591   \n",
              "3  0.0        0.5   0.0   0.963361  0.014675  0.951082   0.014612   \n",
              "4  0.0        0.5   0.0   0.021548  0.014680  0.041738   0.014617   \n",
              "\n",
              "   Amount Received  Receiving Currency   Amount Paid  Payment Currency  \\\n",
              "0     8.766890e-07            0.857143  8.766890e-07          0.857143   \n",
              "1     5.100232e-10            0.857143  5.100232e-10          0.857143   \n",
              "2     1.625774e-07            0.857143  1.625774e-07          0.857143   \n",
              "3     3.380108e-12            0.857143  3.380108e-12          0.857143   \n",
              "4     8.070447e-10            0.857143  8.070447e-10          0.857143   \n",
              "\n",
              "   Payment Format  Is Laundering  \n",
              "0        0.833333            0.0  \n",
              "1        0.833333            0.0  \n",
              "2        0.500000            0.0  \n",
              "3        0.833333            0.0  \n",
              "4        0.833333            0.0  "
            ]
          },
          "execution_count": 62,
          "metadata": {},
          "output_type": "execute_result"
        }
      ],
      "source": [
        "# Create a DataFrame from the normalised data\n",
        "\n",
        "norm_li_st = pd.DataFrame(norm_data, columns = selected_columns)\n",
        "norm_li_st.head()"
      ]
    },
    {
      "cell_type": "code",
      "execution_count": null,
      "metadata": {
        "id": "wd3giQoRGOmr"
      },
      "outputs": [],
      "source": [
        "# Creating new file to avoid errors\n",
        "\n",
        "#norm_li_st.to_csv('small_transaction_norm_LI.csv', index= False)"
      ]
    },
    {
      "cell_type": "code",
      "execution_count": null,
      "metadata": {
        "id": "-XDojGXiGOms"
      },
      "outputs": [],
      "source": [
        "small_tn = pd.read_csv('small_transaction_norm_LI.csv')"
      ]
    },
    {
      "cell_type": "code",
      "execution_count": null,
      "metadata": {
        "id": "777MTcIsGOmt",
        "outputId": "1e2ae531-0be9-4f08-95f4-ee07c042cac9"
      },
      "outputs": [
        {
          "data": {
            "text/html": [
              "<div>\n",
              "<style scoped>\n",
              "    .dataframe tbody tr th:only-of-type {\n",
              "        vertical-align: middle;\n",
              "    }\n",
              "\n",
              "    .dataframe tbody tr th {\n",
              "        vertical-align: top;\n",
              "    }\n",
              "\n",
              "    .dataframe thead th {\n",
              "        text-align: right;\n",
              "    }\n",
              "</style>\n",
              "<table border=\"1\" class=\"dataframe\">\n",
              "  <thead>\n",
              "    <tr style=\"text-align: right;\">\n",
              "      <th></th>\n",
              "      <th>Day</th>\n",
              "      <th>DayOfWeek</th>\n",
              "      <th>Hour</th>\n",
              "      <th>From Bank</th>\n",
              "      <th>Account</th>\n",
              "      <th>To Bank</th>\n",
              "      <th>Account.1</th>\n",
              "      <th>Amount Received</th>\n",
              "      <th>Receiving Currency</th>\n",
              "      <th>Amount Paid</th>\n",
              "      <th>Payment Currency</th>\n",
              "      <th>Payment Format</th>\n",
              "      <th>Is Laundering</th>\n",
              "    </tr>\n",
              "  </thead>\n",
              "  <tbody>\n",
              "    <tr>\n",
              "      <th>0</th>\n",
              "      <td>0.0</td>\n",
              "      <td>0.5</td>\n",
              "      <td>0.0</td>\n",
              "      <td>0.000287</td>\n",
              "      <td>0.001394</td>\n",
              "      <td>0.000556</td>\n",
              "      <td>0.001562</td>\n",
              "      <td>8.766890e-07</td>\n",
              "      <td>0.857143</td>\n",
              "      <td>8.766890e-07</td>\n",
              "      <td>0.857143</td>\n",
              "      <td>0.833333</td>\n",
              "      <td>0.0</td>\n",
              "    </tr>\n",
              "    <tr>\n",
              "      <th>1</th>\n",
              "      <td>0.0</td>\n",
              "      <td>0.5</td>\n",
              "      <td>0.0</td>\n",
              "      <td>0.464377</td>\n",
              "      <td>0.004069</td>\n",
              "      <td>0.508084</td>\n",
              "      <td>0.004245</td>\n",
              "      <td>5.100232e-10</td>\n",
              "      <td>0.857143</td>\n",
              "      <td>5.100232e-10</td>\n",
              "      <td>0.857143</td>\n",
              "      <td>0.833333</td>\n",
              "      <td>0.0</td>\n",
              "    </tr>\n",
              "    <tr>\n",
              "      <th>2</th>\n",
              "      <td>0.0</td>\n",
              "      <td>0.5</td>\n",
              "      <td>0.0</td>\n",
              "      <td>0.000287</td>\n",
              "      <td>0.001394</td>\n",
              "      <td>0.001668</td>\n",
              "      <td>0.014591</td>\n",
              "      <td>1.625774e-07</td>\n",
              "      <td>0.857143</td>\n",
              "      <td>1.625774e-07</td>\n",
              "      <td>0.857143</td>\n",
              "      <td>0.500000</td>\n",
              "      <td>0.0</td>\n",
              "    </tr>\n",
              "    <tr>\n",
              "      <th>3</th>\n",
              "      <td>0.0</td>\n",
              "      <td>0.5</td>\n",
              "      <td>0.0</td>\n",
              "      <td>0.963361</td>\n",
              "      <td>0.014675</td>\n",
              "      <td>0.951082</td>\n",
              "      <td>0.014612</td>\n",
              "      <td>3.380108e-12</td>\n",
              "      <td>0.857143</td>\n",
              "      <td>3.380108e-12</td>\n",
              "      <td>0.857143</td>\n",
              "      <td>0.833333</td>\n",
              "      <td>0.0</td>\n",
              "    </tr>\n",
              "    <tr>\n",
              "      <th>4</th>\n",
              "      <td>0.0</td>\n",
              "      <td>0.5</td>\n",
              "      <td>0.0</td>\n",
              "      <td>0.021548</td>\n",
              "      <td>0.014680</td>\n",
              "      <td>0.041738</td>\n",
              "      <td>0.014617</td>\n",
              "      <td>8.070447e-10</td>\n",
              "      <td>0.857143</td>\n",
              "      <td>8.070447e-10</td>\n",
              "      <td>0.857143</td>\n",
              "      <td>0.833333</td>\n",
              "      <td>0.0</td>\n",
              "    </tr>\n",
              "  </tbody>\n",
              "</table>\n",
              "</div>"
            ],
            "text/plain": [
              "   Day  DayOfWeek  Hour  From Bank   Account   To Bank  Account.1  \\\n",
              "0  0.0        0.5   0.0   0.000287  0.001394  0.000556   0.001562   \n",
              "1  0.0        0.5   0.0   0.464377  0.004069  0.508084   0.004245   \n",
              "2  0.0        0.5   0.0   0.000287  0.001394  0.001668   0.014591   \n",
              "3  0.0        0.5   0.0   0.963361  0.014675  0.951082   0.014612   \n",
              "4  0.0        0.5   0.0   0.021548  0.014680  0.041738   0.014617   \n",
              "\n",
              "   Amount Received  Receiving Currency   Amount Paid  Payment Currency  \\\n",
              "0     8.766890e-07            0.857143  8.766890e-07          0.857143   \n",
              "1     5.100232e-10            0.857143  5.100232e-10          0.857143   \n",
              "2     1.625774e-07            0.857143  1.625774e-07          0.857143   \n",
              "3     3.380108e-12            0.857143  3.380108e-12          0.857143   \n",
              "4     8.070447e-10            0.857143  8.070447e-10          0.857143   \n",
              "\n",
              "   Payment Format  Is Laundering  \n",
              "0        0.833333            0.0  \n",
              "1        0.833333            0.0  \n",
              "2        0.500000            0.0  \n",
              "3        0.833333            0.0  \n",
              "4        0.833333            0.0  "
            ]
          },
          "execution_count": 4,
          "metadata": {},
          "output_type": "execute_result"
        }
      ],
      "source": [
        "small_tn.head()"
      ]
    },
    {
      "cell_type": "markdown",
      "metadata": {
        "id": "fCrZAxIXGOmv"
      },
      "source": [
        "## Classification"
      ]
    },
    {
      "cell_type": "code",
      "execution_count": null,
      "metadata": {
        "id": "lhzS9M0dGOmv",
        "outputId": "00eae0eb-521b-45bd-c498-eaa83bdb3fb9"
      },
      "outputs": [
        {
          "data": {
            "text/plain": [
              "array([[0.00000000e+00, 5.00000000e-01, 0.00000000e+00, ...,\n",
              "        8.76688969e-07, 8.57142857e-01, 8.33333333e-01],\n",
              "       [0.00000000e+00, 5.00000000e-01, 0.00000000e+00, ...,\n",
              "        5.10023219e-10, 8.57142857e-01, 8.33333333e-01],\n",
              "       [0.00000000e+00, 5.00000000e-01, 0.00000000e+00, ...,\n",
              "        1.62577446e-07, 8.57142857e-01, 5.00000000e-01],\n",
              "       ...,\n",
              "       [5.62500000e-01, 8.33333333e-01, 1.00000000e+00, ...,\n",
              "        3.58231117e-15, 7.14285714e-02, 1.66666667e-01],\n",
              "       [5.62500000e-01, 8.33333333e-01, 1.00000000e+00, ...,\n",
              "        1.13731864e-13, 7.14285714e-02, 1.66666667e-01],\n",
              "       [5.62500000e-01, 8.33333333e-01, 1.00000000e+00, ...,\n",
              "        9.40394407e-15, 7.14285714e-02, 1.66666667e-01]])"
            ]
          },
          "execution_count": 5,
          "metadata": {},
          "output_type": "execute_result"
        }
      ],
      "source": [
        "# Setting and Visualising the Predictor Values\n",
        "\n",
        "X = small_tn.iloc[:,:-1].values\n",
        "X"
      ]
    },
    {
      "cell_type": "code",
      "execution_count": null,
      "metadata": {
        "id": "NuZwQ6EsGOmw",
        "outputId": "ef8abe30-070c-49c9-e363-879cc10f3eed"
      },
      "outputs": [
        {
          "data": {
            "text/plain": [
              "array([0., 0., 0., ..., 0., 0., 0.])"
            ]
          },
          "execution_count": 6,
          "metadata": {},
          "output_type": "execute_result"
        }
      ],
      "source": [
        "# Setting and Visualising the Target value - Attribute Is laundering is selected >\n",
        "#to detrmine if the transaction is legit or illegal\n",
        "y = small_tn.iloc[:,-1].values\n",
        "y"
      ]
    },
    {
      "cell_type": "code",
      "execution_count": null,
      "metadata": {
        "id": "ZU4MPgGMGOmw",
        "outputId": "074a878b-c59e-434f-e4c7-2c1cc0bcd961"
      },
      "outputs": [
        {
          "name": "stdout",
          "output_type": "stream",
          "text": [
            "Defaulting to user installation because normal site-packages is not writeable\n",
            "Requirement already satisfied: imbalanced-learn in /home/up2215106/.local/lib/python3.6/site-packages (0.8.1)\n",
            "Requirement already satisfied: scipy>=0.19.1 in /home/anaconda3/lib/python3.6/site-packages (from imbalanced-learn) (1.5.2)\n",
            "Requirement already satisfied: numpy>=1.13.3 in /home/anaconda3/lib/python3.6/site-packages (from imbalanced-learn) (1.19.5)\n",
            "Requirement already satisfied: scikit-learn>=0.24 in /home/up2215106/.local/lib/python3.6/site-packages (from imbalanced-learn) (0.24.2)\n",
            "Requirement already satisfied: joblib>=0.11 in /home/anaconda3/lib/python3.6/site-packages (from imbalanced-learn) (0.16.0)\n",
            "Requirement already satisfied: threadpoolctl>=2.0.0 in /home/anaconda3/lib/python3.6/site-packages (from scikit-learn>=0.24->imbalanced-learn) (2.1.0)\n",
            "Note: you may need to restart the kernel to use updated packages.\n"
          ]
        }
      ],
      "source": [
        "pip install imbalanced-learn"
      ]
    },
    {
      "cell_type": "code",
      "execution_count": null,
      "metadata": {
        "id": "js8LmWJNGOmw"
      },
      "outputs": [],
      "source": [
        "# Implementing SMOTE to counter Class imbalance\n",
        "\n",
        "from imblearn.over_sampling import SMOTE\n",
        "\n",
        "X_resampled, y_resampled = SMOTE().fit_resample(X, y)"
      ]
    },
    {
      "cell_type": "code",
      "execution_count": null,
      "metadata": {
        "id": "4vTuFKwVGOmx"
      },
      "outputs": [],
      "source": [
        "# Spliting data into training and testing samples\n",
        "\n",
        "from sklearn.model_selection import train_test_split\n",
        "X_train, X_test, y_train, y_test = train_test_split(X_resampled, y_resampled, test_size=0.2, random_state=42)"
      ]
    },
    {
      "cell_type": "code",
      "execution_count": null,
      "metadata": {
        "id": "NkR91AuzGOmx",
        "outputId": "81c9cdfc-4fb4-49e6-863d-ae5e683ddb95"
      },
      "outputs": [
        {
          "ename": "KeyboardInterrupt",
          "evalue": "",
          "output_type": "error",
          "traceback": [
            "\u001b[0;31m---------------------------------------------------------------------------\u001b[0m",
            "\u001b[0;31mKeyboardInterrupt\u001b[0m                         Traceback (most recent call last)",
            "\u001b[0;32m<ipython-input-10-a45bc457f058>\u001b[0m in \u001b[0;36m<module>\u001b[0;34m\u001b[0m\n\u001b[1;32m     11\u001b[0m \u001b[0mclf\u001b[0m \u001b[0;34m=\u001b[0m \u001b[0mRandomForestClassifier\u001b[0m\u001b[0;34m(\u001b[0m\u001b[0mn_estimators\u001b[0m\u001b[0;34m=\u001b[0m\u001b[0;36m100\u001b[0m\u001b[0;34m)\u001b[0m\u001b[0;34m\u001b[0m\u001b[0;34m\u001b[0m\u001b[0m\n\u001b[1;32m     12\u001b[0m \u001b[0;34m\u001b[0m\u001b[0m\n\u001b[0;32m---> 13\u001b[0;31m \u001b[0mclf\u001b[0m \u001b[0;34m=\u001b[0m \u001b[0mclf\u001b[0m\u001b[0;34m.\u001b[0m\u001b[0mfit\u001b[0m\u001b[0;34m(\u001b[0m\u001b[0mX_train\u001b[0m\u001b[0;34m,\u001b[0m \u001b[0my_train\u001b[0m\u001b[0;34m)\u001b[0m\u001b[0;34m\u001b[0m\u001b[0;34m\u001b[0m\u001b[0m\n\u001b[0m\u001b[1;32m     14\u001b[0m \u001b[0my_pred\u001b[0m \u001b[0;34m=\u001b[0m \u001b[0mclf\u001b[0m\u001b[0;34m.\u001b[0m\u001b[0mpredict\u001b[0m\u001b[0;34m(\u001b[0m\u001b[0mX_test\u001b[0m\u001b[0;34m)\u001b[0m\u001b[0;34m\u001b[0m\u001b[0;34m\u001b[0m\u001b[0m\n\u001b[1;32m     15\u001b[0m \u001b[0;34m\u001b[0m\u001b[0m\n",
            "\u001b[0;32m~/.local/lib/python3.6/site-packages/sklearn/ensemble/_forest.py\u001b[0m in \u001b[0;36mfit\u001b[0;34m(self, X, y, sample_weight)\u001b[0m\n\u001b[1;32m    391\u001b[0m                     \u001b[0mverbose\u001b[0m\u001b[0;34m=\u001b[0m\u001b[0mself\u001b[0m\u001b[0;34m.\u001b[0m\u001b[0mverbose\u001b[0m\u001b[0;34m,\u001b[0m \u001b[0mclass_weight\u001b[0m\u001b[0;34m=\u001b[0m\u001b[0mself\u001b[0m\u001b[0;34m.\u001b[0m\u001b[0mclass_weight\u001b[0m\u001b[0;34m,\u001b[0m\u001b[0;34m\u001b[0m\u001b[0;34m\u001b[0m\u001b[0m\n\u001b[1;32m    392\u001b[0m                     n_samples_bootstrap=n_samples_bootstrap)\n\u001b[0;32m--> 393\u001b[0;31m                 for i, t in enumerate(trees))\n\u001b[0m\u001b[1;32m    394\u001b[0m \u001b[0;34m\u001b[0m\u001b[0m\n\u001b[1;32m    395\u001b[0m             \u001b[0;31m# Collect newly grown trees\u001b[0m\u001b[0;34m\u001b[0m\u001b[0;34m\u001b[0m\u001b[0;34m\u001b[0m\u001b[0m\n",
            "\u001b[0;32m/home/anaconda3/lib/python3.6/site-packages/joblib/parallel.py\u001b[0m in \u001b[0;36m__call__\u001b[0;34m(self, iterable)\u001b[0m\n\u001b[1;32m   1030\u001b[0m                 \u001b[0mself\u001b[0m\u001b[0;34m.\u001b[0m\u001b[0m_iterating\u001b[0m \u001b[0;34m=\u001b[0m \u001b[0mself\u001b[0m\u001b[0;34m.\u001b[0m\u001b[0m_original_iterator\u001b[0m \u001b[0;32mis\u001b[0m \u001b[0;32mnot\u001b[0m \u001b[0;32mNone\u001b[0m\u001b[0;34m\u001b[0m\u001b[0;34m\u001b[0m\u001b[0m\n\u001b[1;32m   1031\u001b[0m \u001b[0;34m\u001b[0m\u001b[0m\n\u001b[0;32m-> 1032\u001b[0;31m             \u001b[0;32mwhile\u001b[0m \u001b[0mself\u001b[0m\u001b[0;34m.\u001b[0m\u001b[0mdispatch_one_batch\u001b[0m\u001b[0;34m(\u001b[0m\u001b[0miterator\u001b[0m\u001b[0;34m)\u001b[0m\u001b[0;34m:\u001b[0m\u001b[0;34m\u001b[0m\u001b[0;34m\u001b[0m\u001b[0m\n\u001b[0m\u001b[1;32m   1033\u001b[0m                 \u001b[0;32mpass\u001b[0m\u001b[0;34m\u001b[0m\u001b[0;34m\u001b[0m\u001b[0m\n\u001b[1;32m   1034\u001b[0m \u001b[0;34m\u001b[0m\u001b[0m\n",
            "\u001b[0;32m/home/anaconda3/lib/python3.6/site-packages/joblib/parallel.py\u001b[0m in \u001b[0;36mdispatch_one_batch\u001b[0;34m(self, iterator)\u001b[0m\n\u001b[1;32m    845\u001b[0m                 \u001b[0;32mreturn\u001b[0m \u001b[0;32mFalse\u001b[0m\u001b[0;34m\u001b[0m\u001b[0;34m\u001b[0m\u001b[0m\n\u001b[1;32m    846\u001b[0m             \u001b[0;32melse\u001b[0m\u001b[0;34m:\u001b[0m\u001b[0;34m\u001b[0m\u001b[0;34m\u001b[0m\u001b[0m\n\u001b[0;32m--> 847\u001b[0;31m                 \u001b[0mself\u001b[0m\u001b[0;34m.\u001b[0m\u001b[0m_dispatch\u001b[0m\u001b[0;34m(\u001b[0m\u001b[0mtasks\u001b[0m\u001b[0;34m)\u001b[0m\u001b[0;34m\u001b[0m\u001b[0;34m\u001b[0m\u001b[0m\n\u001b[0m\u001b[1;32m    848\u001b[0m                 \u001b[0;32mreturn\u001b[0m \u001b[0;32mTrue\u001b[0m\u001b[0;34m\u001b[0m\u001b[0;34m\u001b[0m\u001b[0m\n\u001b[1;32m    849\u001b[0m \u001b[0;34m\u001b[0m\u001b[0m\n",
            "\u001b[0;32m/home/anaconda3/lib/python3.6/site-packages/joblib/parallel.py\u001b[0m in \u001b[0;36m_dispatch\u001b[0;34m(self, batch)\u001b[0m\n\u001b[1;32m    763\u001b[0m         \u001b[0;32mwith\u001b[0m \u001b[0mself\u001b[0m\u001b[0;34m.\u001b[0m\u001b[0m_lock\u001b[0m\u001b[0;34m:\u001b[0m\u001b[0;34m\u001b[0m\u001b[0;34m\u001b[0m\u001b[0m\n\u001b[1;32m    764\u001b[0m             \u001b[0mjob_idx\u001b[0m \u001b[0;34m=\u001b[0m \u001b[0mlen\u001b[0m\u001b[0;34m(\u001b[0m\u001b[0mself\u001b[0m\u001b[0;34m.\u001b[0m\u001b[0m_jobs\u001b[0m\u001b[0;34m)\u001b[0m\u001b[0;34m\u001b[0m\u001b[0;34m\u001b[0m\u001b[0m\n\u001b[0;32m--> 765\u001b[0;31m             \u001b[0mjob\u001b[0m \u001b[0;34m=\u001b[0m \u001b[0mself\u001b[0m\u001b[0;34m.\u001b[0m\u001b[0m_backend\u001b[0m\u001b[0;34m.\u001b[0m\u001b[0mapply_async\u001b[0m\u001b[0;34m(\u001b[0m\u001b[0mbatch\u001b[0m\u001b[0;34m,\u001b[0m \u001b[0mcallback\u001b[0m\u001b[0;34m=\u001b[0m\u001b[0mcb\u001b[0m\u001b[0;34m)\u001b[0m\u001b[0;34m\u001b[0m\u001b[0;34m\u001b[0m\u001b[0m\n\u001b[0m\u001b[1;32m    766\u001b[0m             \u001b[0;31m# A job can complete so quickly than its callback is\u001b[0m\u001b[0;34m\u001b[0m\u001b[0;34m\u001b[0m\u001b[0;34m\u001b[0m\u001b[0m\n\u001b[1;32m    767\u001b[0m             \u001b[0;31m# called before we get here, causing self._jobs to\u001b[0m\u001b[0;34m\u001b[0m\u001b[0;34m\u001b[0m\u001b[0;34m\u001b[0m\u001b[0m\n",
            "\u001b[0;32m/home/anaconda3/lib/python3.6/site-packages/joblib/_parallel_backends.py\u001b[0m in \u001b[0;36mapply_async\u001b[0;34m(self, func, callback)\u001b[0m\n\u001b[1;32m    206\u001b[0m     \u001b[0;32mdef\u001b[0m \u001b[0mapply_async\u001b[0m\u001b[0;34m(\u001b[0m\u001b[0mself\u001b[0m\u001b[0;34m,\u001b[0m \u001b[0mfunc\u001b[0m\u001b[0;34m,\u001b[0m \u001b[0mcallback\u001b[0m\u001b[0;34m=\u001b[0m\u001b[0;32mNone\u001b[0m\u001b[0;34m)\u001b[0m\u001b[0;34m:\u001b[0m\u001b[0;34m\u001b[0m\u001b[0;34m\u001b[0m\u001b[0m\n\u001b[1;32m    207\u001b[0m         \u001b[0;34m\"\"\"Schedule a func to be run\"\"\"\u001b[0m\u001b[0;34m\u001b[0m\u001b[0;34m\u001b[0m\u001b[0m\n\u001b[0;32m--> 208\u001b[0;31m         \u001b[0mresult\u001b[0m \u001b[0;34m=\u001b[0m \u001b[0mImmediateResult\u001b[0m\u001b[0;34m(\u001b[0m\u001b[0mfunc\u001b[0m\u001b[0;34m)\u001b[0m\u001b[0;34m\u001b[0m\u001b[0;34m\u001b[0m\u001b[0m\n\u001b[0m\u001b[1;32m    209\u001b[0m         \u001b[0;32mif\u001b[0m \u001b[0mcallback\u001b[0m\u001b[0;34m:\u001b[0m\u001b[0;34m\u001b[0m\u001b[0;34m\u001b[0m\u001b[0m\n\u001b[1;32m    210\u001b[0m             \u001b[0mcallback\u001b[0m\u001b[0;34m(\u001b[0m\u001b[0mresult\u001b[0m\u001b[0;34m)\u001b[0m\u001b[0;34m\u001b[0m\u001b[0;34m\u001b[0m\u001b[0m\n",
            "\u001b[0;32m/home/anaconda3/lib/python3.6/site-packages/joblib/_parallel_backends.py\u001b[0m in \u001b[0;36m__init__\u001b[0;34m(self, batch)\u001b[0m\n\u001b[1;32m    570\u001b[0m         \u001b[0;31m# Don't delay the application, to avoid keeping the input\u001b[0m\u001b[0;34m\u001b[0m\u001b[0;34m\u001b[0m\u001b[0;34m\u001b[0m\u001b[0m\n\u001b[1;32m    571\u001b[0m         \u001b[0;31m# arguments in memory\u001b[0m\u001b[0;34m\u001b[0m\u001b[0;34m\u001b[0m\u001b[0;34m\u001b[0m\u001b[0m\n\u001b[0;32m--> 572\u001b[0;31m         \u001b[0mself\u001b[0m\u001b[0;34m.\u001b[0m\u001b[0mresults\u001b[0m \u001b[0;34m=\u001b[0m \u001b[0mbatch\u001b[0m\u001b[0;34m(\u001b[0m\u001b[0;34m)\u001b[0m\u001b[0;34m\u001b[0m\u001b[0;34m\u001b[0m\u001b[0m\n\u001b[0m\u001b[1;32m    573\u001b[0m \u001b[0;34m\u001b[0m\u001b[0m\n\u001b[1;32m    574\u001b[0m     \u001b[0;32mdef\u001b[0m \u001b[0mget\u001b[0m\u001b[0;34m(\u001b[0m\u001b[0mself\u001b[0m\u001b[0;34m)\u001b[0m\u001b[0;34m:\u001b[0m\u001b[0;34m\u001b[0m\u001b[0;34m\u001b[0m\u001b[0m\n",
            "\u001b[0;32m/home/anaconda3/lib/python3.6/site-packages/joblib/parallel.py\u001b[0m in \u001b[0;36m__call__\u001b[0;34m(self)\u001b[0m\n\u001b[1;32m    251\u001b[0m         \u001b[0;32mwith\u001b[0m \u001b[0mparallel_backend\u001b[0m\u001b[0;34m(\u001b[0m\u001b[0mself\u001b[0m\u001b[0;34m.\u001b[0m\u001b[0m_backend\u001b[0m\u001b[0;34m,\u001b[0m \u001b[0mn_jobs\u001b[0m\u001b[0;34m=\u001b[0m\u001b[0mself\u001b[0m\u001b[0;34m.\u001b[0m\u001b[0m_n_jobs\u001b[0m\u001b[0;34m)\u001b[0m\u001b[0;34m:\u001b[0m\u001b[0;34m\u001b[0m\u001b[0;34m\u001b[0m\u001b[0m\n\u001b[1;32m    252\u001b[0m             return [func(*args, **kwargs)\n\u001b[0;32m--> 253\u001b[0;31m                     for func, args, kwargs in self.items]\n\u001b[0m\u001b[1;32m    254\u001b[0m \u001b[0;34m\u001b[0m\u001b[0m\n\u001b[1;32m    255\u001b[0m     \u001b[0;32mdef\u001b[0m \u001b[0m__reduce__\u001b[0m\u001b[0;34m(\u001b[0m\u001b[0mself\u001b[0m\u001b[0;34m)\u001b[0m\u001b[0;34m:\u001b[0m\u001b[0;34m\u001b[0m\u001b[0;34m\u001b[0m\u001b[0m\n",
            "\u001b[0;32m/home/anaconda3/lib/python3.6/site-packages/joblib/parallel.py\u001b[0m in \u001b[0;36m<listcomp>\u001b[0;34m(.0)\u001b[0m\n\u001b[1;32m    251\u001b[0m         \u001b[0;32mwith\u001b[0m \u001b[0mparallel_backend\u001b[0m\u001b[0;34m(\u001b[0m\u001b[0mself\u001b[0m\u001b[0;34m.\u001b[0m\u001b[0m_backend\u001b[0m\u001b[0;34m,\u001b[0m \u001b[0mn_jobs\u001b[0m\u001b[0;34m=\u001b[0m\u001b[0mself\u001b[0m\u001b[0;34m.\u001b[0m\u001b[0m_n_jobs\u001b[0m\u001b[0;34m)\u001b[0m\u001b[0;34m:\u001b[0m\u001b[0;34m\u001b[0m\u001b[0;34m\u001b[0m\u001b[0m\n\u001b[1;32m    252\u001b[0m             return [func(*args, **kwargs)\n\u001b[0;32m--> 253\u001b[0;31m                     for func, args, kwargs in self.items]\n\u001b[0m\u001b[1;32m    254\u001b[0m \u001b[0;34m\u001b[0m\u001b[0m\n\u001b[1;32m    255\u001b[0m     \u001b[0;32mdef\u001b[0m \u001b[0m__reduce__\u001b[0m\u001b[0;34m(\u001b[0m\u001b[0mself\u001b[0m\u001b[0;34m)\u001b[0m\u001b[0;34m:\u001b[0m\u001b[0;34m\u001b[0m\u001b[0;34m\u001b[0m\u001b[0m\n",
            "\u001b[0;32m~/.local/lib/python3.6/site-packages/sklearn/utils/fixes.py\u001b[0m in \u001b[0;36m__call__\u001b[0;34m(self, *args, **kwargs)\u001b[0m\n\u001b[1;32m    220\u001b[0m     \u001b[0;32mdef\u001b[0m \u001b[0m__call__\u001b[0m\u001b[0;34m(\u001b[0m\u001b[0mself\u001b[0m\u001b[0;34m,\u001b[0m \u001b[0;34m*\u001b[0m\u001b[0margs\u001b[0m\u001b[0;34m,\u001b[0m \u001b[0;34m**\u001b[0m\u001b[0mkwargs\u001b[0m\u001b[0;34m)\u001b[0m\u001b[0;34m:\u001b[0m\u001b[0;34m\u001b[0m\u001b[0;34m\u001b[0m\u001b[0m\n\u001b[1;32m    221\u001b[0m         \u001b[0;32mwith\u001b[0m \u001b[0mconfig_context\u001b[0m\u001b[0;34m(\u001b[0m\u001b[0;34m**\u001b[0m\u001b[0mself\u001b[0m\u001b[0;34m.\u001b[0m\u001b[0mconfig\u001b[0m\u001b[0;34m)\u001b[0m\u001b[0;34m:\u001b[0m\u001b[0;34m\u001b[0m\u001b[0;34m\u001b[0m\u001b[0m\n\u001b[0;32m--> 222\u001b[0;31m             \u001b[0;32mreturn\u001b[0m \u001b[0mself\u001b[0m\u001b[0;34m.\u001b[0m\u001b[0mfunction\u001b[0m\u001b[0;34m(\u001b[0m\u001b[0;34m*\u001b[0m\u001b[0margs\u001b[0m\u001b[0;34m,\u001b[0m \u001b[0;34m**\u001b[0m\u001b[0mkwargs\u001b[0m\u001b[0;34m)\u001b[0m\u001b[0;34m\u001b[0m\u001b[0;34m\u001b[0m\u001b[0m\n\u001b[0m",
            "\u001b[0;32m~/.local/lib/python3.6/site-packages/sklearn/ensemble/_forest.py\u001b[0m in \u001b[0;36m_parallel_build_trees\u001b[0;34m(tree, forest, X, y, sample_weight, tree_idx, n_trees, verbose, class_weight, n_samples_bootstrap)\u001b[0m\n\u001b[1;32m    167\u001b[0m                                                         indices=indices)\n\u001b[1;32m    168\u001b[0m \u001b[0;34m\u001b[0m\u001b[0m\n\u001b[0;32m--> 169\u001b[0;31m         \u001b[0mtree\u001b[0m\u001b[0;34m.\u001b[0m\u001b[0mfit\u001b[0m\u001b[0;34m(\u001b[0m\u001b[0mX\u001b[0m\u001b[0;34m,\u001b[0m \u001b[0my\u001b[0m\u001b[0;34m,\u001b[0m \u001b[0msample_weight\u001b[0m\u001b[0;34m=\u001b[0m\u001b[0mcurr_sample_weight\u001b[0m\u001b[0;34m,\u001b[0m \u001b[0mcheck_input\u001b[0m\u001b[0;34m=\u001b[0m\u001b[0;32mFalse\u001b[0m\u001b[0;34m)\u001b[0m\u001b[0;34m\u001b[0m\u001b[0;34m\u001b[0m\u001b[0m\n\u001b[0m\u001b[1;32m    170\u001b[0m     \u001b[0;32melse\u001b[0m\u001b[0;34m:\u001b[0m\u001b[0;34m\u001b[0m\u001b[0;34m\u001b[0m\u001b[0m\n\u001b[1;32m    171\u001b[0m         \u001b[0mtree\u001b[0m\u001b[0;34m.\u001b[0m\u001b[0mfit\u001b[0m\u001b[0;34m(\u001b[0m\u001b[0mX\u001b[0m\u001b[0;34m,\u001b[0m \u001b[0my\u001b[0m\u001b[0;34m,\u001b[0m \u001b[0msample_weight\u001b[0m\u001b[0;34m=\u001b[0m\u001b[0msample_weight\u001b[0m\u001b[0;34m,\u001b[0m \u001b[0mcheck_input\u001b[0m\u001b[0;34m=\u001b[0m\u001b[0;32mFalse\u001b[0m\u001b[0;34m)\u001b[0m\u001b[0;34m\u001b[0m\u001b[0;34m\u001b[0m\u001b[0m\n",
            "\u001b[0;32m~/.local/lib/python3.6/site-packages/sklearn/tree/_classes.py\u001b[0m in \u001b[0;36mfit\u001b[0;34m(self, X, y, sample_weight, check_input, X_idx_sorted)\u001b[0m\n\u001b[1;32m    905\u001b[0m             \u001b[0msample_weight\u001b[0m\u001b[0;34m=\u001b[0m\u001b[0msample_weight\u001b[0m\u001b[0;34m,\u001b[0m\u001b[0;34m\u001b[0m\u001b[0;34m\u001b[0m\u001b[0m\n\u001b[1;32m    906\u001b[0m             \u001b[0mcheck_input\u001b[0m\u001b[0;34m=\u001b[0m\u001b[0mcheck_input\u001b[0m\u001b[0;34m,\u001b[0m\u001b[0;34m\u001b[0m\u001b[0;34m\u001b[0m\u001b[0m\n\u001b[0;32m--> 907\u001b[0;31m             X_idx_sorted=X_idx_sorted)\n\u001b[0m\u001b[1;32m    908\u001b[0m         \u001b[0;32mreturn\u001b[0m \u001b[0mself\u001b[0m\u001b[0;34m\u001b[0m\u001b[0;34m\u001b[0m\u001b[0m\n\u001b[1;32m    909\u001b[0m \u001b[0;34m\u001b[0m\u001b[0m\n",
            "\u001b[0;32m~/.local/lib/python3.6/site-packages/sklearn/tree/_classes.py\u001b[0m in \u001b[0;36mfit\u001b[0;34m(self, X, y, sample_weight, check_input, X_idx_sorted)\u001b[0m\n\u001b[1;32m    392\u001b[0m                                            min_impurity_split)\n\u001b[1;32m    393\u001b[0m \u001b[0;34m\u001b[0m\u001b[0m\n\u001b[0;32m--> 394\u001b[0;31m         \u001b[0mbuilder\u001b[0m\u001b[0;34m.\u001b[0m\u001b[0mbuild\u001b[0m\u001b[0;34m(\u001b[0m\u001b[0mself\u001b[0m\u001b[0;34m.\u001b[0m\u001b[0mtree_\u001b[0m\u001b[0;34m,\u001b[0m \u001b[0mX\u001b[0m\u001b[0;34m,\u001b[0m \u001b[0my\u001b[0m\u001b[0;34m,\u001b[0m \u001b[0msample_weight\u001b[0m\u001b[0;34m)\u001b[0m\u001b[0;34m\u001b[0m\u001b[0;34m\u001b[0m\u001b[0m\n\u001b[0m\u001b[1;32m    395\u001b[0m \u001b[0;34m\u001b[0m\u001b[0m\n\u001b[1;32m    396\u001b[0m         \u001b[0;32mif\u001b[0m \u001b[0mself\u001b[0m\u001b[0;34m.\u001b[0m\u001b[0mn_outputs_\u001b[0m \u001b[0;34m==\u001b[0m \u001b[0;36m1\u001b[0m \u001b[0;32mand\u001b[0m \u001b[0mis_classifier\u001b[0m\u001b[0;34m(\u001b[0m\u001b[0mself\u001b[0m\u001b[0;34m)\u001b[0m\u001b[0;34m:\u001b[0m\u001b[0;34m\u001b[0m\u001b[0;34m\u001b[0m\u001b[0m\n",
            "\u001b[0;31mKeyboardInterrupt\u001b[0m: "
          ]
        }
      ],
      "source": [
        "##############################################\n",
        "###  Classification  - Random Forest       ###\n",
        "##############################################\n",
        "\n",
        "from sklearn.ensemble import RandomForestClassifier\n",
        "from sklearn import metrics\n",
        "from sklearn.metrics import confusion_matrix\n",
        "from sklearn.metrics import accuracy_score, confusion_matrix, classification_report, roc_auc_score\n",
        "import seaborn as sns\n",
        "\n",
        "clf = RandomForestClassifier(n_estimators=100)\n",
        "\n",
        "clf = clf.fit(X_train, y_train)\n",
        "y_pred = clf.predict(X_test)\n",
        "\n",
        "# Evaluation measures\n",
        "print (\"Accuracy = %.2f\" % metrics.accuracy_score(y_test, y_pred))\n",
        "print (\"Precision: %.2f\" % metrics.precision_score(y_test, y_pred))\n",
        "print (\"Recall: %.2f\" % metrics.recall_score(y_test, y_pred))\n",
        "print (\"F1 Measure: %.2f\" % metrics.f1_score(y_test, y_pred))\n",
        "print (\"Confusion Matrix:\")\n",
        "cm = metrics.confusion_matrix(y_test, y_pred)\n",
        "sns.heatmap(cm, annot=True)"
      ]
    },
    {
      "cell_type": "code",
      "execution_count": null,
      "metadata": {
        "id": "YmFLd6SzGOm0",
        "outputId": "c500022f-a317-4670-dad9-dfb92e3e03ef"
      },
      "outputs": [
        {
          "name": "stdout",
          "output_type": "stream",
          "text": [
            "Mean Absolute Error: 0.0005177605592102888\n",
            "Mean Squared Error: 0.0005177605592102888\n",
            "Root Mean Squared Error: 0.022754352533313024 \n",
            "\n",
            "              precision    recall  f1-score   support\n",
            "\n",
            "         0.0       1.00      1.00      1.00   1384099\n",
            "         1.0       0.45      0.04      0.07       711\n",
            "\n",
            "    accuracy                           1.00   1384810\n",
            "   macro avg       0.72      0.52      0.53   1384810\n",
            "weighted avg       1.00      1.00      1.00   1384810\n",
            "\n",
            "Accuracy: 0.9994822394407897\n",
            "AUC: 0.5175696733903439\n"
          ]
        }
      ],
      "source": [
        "#print(confusion_matrix(y_test, y_pred), '\\n')\n",
        "print('Mean Absolute Error:', metrics.mean_absolute_error(y_test, y_pred))\n",
        "print('Mean Squared Error:', metrics.mean_squared_error(y_test, y_pred))\n",
        "print('Root Mean Squared Error:', np.sqrt(metrics.mean_squared_error(y_test, y_pred)), '\\n')\n",
        "\n",
        "print(classification_report(y_test, y_pred))\n",
        "print(\"Accuracy:\", accuracy_score(y_test, y_pred))\n",
        "print(\"AUC:\", roc_auc_score(y_test, y_pred))"
      ]
    },
    {
      "cell_type": "code",
      "execution_count": null,
      "metadata": {
        "id": "Rs1zzetVGOm0"
      },
      "outputs": [],
      "source": []
    }
  ],
  "metadata": {
    "kernelspec": {
      "display_name": "Python 3",
      "language": "python",
      "name": "python3"
    },
    "language_info": {
      "codemirror_mode": {
        "name": "ipython",
        "version": 3
      },
      "file_extension": ".py",
      "mimetype": "text/x-python",
      "name": "python",
      "nbconvert_exporter": "python",
      "pygments_lexer": "ipython3",
      "version": "3.6.10"
    },
    "colab": {
      "provenance": []
    }
  },
  "nbformat": 4,
  "nbformat_minor": 0
}